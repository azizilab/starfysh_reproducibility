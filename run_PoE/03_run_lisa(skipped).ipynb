{
 "cells": [
  {
   "cell_type": "code",
   "execution_count": 1,
   "id": "d2e4fe70-799e-440e-8049-a85ff16f59d9",
   "metadata": {},
   "outputs": [
    {
     "name": "stderr",
     "output_type": "stream",
     "text": [
      "Loading required package: grid\n",
      "\n",
      "========================================\n",
      "ComplexHeatmap version 2.11.1\n",
      "Bioconductor page: http://bioconductor.org/packages/ComplexHeatmap/\n",
      "Github page: https://github.com/jokergoo/ComplexHeatmap\n",
      "Documentation: http://jokergoo.github.io/ComplexHeatmap-reference\n",
      "\n",
      "If you use it in published research, please cite:\n",
      "Gu, Z. Complex heatmaps reveal patterns and correlations in multidimensional \n",
      "  genomic data. Bioinformatics 2016.\n",
      "\n",
      "The new InteractiveComplexHeatmap package can directly export static \n",
      "complex heatmaps into an interactive Shiny app with zero effort. Have a try!\n",
      "\n",
      "This message can be suppressed by:\n",
      "  suppressPackageStartupMessages(library(ComplexHeatmap))\n",
      "========================================\n",
      "\n",
      "\n"
     ]
    }
   ],
   "source": [
    "rm(list=ls())\n",
    "\n",
    "suppressMessages(library(MERINGUE))\n",
    "library(ComplexHeatmap)"
   ]
  },
  {
   "cell_type": "code",
   "execution_count": 2,
   "id": "31adca8c-face-4079-89bb-cd4e36146907",
   "metadata": {},
   "outputs": [],
   "source": [
    "setwd('~/Spatial_project')\n",
    "all_bc_meta = read.csv('~/Spatial_project/data/all_bc_meta_new.csv')\n",
    "slisa_df_all = data.frame()\n",
    "source_all = c()\n",
    "bn_df_all = data.frame()\n",
    "ct_all = c()\n",
    "slisa_all = data.frame()\n",
    "\n",
    "sample_ids = {c('MBC_1A',\n",
    "             'MBC_1B',\n",
    "             #'MBC_2A',\n",
    "             #'MBC_2B',\n",
    "             #'MBC_3A',\n",
    "             #'MBC_3B',\n",
    "             #'MBC_4A',\n",
    "             'MBC_4B',\n",
    "             #'CID4465',\n",
    "             'CID444971',\n",
    "             #'1142243F',\n",
    "             '1160920F')\n",
    "}\n"
   ]
  },
  {
   "cell_type": "code",
   "execution_count": 3,
   "id": "d398c574-06f1-423b-8d83-b74bed78158b",
   "metadata": {},
   "outputs": [
    {
     "name": "stdout",
     "output_type": "stream",
     "text": [
      "[1] \"working onMBC_1A\"\n",
      "[1] \"working onMBC_1B\"\n",
      "[1] \"working onMBC_4B\"\n",
      "[1] \"working onCID444971\"\n",
      "[1] \"working on1160920F\"\n"
     ]
    }
   ],
   "source": [
    "for (sample_id in sample_ids){\n",
    "  print(paste0('working on',sample_id))\n",
    "  bn_df = read.csv(paste0('~/Spatial_project/results/02_PoE_factor/',sample_id,'nb_file.csv'),row.names = 1)\n",
    "  pos = read.csv(paste0('~/Spatial_project/data/',sample_id,'/spatial/tissue_positions_list.csv'),row.names = 1,header = FALSE)\n",
    "  pos = pos[row.names(bn_df),]\n",
    "  # normalize data\n",
    "  bn_df_n = bn_df\n",
    "  for(col in colnames(bn_df)){\n",
    "    bn_df_n[,col] = bn_df[,col]/max(max(bn_df))\n",
    "  }\n",
    "  row.names(bn_df_n)= paste0(row.names(bn_df),'_',sample_id)\n",
    "  row.names(pos)= paste0(row.names(pos),'_',sample_id)\n",
    "  bn_df_all = rbind(bn_df_all,bn_df_n)\n",
    "  \n",
    "  source_all = c(source_all,rep(all_bc_meta[which(all_bc_meta[,'sample_id']==sample_id),'sample_id'],nrow(bn_df)))\n",
    "  ct_all = c(ct_all,rep(all_bc_meta[which(all_bc_meta[,'sample_id']==sample_id),'cancer_type'],nrow(bn_df))) \n",
    "  weight <- getSpatialNeighbors(pos[row.names(bn_df_n),c('V5','V6')])\n",
    "  tmp = data.frame(row.names = row.names(bn_df_n))\n",
    "  \n",
    "  for(bn in colnames(bn_df)){\n",
    "    gexp <- bn_df_n[,bn]#/max(bn_df_2A_n[,bn])#bn_all_n[,col] = bn_all[,col]/max(bn_all[,col])\n",
    "    names(gexp) = row.names(bn_df_n)\n",
    "    slisa <- signedLisa(gexp, weight)\n",
    "    tmp[,bn] = slisa\n",
    "  }\n",
    "  slisa_all = rbind(slisa_all,tmp)\n",
    "}"
   ]
  },
  {
   "cell_type": "code",
   "execution_count": 4,
   "id": "31f4a9e4-5fb0-4679-9d0a-ab1113e72261",
   "metadata": {},
   "outputs": [],
   "source": [
    "write.csv(bn_df_all,file=paste0('~/Spatial_project/results/03_hubs/','all_bn_tumors.csv'))\n",
    "write.csv(source_all,file=paste0('~/Spatial_project/results/03_hubs/','all_source_tumors.csv'))\n",
    "write.csv(ct_all,file=paste0('~/Spatial_project/results/03_hubs/','all_ct_tumors.csv'))\n",
    "write.csv(slisa_all,file=paste0('~/Spatial_project/results/03_hubs/','all_slisa_tumors.csv'))"
   ]
  },
  {
   "cell_type": "code",
   "execution_count": null,
   "id": "29bf197e-11f5-4b83-8295-7ce08b246eca",
   "metadata": {},
   "outputs": [],
   "source": []
  }
 ],
 "metadata": {
  "kernelspec": {
   "display_name": "R",
   "language": "R",
   "name": "ir"
  },
  "language_info": {
   "codemirror_mode": "r",
   "file_extension": ".r",
   "mimetype": "text/x-r-source",
   "name": "R",
   "pygments_lexer": "r",
   "version": "4.1.1"
  }
 },
 "nbformat": 4,
 "nbformat_minor": 5
}
