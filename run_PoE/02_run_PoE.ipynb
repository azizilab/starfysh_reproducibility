{
 "cells": [
  {
   "cell_type": "markdown",
   "id": "eedc6709-a16e-4b31-8bae-a9dce025a18e",
   "metadata": {},
   "source": [
    "## PoE model - run all\n",
    "\n",
    "Step0: get gsva score,\n",
    "\n",
    "Step1: run all PoE, 12 datasets\n",
    "\n",
    "2021-12-15"
   ]
  },
  {
   "cell_type": "code",
   "execution_count": null,
   "id": "3c463aa7-c2c2-44c3-8900-d342ccbec6c9",
   "metadata": {},
   "outputs": [],
   "source": [
    "import scanpy as sc\n",
    "import pandas as pd\n",
    "import seaborn as sns\n",
    "import numpy as np\n",
    "from skimage import io\n",
    "import matplotlib.pyplot as plt\n",
    "import matplotlib.cm as cmx\n",
    "import matplotlib.colors as colors\n",
    "import sys\n",
    "import os\n",
    "os.environ['CUDA_LAUNCH_BLOCKING'] = \"1\"\n",
    "import torch\n",
    "import torch.optim as optim\n",
    "import torch.nn as nn\n",
    "\n",
    "import torchvision.transforms as transforms\n",
    "import torchvision\n",
    "from torch.utils.data import DataLoader\n",
    "from torchvision.utils import make_grid\n",
    "torch.manual_seed(0)\n",
    "np.random.seed(0)\n",
    "import random\n",
    "random.seed(0)"
   ]
  },
  {
   "cell_type": "code",
   "execution_count": 2,
   "id": "1a01bf32-3345-46af-aef3-8fd1cf1af520",
   "metadata": {},
   "outputs": [],
   "source": [
    "# import PoE module\n",
    "sys.path.append('/Users/siyuhe/Spatial_project')\n",
    "import PoE.utils as utils\n",
    "import PoE.dataloader_1002 as dataloader\n",
    "import PoE.utils_plots as utils_plots\n",
    "import PoE.main as main\n",
    "\n",
    "import anndata"
   ]
  },
  {
   "cell_type": "code",
   "execution_count": 3,
   "id": "95b1fa6c-522c-4c1e-95ec-a353758fa571",
   "metadata": {},
   "outputs": [],
   "source": [
    "import matplotlib as mpl\n",
    "mpl.rcParams['axes.prop_cycle'] = mpl.cycler(color=['blue',\n",
    "                                                    'orange',\n",
    "                                                    'greenyellow',\n",
    "                                                    'red',\n",
    "                                                    'brown',\n",
    "                                                    'pink',\n",
    "                                                    'darkolivegreen',\n",
    "                                                    'cyan',\n",
    "                                                    'coral',\n",
    "                                                    'green',\n",
    "                                                    'black']) \n"
   ]
  },
  {
   "cell_type": "markdown",
   "id": "45431c3e-c26e-4225-a026-91304ed32412",
   "metadata": {},
   "source": [
    "### Running PoE"
   ]
  },
  {
   "cell_type": "code",
   "execution_count": 7,
   "id": "27ffeb66-8326-499e-8ec1-5c5e11d19141",
   "metadata": {},
   "outputs": [],
   "source": [
    "sample_ids = [\n",
    "             #'MBC_1A',\n",
    "             'MBC_1B',\n",
    "             #'MBC_2A',\n",
    "             'MBC_2B',\n",
    "             'MBC_3A',\n",
    "             'MBC_3B',\n",
    "             'MBC_4A',\n",
    "             'MBC_4B',\n",
    "             'CID4465',\n",
    "             #'CID444971',\n",
    "             '1142243F',\n",
    "             '1160920F'\n",
    "            ]"
   ]
  },
  {
   "cell_type": "code",
   "execution_count": 8,
   "id": "80ba6e12-d19f-4f20-9dfe-623f44b1023a",
   "metadata": {
    "tags": []
   },
   "outputs": [
    {
     "name": "stdout",
     "output_type": "stream",
     "text": [
      "working on  MBC_1B\n"
     ]
    },
    {
     "name": "stderr",
     "output_type": "stream",
     "text": [
      "Variable names are not unique. To make them unique, call `.var_names_make_unique`.\n",
      "Variable names are not unique. To make them unique, call `.var_names_make_unique`.\n"
     ]
    },
    {
     "name": "stdout",
     "output_type": "stream",
     "text": [
      "Preprocessing1: delete the mt and rp\n",
      "Preprocessing2: Normalize\n"
     ]
    },
    {
     "name": "stderr",
     "output_type": "stream",
     "text": [
      "/Users/siyuhe/anaconda3/lib/python3.8/site-packages/scanpy/preprocessing/_normalization.py:155: UserWarning: Revieved a view of an AnnData. Making a copy.\n",
      "  view_to_actual(adata)\n"
     ]
    },
    {
     "name": "stdout",
     "output_type": "stream",
     "text": [
      "Preprocessing3: Logarithm\n",
      "Preprocessing4: Find the variable genes\n"
     ]
    },
    {
     "name": "stderr",
     "output_type": "stream",
     "text": [
      "/Users/siyuhe/Spatial_project/PoE/main.py:475: FutureWarning: The default value of regex will change from True to False in a future version. In addition, single character regular expressions will*not* be treated as literal strings when regex=True.\n",
      "  df_sig.columns = df_sig.columns.str.replace('.', ' ')\n",
      "/Users/siyuhe/Spatial_project/PoE/main.py:478: FutureWarning: The default value of regex will change from True to False in a future version. In addition, single character regular expressions will*not* be treated as literal strings when regex=True.\n",
      "  df_sig.columns = df_sig.columns.str.replace('+', '')\n",
      "/Users/siyuhe/anaconda3/lib/python3.8/site-packages/pandas/core/indexing.py:1597: SettingWithCopyWarning: \n",
      "A value is trying to be set on a copy of a slice from a DataFrame.\n",
      "Try using .loc[row_indexer,col_indexer] = value instead\n",
      "\n",
      "See the caveats in the documentation: https://pandas.pydata.org/pandas-docs/stable/user_guide/indexing.html#returning-a-view-versus-a-copy\n",
      "  self.obj[key] = value\n",
      "/Users/siyuhe/anaconda3/lib/python3.8/site-packages/pandas/core/indexing.py:1676: SettingWithCopyWarning: \n",
      "A value is trying to be set on a copy of a slice from a DataFrame.\n",
      "Try using .loc[row_indexer,col_indexer] = value instead\n",
      "\n",
      "See the caveats in the documentation: https://pandas.pydata.org/pandas-docs/stable/user_guide/indexing.html#returning-a-view-versus-a-copy\n",
      "  self._setitem_single_column(ilocs[0], value, pi)\n"
     ]
    },
    {
     "name": "stdout",
     "output_type": "stream",
     "text": [
      "the number of original variable genes in the dataset (2000,)\n",
      "the number of siganture genes in the dataset (537,)\n",
      "after filter out some genes in the signature not in the var_names ... (513,)\n",
      "after filter out some genes not highly expressed in the signature ... (487,)\n",
      "combine the varibale and siganture, the total unique gene number is ... 2392\n"
     ]
    },
    {
     "name": "stderr",
     "output_type": "stream",
     "text": [
      "  1%|          | 2/318 [00:00<00:23, 13.64it/s]"
     ]
    },
    {
     "name": "stdout",
     "output_type": "stream",
     "text": [
      "Epoch 1 of 30\n"
     ]
    },
    {
     "name": "stderr",
     "output_type": "stream",
     "text": [
      "319it [00:25, 12.28it/s]                         \n",
      "  1%|          | 2/318 [00:00<00:26, 12.06it/s]"
     ]
    },
    {
     "name": "stdout",
     "output_type": "stream",
     "text": [
      "Train Loss: 4435538940.7900\n",
      "Epoch 2 of 30\n"
     ]
    },
    {
     "name": "stderr",
     "output_type": "stream",
     "text": [
      "319it [00:26, 12.13it/s]                         \n",
      "  1%|          | 2/318 [00:00<00:25, 12.45it/s]"
     ]
    },
    {
     "name": "stdout",
     "output_type": "stream",
     "text": [
      "Train Loss: 2190999290.7837\n",
      "Epoch 3 of 30\n"
     ]
    },
    {
     "name": "stderr",
     "output_type": "stream",
     "text": [
      "319it [00:26, 12.12it/s]                         \n",
      "  1%|          | 2/318 [00:00<00:25, 12.20it/s]"
     ]
    },
    {
     "name": "stdout",
     "output_type": "stream",
     "text": [
      "Train Loss: 1108646106.0815\n",
      "Epoch 4 of 30\n"
     ]
    },
    {
     "name": "stderr",
     "output_type": "stream",
     "text": [
      "319it [00:26, 12.06it/s]                         \n",
      "  1%|          | 2/318 [00:00<00:27, 11.65it/s]"
     ]
    },
    {
     "name": "stdout",
     "output_type": "stream",
     "text": [
      "Train Loss: 628736949.2665\n",
      "Epoch 5 of 30\n"
     ]
    },
    {
     "name": "stderr",
     "output_type": "stream",
     "text": [
      "319it [00:26, 12.03it/s]                         \n",
      "  1%|          | 2/318 [00:00<00:26, 11.71it/s]"
     ]
    },
    {
     "name": "stdout",
     "output_type": "stream",
     "text": [
      "Train Loss: 445021444.9154\n",
      "Epoch 6 of 30\n"
     ]
    },
    {
     "name": "stderr",
     "output_type": "stream",
     "text": [
      "319it [00:26, 11.98it/s]                         \n",
      "  1%|          | 2/318 [00:00<00:26, 11.86it/s]"
     ]
    },
    {
     "name": "stdout",
     "output_type": "stream",
     "text": [
      "Train Loss: 375752279.9749\n",
      "Epoch 7 of 30\n"
     ]
    },
    {
     "name": "stderr",
     "output_type": "stream",
     "text": [
      "319it [00:26, 11.99it/s]                         \n",
      "  1%|          | 2/318 [00:00<00:27, 11.60it/s]"
     ]
    },
    {
     "name": "stdout",
     "output_type": "stream",
     "text": [
      "Train Loss: 348076155.3856\n",
      "Epoch 8 of 30\n"
     ]
    },
    {
     "name": "stderr",
     "output_type": "stream",
     "text": [
      "319it [00:26, 11.98it/s]                         \n",
      "  1%|          | 2/318 [00:00<00:27, 11.57it/s]"
     ]
    },
    {
     "name": "stdout",
     "output_type": "stream",
     "text": [
      "Train Loss: 331620732.7398\n",
      "Epoch 9 of 30\n"
     ]
    },
    {
     "name": "stderr",
     "output_type": "stream",
     "text": [
      "319it [00:26, 11.90it/s]                         \n",
      "  1%|          | 2/318 [00:00<00:25, 12.37it/s]"
     ]
    },
    {
     "name": "stdout",
     "output_type": "stream",
     "text": [
      "Train Loss: 320983280.2508\n",
      "Epoch 10 of 30\n"
     ]
    },
    {
     "name": "stderr",
     "output_type": "stream",
     "text": [
      "319it [00:26, 11.93it/s]                         \n",
      "  1%|          | 2/318 [00:00<00:26, 12.02it/s]"
     ]
    },
    {
     "name": "stdout",
     "output_type": "stream",
     "text": [
      "Train Loss: 312035942.2194\n",
      "Epoch 11 of 30\n"
     ]
    },
    {
     "name": "stderr",
     "output_type": "stream",
     "text": [
      "319it [00:26, 11.96it/s]                         \n",
      "  1%|          | 2/318 [00:00<00:26, 11.80it/s]"
     ]
    },
    {
     "name": "stdout",
     "output_type": "stream",
     "text": [
      "Train Loss: 308996045.2414\n",
      "Epoch 12 of 30\n"
     ]
    },
    {
     "name": "stderr",
     "output_type": "stream",
     "text": [
      "319it [00:26, 11.90it/s]                         \n",
      "  1%|          | 2/318 [00:00<00:26, 11.91it/s]"
     ]
    },
    {
     "name": "stdout",
     "output_type": "stream",
     "text": [
      "Train Loss: 302800172.1379\n",
      "Epoch 13 of 30\n"
     ]
    },
    {
     "name": "stderr",
     "output_type": "stream",
     "text": [
      "319it [00:26, 11.94it/s]                         \n",
      "  1%|          | 2/318 [00:00<00:25, 12.43it/s]"
     ]
    },
    {
     "name": "stdout",
     "output_type": "stream",
     "text": [
      "Train Loss: 301561905.8558\n",
      "Epoch 14 of 30\n"
     ]
    },
    {
     "name": "stderr",
     "output_type": "stream",
     "text": [
      "319it [00:26, 11.96it/s]                         \n",
      "  1%|          | 2/318 [00:00<00:25, 12.27it/s]"
     ]
    },
    {
     "name": "stdout",
     "output_type": "stream",
     "text": [
      "Train Loss: 302673217.8056\n",
      "Epoch 15 of 30\n"
     ]
    },
    {
     "name": "stderr",
     "output_type": "stream",
     "text": [
      "319it [00:26, 11.89it/s]                         \n",
      "  1%|          | 2/318 [00:00<00:25, 12.43it/s]"
     ]
    },
    {
     "name": "stdout",
     "output_type": "stream",
     "text": [
      "Train Loss: 300164845.7429\n",
      "Epoch 16 of 30\n"
     ]
    },
    {
     "name": "stderr",
     "output_type": "stream",
     "text": [
      "319it [00:27, 11.80it/s]                         \n",
      "  1%|          | 2/318 [00:00<00:25, 12.25it/s]"
     ]
    },
    {
     "name": "stdout",
     "output_type": "stream",
     "text": [
      "Train Loss: 298615142.2194\n",
      "Epoch 17 of 30\n"
     ]
    },
    {
     "name": "stderr",
     "output_type": "stream",
     "text": [
      "319it [00:26, 11.93it/s]                         \n",
      "  1%|          | 2/318 [00:00<00:26, 11.90it/s]"
     ]
    },
    {
     "name": "stdout",
     "output_type": "stream",
     "text": [
      "Train Loss: 300561354.0815\n",
      "Epoch 18 of 30\n"
     ]
    },
    {
     "name": "stderr",
     "output_type": "stream",
     "text": [
      "319it [00:26, 11.89it/s]                         \n",
      "  1%|          | 2/318 [00:00<00:26, 11.98it/s]"
     ]
    },
    {
     "name": "stdout",
     "output_type": "stream",
     "text": [
      "Train Loss: 298863295.8495\n",
      "Epoch 19 of 30\n"
     ]
    },
    {
     "name": "stderr",
     "output_type": "stream",
     "text": [
      "319it [00:26, 11.82it/s]                         \n",
      "  1%|          | 2/318 [00:00<00:25, 12.24it/s]"
     ]
    },
    {
     "name": "stdout",
     "output_type": "stream",
     "text": [
      "Train Loss: 298960843.3354\n",
      "Epoch 20 of 30\n"
     ]
    },
    {
     "name": "stderr",
     "output_type": "stream",
     "text": [
      "319it [00:26, 11.90it/s]                         \n",
      "  1%|          | 2/318 [00:00<00:26, 11.94it/s]"
     ]
    },
    {
     "name": "stdout",
     "output_type": "stream",
     "text": [
      "Train Loss: 296962405.8683\n",
      "Epoch 21 of 30\n"
     ]
    },
    {
     "name": "stderr",
     "output_type": "stream",
     "text": [
      "319it [00:26, 11.84it/s]                         \n",
      "  1%|          | 2/318 [00:00<00:26, 12.06it/s]"
     ]
    },
    {
     "name": "stdout",
     "output_type": "stream",
     "text": [
      "Train Loss: 297260155.5862\n",
      "Epoch 22 of 30\n"
     ]
    },
    {
     "name": "stderr",
     "output_type": "stream",
     "text": [
      "319it [00:27, 11.54it/s]                         \n",
      "  1%|          | 2/318 [00:00<00:26, 11.81it/s]"
     ]
    },
    {
     "name": "stdout",
     "output_type": "stream",
     "text": [
      "Train Loss: 296338072.4263\n",
      "Epoch 23 of 30\n"
     ]
    },
    {
     "name": "stderr",
     "output_type": "stream",
     "text": [
      "319it [00:27, 11.59it/s]                         \n",
      "  1%|          | 2/318 [00:00<00:27, 11.61it/s]"
     ]
    },
    {
     "name": "stdout",
     "output_type": "stream",
     "text": [
      "Train Loss: 297298116.8652\n",
      "Epoch 24 of 30\n"
     ]
    },
    {
     "name": "stderr",
     "output_type": "stream",
     "text": [
      "319it [00:27, 11.60it/s]                         \n",
      "  1%|          | 2/318 [00:00<00:26, 11.90it/s]"
     ]
    },
    {
     "name": "stdout",
     "output_type": "stream",
     "text": [
      "Train Loss: 296902514.3574\n",
      "Epoch 25 of 30\n"
     ]
    },
    {
     "name": "stderr",
     "output_type": "stream",
     "text": [
      "319it [00:26, 11.98it/s]                         \n",
      "  1%|          | 2/318 [00:00<00:27, 11.31it/s]"
     ]
    },
    {
     "name": "stdout",
     "output_type": "stream",
     "text": [
      "Train Loss: 297219693.4922\n",
      "Epoch 26 of 30\n"
     ]
    },
    {
     "name": "stderr",
     "output_type": "stream",
     "text": [
      "319it [00:26, 11.94it/s]                         \n",
      "  1%|          | 2/318 [00:00<00:26, 11.73it/s]"
     ]
    },
    {
     "name": "stdout",
     "output_type": "stream",
     "text": [
      "Train Loss: 297245000.0251\n",
      "Epoch 27 of 30\n"
     ]
    },
    {
     "name": "stderr",
     "output_type": "stream",
     "text": [
      "319it [00:26, 11.87it/s]                         \n",
      "  1%|          | 2/318 [00:00<00:26, 11.78it/s]"
     ]
    },
    {
     "name": "stdout",
     "output_type": "stream",
     "text": [
      "Train Loss: 295827645.3918\n",
      "Epoch 28 of 30\n"
     ]
    },
    {
     "name": "stderr",
     "output_type": "stream",
     "text": [
      "319it [00:26, 11.97it/s]                         \n",
      "  1%|          | 2/318 [00:00<00:26, 11.71it/s]"
     ]
    },
    {
     "name": "stdout",
     "output_type": "stream",
     "text": [
      "Train Loss: 294402863.3981\n",
      "Epoch 29 of 30\n"
     ]
    },
    {
     "name": "stderr",
     "output_type": "stream",
     "text": [
      "319it [00:26, 11.94it/s]                         \n",
      "  1%|          | 2/318 [00:00<00:27, 11.41it/s]"
     ]
    },
    {
     "name": "stdout",
     "output_type": "stream",
     "text": [
      "Train Loss: 293785203.5611\n",
      "Epoch 30 of 30\n"
     ]
    },
    {
     "name": "stderr",
     "output_type": "stream",
     "text": [
      "319it [00:26, 11.91it/s]                         \n"
     ]
    },
    {
     "name": "stdout",
     "output_type": "stream",
     "text": [
      "Train Loss: 297082234.5831\n",
      "finish lower training rate\n"
     ]
    },
    {
     "data": {
      "image/png": "[encoded data removed]",
      "text/plain": [
       "<Figure size 720x504 with 1 Axes>"
      ]
     },
     "metadata": {
      "needs_background": "light"
     },
     "output_type": "display_data"
    },
    {
     "name": "stdout",
     "output_type": "stream",
     "text": [
      "working on  MBC_2B\n"
     ]
    },
    {
     "name": "stderr",
     "output_type": "stream",
     "text": [
      "Variable names are not unique. To make them unique, call `.var_names_make_unique`.\n",
      "Variable names are not unique. To make them unique, call `.var_names_make_unique`.\n"
     ]
    },
    {
     "name": "stdout",
     "output_type": "stream",
     "text": [
      "Preprocessing1: delete the mt and rp\n",
      "Preprocessing2: Normalize\n",
      "Preprocessing3: Logarithm\n"
     ]
    },
    {
     "name": "stderr",
     "output_type": "stream",
     "text": [
      "/Users/siyuhe/anaconda3/lib/python3.8/site-packages/scanpy/preprocessing/_normalization.py:155: UserWarning: Revieved a view of an AnnData. Making a copy.\n",
      "  view_to_actual(adata)\n"
     ]
    },
    {
     "name": "stdout",
     "output_type": "stream",
     "text": [
      "Preprocessing4: Find the variable genes\n"
     ]
    },
    {
     "name": "stderr",
     "output_type": "stream",
     "text": [
      "/Users/siyuhe/Spatial_project/PoE/main.py:475: FutureWarning: The default value of regex will change from True to False in a future version. In addition, single character regular expressions will*not* be treated as literal strings when regex=True.\n",
      "  df_sig.columns = df_sig.columns.str.replace('.', ' ')\n",
      "/Users/siyuhe/Spatial_project/PoE/main.py:478: FutureWarning: The default value of regex will change from True to False in a future version. In addition, single character regular expressions will*not* be treated as literal strings when regex=True.\n",
      "  df_sig.columns = df_sig.columns.str.replace('+', '')\n",
      "/Users/siyuhe/anaconda3/lib/python3.8/site-packages/pandas/core/indexing.py:1597: SettingWithCopyWarning: \n",
      "A value is trying to be set on a copy of a slice from a DataFrame.\n",
      "Try using .loc[row_indexer,col_indexer] = value instead\n",
      "\n",
      "See the caveats in the documentation: https://pandas.pydata.org/pandas-docs/stable/user_guide/indexing.html#returning-a-view-versus-a-copy\n",
      "  self.obj[key] = value\n",
      "/Users/siyuhe/anaconda3/lib/python3.8/site-packages/pandas/core/indexing.py:1676: SettingWithCopyWarning: \n",
      "A value is trying to be set on a copy of a slice from a DataFrame.\n",
      "Try using .loc[row_indexer,col_indexer] = value instead\n",
      "\n",
      "See the caveats in the documentation: https://pandas.pydata.org/pandas-docs/stable/user_guide/indexing.html#returning-a-view-versus-a-copy\n",
      "  self._setitem_single_column(ilocs[0], value, pi)\n"
     ]
    },
    {
     "name": "stdout",
     "output_type": "stream",
     "text": [
      "the number of original variable genes in the dataset (2000,)\n",
      "the number of siganture genes in the dataset (537,)\n",
      "after filter out some genes in the signature not in the var_names ... (513,)\n",
      "after filter out some genes not highly expressed in the signature ... (504,)\n",
      "combine the varibale and siganture, the total unique gene number is ... 2420\n"
     ]
    },
    {
     "name": "stderr",
     "output_type": "stream",
     "text": [
      "  0%|          | 2/400 [00:00<00:30, 13.02it/s]"
     ]
    },
    {
     "name": "stdout",
     "output_type": "stream",
     "text": [
      "Epoch 1 of 30\n"
     ]
    },
    {
     "name": "stderr",
     "output_type": "stream",
     "text": [
      "401it [00:34, 11.69it/s]                         \n",
      "  0%|          | 2/400 [00:00<00:35, 11.36it/s]"
     ]
    },
    {
     "name": "stdout",
     "output_type": "stream",
     "text": [
      "Train Loss: 4960924473.2968\n",
      "Epoch 2 of 30\n"
     ]
    },
    {
     "name": "stderr",
     "output_type": "stream",
     "text": [
      "401it [00:35, 11.22it/s]                         \n",
      "  0%|          | 2/400 [00:00<00:37, 10.69it/s]"
     ]
    },
    {
     "name": "stdout",
     "output_type": "stream",
     "text": [
      "Train Loss: 2332428253.5262\n",
      "Epoch 3 of 30\n"
     ]
    },
    {
     "name": "stderr",
     "output_type": "stream",
     "text": [
      "401it [00:35, 11.23it/s]                         \n",
      "  0%|          | 2/400 [00:00<00:35, 11.18it/s]"
     ]
    },
    {
     "name": "stdout",
     "output_type": "stream",
     "text": [
      "Train Loss: 1378687645.4464\n",
      "Epoch 4 of 30\n"
     ]
    },
    {
     "name": "stderr",
     "output_type": "stream",
     "text": [
      "401it [00:34, 11.63it/s]                         \n",
      "  0%|          | 2/400 [00:00<00:33, 11.85it/s]"
     ]
    },
    {
     "name": "stdout",
     "output_type": "stream",
     "text": [
      "Train Loss: 998754755.6708\n",
      "Epoch 5 of 30\n"
     ]
    },
    {
     "name": "stderr",
     "output_type": "stream",
     "text": [
      "401it [00:35, 11.42it/s]                         \n",
      "  0%|          | 2/400 [00:00<00:38, 10.41it/s]"
     ]
    },
    {
     "name": "stdout",
     "output_type": "stream",
     "text": [
      "Train Loss: 849263969.8354\n",
      "Epoch 6 of 30\n"
     ]
    },
    {
     "name": "stderr",
     "output_type": "stream",
     "text": [
      "401it [00:35, 11.33it/s]                         \n",
      "  0%|          | 2/400 [00:00<00:34, 11.52it/s]"
     ]
    },
    {
     "name": "stdout",
     "output_type": "stream",
     "text": [
      "Train Loss: 780889415.9800\n",
      "Epoch 7 of 30\n"
     ]
    },
    {
     "name": "stderr",
     "output_type": "stream",
     "text": [
      "401it [00:35, 11.42it/s]                         \n",
      "  0%|          | 2/400 [00:00<00:34, 11.37it/s]"
     ]
    },
    {
     "name": "stdout",
     "output_type": "stream",
     "text": [
      "Train Loss: 742292502.7431\n",
      "Epoch 8 of 30\n"
     ]
    },
    {
     "name": "stderr",
     "output_type": "stream",
     "text": [
      "401it [00:33, 11.87it/s]                         \n",
      "  0%|          | 2/400 [00:00<00:36, 11.05it/s]"
     ]
    },
    {
     "name": "stdout",
     "output_type": "stream",
     "text": [
      "Train Loss: 714620547.7506\n",
      "Epoch 9 of 30\n"
     ]
    },
    {
     "name": "stderr",
     "output_type": "stream",
     "text": [
      "401it [00:34, 11.56it/s]                         \n",
      "  0%|          | 2/400 [00:00<00:35, 11.19it/s]"
     ]
    },
    {
     "name": "stdout",
     "output_type": "stream",
     "text": [
      "Train Loss: 699481526.1845\n",
      "Epoch 10 of 30\n"
     ]
    },
    {
     "name": "stderr",
     "output_type": "stream",
     "text": [
      "401it [00:36, 11.05it/s]                         \n",
      "  0%|          | 2/400 [00:00<00:35, 11.13it/s]"
     ]
    },
    {
     "name": "stdout",
     "output_type": "stream",
     "text": [
      "Train Loss: 685390747.1322\n",
      "Epoch 11 of 30\n"
     ]
    },
    {
     "name": "stderr",
     "output_type": "stream",
     "text": [
      "401it [00:36, 11.04it/s]                         \n",
      "  0%|          | 2/400 [00:00<00:35, 11.28it/s]"
     ]
    },
    {
     "name": "stdout",
     "output_type": "stream",
     "text": [
      "Train Loss: 679158535.9800\n",
      "Epoch 12 of 30\n"
     ]
    },
    {
     "name": "stderr",
     "output_type": "stream",
     "text": [
      "401it [00:36, 10.97it/s]                         \n",
      "  0%|          | 2/400 [00:00<00:36, 11.04it/s]"
     ]
    },
    {
     "name": "stdout",
     "output_type": "stream",
     "text": [
      "Train Loss: 673882481.7955\n",
      "Epoch 13 of 30\n"
     ]
    },
    {
     "name": "stderr",
     "output_type": "stream",
     "text": [
      "401it [00:36, 11.10it/s]                         \n",
      "  0%|          | 2/400 [00:00<00:35, 11.14it/s]"
     ]
    },
    {
     "name": "stdout",
     "output_type": "stream",
     "text": [
      "Train Loss: 671942948.9476\n",
      "Epoch 14 of 30\n"
     ]
    },
    {
     "name": "stderr",
     "output_type": "stream",
     "text": [
      "401it [00:36, 11.07it/s]                         \n",
      "  0%|          | 2/400 [00:00<00:36, 10.82it/s]"
     ]
    },
    {
     "name": "stdout",
     "output_type": "stream",
     "text": [
      "Train Loss: 666467531.7307\n",
      "Epoch 15 of 30\n"
     ]
    },
    {
     "name": "stderr",
     "output_type": "stream",
     "text": [
      "401it [00:36, 10.99it/s]                         \n",
      "  0%|          | 2/400 [00:00<00:36, 10.89it/s]"
     ]
    },
    {
     "name": "stdout",
     "output_type": "stream",
     "text": [
      "Train Loss: 667449214.4838\n",
      "Epoch 16 of 30\n"
     ]
    },
    {
     "name": "stderr",
     "output_type": "stream",
     "text": [
      "401it [00:36, 10.89it/s]                         \n",
      "  0%|          | 2/400 [00:00<00:35, 11.32it/s]"
     ]
    },
    {
     "name": "stdout",
     "output_type": "stream",
     "text": [
      "Train Loss: 663938170.1746\n",
      "Epoch 17 of 30\n"
     ]
    },
    {
     "name": "stderr",
     "output_type": "stream",
     "text": [
      "401it [00:34, 11.61it/s]                         \n",
      "  0%|          | 2/400 [00:00<00:32, 12.32it/s]"
     ]
    },
    {
     "name": "stdout",
     "output_type": "stream",
     "text": [
      "Train Loss: 662947042.5536\n",
      "Epoch 18 of 30\n"
     ]
    },
    {
     "name": "stderr",
     "output_type": "stream",
     "text": [
      "401it [00:35, 11.37it/s]                         \n",
      "  0%|          | 2/400 [00:00<00:33, 11.71it/s]"
     ]
    },
    {
     "name": "stdout",
     "output_type": "stream",
     "text": [
      "Train Loss: 662511544.8180\n",
      "Epoch 19 of 30\n"
     ]
    },
    {
     "name": "stderr",
     "output_type": "stream",
     "text": [
      "401it [00:34, 11.51it/s]                         \n",
      "  0%|          | 2/400 [00:00<00:36, 10.88it/s]"
     ]
    },
    {
     "name": "stdout",
     "output_type": "stream",
     "text": [
      "Train Loss: 664669695.0424\n",
      "Epoch 20 of 30\n"
     ]
    },
    {
     "name": "stderr",
     "output_type": "stream",
     "text": [
      "401it [00:34, 11.59it/s]                         \n",
      "  0%|          | 2/400 [00:00<00:33, 11.91it/s]"
     ]
    },
    {
     "name": "stdout",
     "output_type": "stream",
     "text": [
      "Train Loss: 660090947.3516\n",
      "Epoch 21 of 30\n"
     ]
    },
    {
     "name": "stderr",
     "output_type": "stream",
     "text": [
      "401it [00:34, 11.59it/s]                         \n",
      "  0%|          | 2/400 [00:00<00:32, 12.14it/s]"
     ]
    },
    {
     "name": "stdout",
     "output_type": "stream",
     "text": [
      "Train Loss: 660384994.9526\n",
      "Epoch 22 of 30\n"
     ]
    },
    {
     "name": "stderr",
     "output_type": "stream",
     "text": [
      "401it [00:34, 11.69it/s]                         \n",
      "  0%|          | 2/400 [00:00<00:34, 11.43it/s]"
     ]
    },
    {
     "name": "stdout",
     "output_type": "stream",
     "text": [
      "Train Loss: 659611828.1895\n",
      "Epoch 23 of 30\n"
     ]
    },
    {
     "name": "stderr",
     "output_type": "stream",
     "text": [
      "401it [00:34, 11.72it/s]                         \n",
      "  0%|          | 2/400 [00:00<00:33, 12.00it/s]"
     ]
    },
    {
     "name": "stdout",
     "output_type": "stream",
     "text": [
      "Train Loss: 658783933.9252\n",
      "Epoch 24 of 30\n"
     ]
    },
    {
     "name": "stderr",
     "output_type": "stream",
     "text": [
      "401it [00:34, 11.76it/s]                         \n",
      "  0%|          | 2/400 [00:00<00:33, 11.97it/s]"
     ]
    },
    {
     "name": "stdout",
     "output_type": "stream",
     "text": [
      "Train Loss: 661128843.2519\n",
      "Epoch 25 of 30\n"
     ]
    },
    {
     "name": "stderr",
     "output_type": "stream",
     "text": [
      "401it [00:34, 11.72it/s]                         \n",
      "  0%|          | 2/400 [00:00<00:34, 11.64it/s]"
     ]
    },
    {
     "name": "stdout",
     "output_type": "stream",
     "text": [
      "Train Loss: 658771224.7382\n",
      "Epoch 26 of 30\n"
     ]
    },
    {
     "name": "stderr",
     "output_type": "stream",
     "text": [
      "401it [00:34, 11.67it/s]                         \n",
      "  0%|          | 2/400 [00:00<00:33, 11.80it/s]"
     ]
    },
    {
     "name": "stdout",
     "output_type": "stream",
     "text": [
      "Train Loss: 659823062.9027\n",
      "Epoch 27 of 30\n"
     ]
    },
    {
     "name": "stderr",
     "output_type": "stream",
     "text": [
      "401it [00:34, 11.70it/s]                         \n",
      "  0%|          | 2/400 [00:00<00:34, 11.47it/s]"
     ]
    },
    {
     "name": "stdout",
     "output_type": "stream",
     "text": [
      "Train Loss: 658800885.5461\n",
      "Epoch 28 of 30\n"
     ]
    },
    {
     "name": "stderr",
     "output_type": "stream",
     "text": [
      "401it [00:34, 11.55it/s]                         \n",
      "  0%|          | 2/400 [00:00<00:34, 11.58it/s]"
     ]
    },
    {
     "name": "stdout",
     "output_type": "stream",
     "text": [
      "Train Loss: 658139247.7207\n",
      "Epoch 29 of 30\n"
     ]
    },
    {
     "name": "stderr",
     "output_type": "stream",
     "text": [
      "401it [00:34, 11.59it/s]                         \n",
      "  0%|          | 2/400 [00:00<00:34, 11.38it/s]"
     ]
    },
    {
     "name": "stdout",
     "output_type": "stream",
     "text": [
      "Train Loss: 659215690.6135\n",
      "Epoch 30 of 30\n"
     ]
    },
    {
     "name": "stderr",
     "output_type": "stream",
     "text": [
      "401it [00:34, 11.60it/s]                         \n"
     ]
    },
    {
     "name": "stdout",
     "output_type": "stream",
     "text": [
      "Train Loss: 659059863.7805\n",
      "finish lower training rate\n"
     ]
    },
    {
     "data": {
      "image/png": "[encoded data removed]",
      "text/plain": [
       "<Figure size 720x504 with 1 Axes>"
      ]
     },
     "metadata": {
      "needs_background": "light"
     },
     "output_type": "display_data"
    },
    {
     "name": "stderr",
     "output_type": "stream",
     "text": [
      "Variable names are not unique. To make them unique, call `.var_names_make_unique`.\n",
      "Variable names are not unique. To make them unique, call `.var_names_make_unique`.\n"
     ]
    },
    {
     "name": "stdout",
     "output_type": "stream",
     "text": [
      "working on  MBC_3A\n",
      "Preprocessing1: delete the mt and rp\n",
      "Preprocessing2: Normalize\n",
      "Preprocessing3: Logarithm\n",
      "Preprocessing4: Find the variable genes\n"
     ]
    },
    {
     "name": "stderr",
     "output_type": "stream",
     "text": [
      "/Users/siyuhe/anaconda3/lib/python3.8/site-packages/scanpy/preprocessing/_normalization.py:155: UserWarning: Revieved a view of an AnnData. Making a copy.\n",
      "  view_to_actual(adata)\n",
      "/Users/siyuhe/Spatial_project/PoE/main.py:475: FutureWarning: The default value of regex will change from True to False in a future version. In addition, single character regular expressions will*not* be treated as literal strings when regex=True.\n",
      "  df_sig.columns = df_sig.columns.str.replace('.', ' ')\n",
      "/Users/siyuhe/Spatial_project/PoE/main.py:478: FutureWarning: The default value of regex will change from True to False in a future version. In addition, single character regular expressions will*not* be treated as literal strings when regex=True.\n",
      "  df_sig.columns = df_sig.columns.str.replace('+', '')\n",
      "/Users/siyuhe/anaconda3/lib/python3.8/site-packages/pandas/core/indexing.py:1597: SettingWithCopyWarning: \n",
      "A value is trying to be set on a copy of a slice from a DataFrame.\n",
      "Try using .loc[row_indexer,col_indexer] = value instead\n",
      "\n",
      "See the caveats in the documentation: https://pandas.pydata.org/pandas-docs/stable/user_guide/indexing.html#returning-a-view-versus-a-copy\n",
      "  self.obj[key] = value\n",
      "/Users/siyuhe/anaconda3/lib/python3.8/site-packages/pandas/core/indexing.py:1676: SettingWithCopyWarning: \n",
      "A value is trying to be set on a copy of a slice from a DataFrame.\n",
      "Try using .loc[row_indexer,col_indexer] = value instead\n",
      "\n",
      "See the caveats in the documentation: https://pandas.pydata.org/pandas-docs/stable/user_guide/indexing.html#returning-a-view-versus-a-copy\n",
      "  self._setitem_single_column(ilocs[0], value, pi)\n"
     ]
    },
    {
     "name": "stdout",
     "output_type": "stream",
     "text": [
      "the number of original variable genes in the dataset (2000,)\n",
      "the number of siganture genes in the dataset (537,)\n",
      "after filter out some genes in the signature not in the var_names ... (510,)\n",
      "after filter out some genes not highly expressed in the signature ... (431,)\n",
      "combine the varibale and siganture, the total unique gene number is ... 2366\n"
     ]
    },
    {
     "name": "stderr",
     "output_type": "stream",
     "text": [
      "  1%|          | 2/285 [00:00<00:19, 14.47it/s]"
     ]
    },
    {
     "name": "stdout",
     "output_type": "stream",
     "text": [
      "Epoch 1 of 30\n"
     ]
    },
    {
     "name": "stderr",
     "output_type": "stream",
     "text": [
      "286it [00:22, 12.88it/s]                         \n",
      "  1%|          | 2/285 [00:00<00:21, 13.10it/s]"
     ]
    },
    {
     "name": "stdout",
     "output_type": "stream",
     "text": [
      "Train Loss: 3236774342.7133\n",
      "Epoch 2 of 30\n"
     ]
    },
    {
     "name": "stderr",
     "output_type": "stream",
     "text": [
      "286it [00:22, 12.68it/s]                         \n",
      "  1%|          | 2/285 [00:00<00:21, 12.99it/s]"
     ]
    },
    {
     "name": "stdout",
     "output_type": "stream",
     "text": [
      "Train Loss: 957993747.3566\n",
      "Epoch 3 of 30\n"
     ]
    },
    {
     "name": "stderr",
     "output_type": "stream",
     "text": [
      "286it [00:22, 12.67it/s]                         \n",
      "  1%|          | 2/285 [00:00<00:22, 12.31it/s]"
     ]
    },
    {
     "name": "stdout",
     "output_type": "stream",
     "text": [
      "Train Loss: 376289675.5524\n",
      "Epoch 4 of 30\n"
     ]
    },
    {
     "name": "stderr",
     "output_type": "stream",
     "text": [
      "286it [00:22, 12.68it/s]                         \n",
      "  1%|          | 2/285 [00:00<00:22, 12.76it/s]"
     ]
    },
    {
     "name": "stdout",
     "output_type": "stream",
     "text": [
      "Train Loss: 224866010.8811\n",
      "Epoch 5 of 30\n"
     ]
    },
    {
     "name": "stderr",
     "output_type": "stream",
     "text": [
      "286it [00:23, 12.34it/s]                         \n",
      "  1%|          | 2/285 [00:00<00:20, 13.53it/s]"
     ]
    },
    {
     "name": "stdout",
     "output_type": "stream",
     "text": [
      "Train Loss: 160756503.4545\n",
      "Epoch 6 of 30\n"
     ]
    },
    {
     "name": "stderr",
     "output_type": "stream",
     "text": [
      "286it [00:22, 12.99it/s]                         \n",
      "  1%|          | 2/285 [00:00<00:22, 12.78it/s]"
     ]
    },
    {
     "name": "stdout",
     "output_type": "stream",
     "text": [
      "Train Loss: 128158770.4056\n",
      "Epoch 7 of 30\n"
     ]
    },
    {
     "name": "stderr",
     "output_type": "stream",
     "text": [
      "286it [00:23, 12.39it/s]                         \n",
      "  1%|          | 2/285 [00:00<00:21, 12.98it/s]"
     ]
    },
    {
     "name": "stdout",
     "output_type": "stream",
     "text": [
      "Train Loss: 107662482.5175\n",
      "Epoch 8 of 30\n"
     ]
    },
    {
     "name": "stderr",
     "output_type": "stream",
     "text": [
      "286it [00:21, 13.10it/s]                         \n",
      "  1%|          | 2/285 [00:00<00:20, 13.56it/s]"
     ]
    },
    {
     "name": "stdout",
     "output_type": "stream",
     "text": [
      "Train Loss: 92728438.9231\n",
      "Epoch 9 of 30\n"
     ]
    },
    {
     "name": "stderr",
     "output_type": "stream",
     "text": [
      "286it [00:21, 13.08it/s]                         \n",
      "  1%|          | 2/285 [00:00<00:21, 13.47it/s]"
     ]
    },
    {
     "name": "stdout",
     "output_type": "stream",
     "text": [
      "Train Loss: 83794390.7133\n",
      "Epoch 10 of 30\n"
     ]
    },
    {
     "name": "stderr",
     "output_type": "stream",
     "text": [
      "286it [00:21, 13.06it/s]                         \n",
      "  1%|          | 2/285 [00:00<00:20, 13.50it/s]"
     ]
    },
    {
     "name": "stdout",
     "output_type": "stream",
     "text": [
      "Train Loss: 76085741.2308\n",
      "Epoch 11 of 30\n"
     ]
    },
    {
     "name": "stderr",
     "output_type": "stream",
     "text": [
      "286it [00:21, 13.11it/s]                         \n",
      "  1%|          | 2/285 [00:00<00:20, 13.72it/s]"
     ]
    },
    {
     "name": "stdout",
     "output_type": "stream",
     "text": [
      "Train Loss: 70674364.3636\n",
      "Epoch 12 of 30\n"
     ]
    },
    {
     "name": "stderr",
     "output_type": "stream",
     "text": [
      "286it [00:21, 13.11it/s]                         \n",
      "  1%|          | 2/285 [00:00<00:21, 13.20it/s]"
     ]
    },
    {
     "name": "stdout",
     "output_type": "stream",
     "text": [
      "Train Loss: 66528404.0140\n",
      "Epoch 13 of 30\n"
     ]
    },
    {
     "name": "stderr",
     "output_type": "stream",
     "text": [
      "286it [00:21, 13.11it/s]                         \n",
      "  1%|          | 2/285 [00:00<00:21, 13.43it/s]"
     ]
    },
    {
     "name": "stdout",
     "output_type": "stream",
     "text": [
      "Train Loss: 64446161.3566\n",
      "Epoch 14 of 30\n"
     ]
    },
    {
     "name": "stderr",
     "output_type": "stream",
     "text": [
      "286it [00:21, 13.14it/s]                         \n",
      "  1%|          | 2/285 [00:00<00:20, 13.64it/s]"
     ]
    },
    {
     "name": "stdout",
     "output_type": "stream",
     "text": [
      "Train Loss: 62206085.6853\n",
      "Epoch 15 of 30\n"
     ]
    },
    {
     "name": "stderr",
     "output_type": "stream",
     "text": [
      "286it [00:21, 13.11it/s]                         \n",
      "  1%|          | 2/285 [00:00<00:21, 13.18it/s]"
     ]
    },
    {
     "name": "stdout",
     "output_type": "stream",
     "text": [
      "Train Loss: 60822767.2378\n",
      "Epoch 16 of 30\n"
     ]
    },
    {
     "name": "stderr",
     "output_type": "stream",
     "text": [
      "286it [00:21, 13.10it/s]                         \n",
      "  1%|          | 2/285 [00:00<00:21, 13.28it/s]"
     ]
    },
    {
     "name": "stdout",
     "output_type": "stream",
     "text": [
      "Train Loss: 59565049.3357\n",
      "Epoch 17 of 30\n"
     ]
    },
    {
     "name": "stderr",
     "output_type": "stream",
     "text": [
      "286it [00:21, 13.13it/s]                         \n",
      "  1%|          | 2/285 [00:00<00:20, 13.79it/s]"
     ]
    },
    {
     "name": "stdout",
     "output_type": "stream",
     "text": [
      "Train Loss: 59007718.5594\n",
      "Epoch 18 of 30\n"
     ]
    },
    {
     "name": "stderr",
     "output_type": "stream",
     "text": [
      "286it [00:21, 13.09it/s]                         \n",
      "  1%|          | 2/285 [00:00<00:20, 13.58it/s]"
     ]
    },
    {
     "name": "stdout",
     "output_type": "stream",
     "text": [
      "Train Loss: 58821652.9650\n",
      "Epoch 19 of 30\n"
     ]
    },
    {
     "name": "stderr",
     "output_type": "stream",
     "text": [
      "286it [00:21, 13.06it/s]                         \n",
      "  1%|          | 2/285 [00:00<00:20, 13.75it/s]"
     ]
    },
    {
     "name": "stdout",
     "output_type": "stream",
     "text": [
      "Train Loss: 58432709.6154\n",
      "Epoch 20 of 30\n"
     ]
    },
    {
     "name": "stderr",
     "output_type": "stream",
     "text": [
      "286it [00:21, 13.15it/s]                         \n",
      "  1%|          | 2/285 [00:00<00:20, 13.77it/s]"
     ]
    },
    {
     "name": "stdout",
     "output_type": "stream",
     "text": [
      "Train Loss: 58445843.5105\n",
      "Epoch 21 of 30\n"
     ]
    },
    {
     "name": "stderr",
     "output_type": "stream",
     "text": [
      "286it [00:21, 13.12it/s]                         \n",
      "  1%|          | 2/285 [00:00<00:21, 13.28it/s]"
     ]
    },
    {
     "name": "stdout",
     "output_type": "stream",
     "text": [
      "Train Loss: 58224540.2168\n",
      "Epoch 22 of 30\n"
     ]
    },
    {
     "name": "stderr",
     "output_type": "stream",
     "text": [
      "286it [00:21, 13.12it/s]                         \n",
      "  1%|          | 2/285 [00:00<00:20, 13.96it/s]"
     ]
    },
    {
     "name": "stdout",
     "output_type": "stream",
     "text": [
      "Train Loss: 58377467.7622\n",
      "Epoch 23 of 30\n"
     ]
    },
    {
     "name": "stderr",
     "output_type": "stream",
     "text": [
      "286it [00:21, 13.14it/s]                         \n",
      "  1%|          | 2/285 [00:00<00:20, 13.59it/s]"
     ]
    },
    {
     "name": "stdout",
     "output_type": "stream",
     "text": [
      "Train Loss: 58267009.6993\n",
      "Epoch 24 of 30\n"
     ]
    },
    {
     "name": "stderr",
     "output_type": "stream",
     "text": [
      "286it [00:22, 13.00it/s]                         \n",
      "  1%|          | 2/285 [00:00<00:22, 12.81it/s]"
     ]
    },
    {
     "name": "stdout",
     "output_type": "stream",
     "text": [
      "Train Loss: 58534472.4196\n",
      "Epoch 25 of 30\n"
     ]
    },
    {
     "name": "stderr",
     "output_type": "stream",
     "text": [
      "286it [00:22, 12.50it/s]                         \n",
      "  1%|          | 2/285 [00:00<00:23, 12.30it/s]"
     ]
    },
    {
     "name": "stdout",
     "output_type": "stream",
     "text": [
      "Train Loss: 58208061.3217\n",
      "Epoch 26 of 30\n"
     ]
    },
    {
     "name": "stderr",
     "output_type": "stream",
     "text": [
      "286it [00:22, 12.54it/s]                         \n",
      "  1%|          | 2/285 [00:00<00:22, 12.39it/s]"
     ]
    },
    {
     "name": "stdout",
     "output_type": "stream",
     "text": [
      "Train Loss: 58454351.4196\n",
      "Epoch 27 of 30\n"
     ]
    },
    {
     "name": "stderr",
     "output_type": "stream",
     "text": [
      "286it [00:23, 12.41it/s]                         \n",
      "  1%|          | 2/285 [00:00<00:21, 13.03it/s]"
     ]
    },
    {
     "name": "stdout",
     "output_type": "stream",
     "text": [
      "Train Loss: 58202862.8182\n",
      "Epoch 28 of 30\n"
     ]
    },
    {
     "name": "stderr",
     "output_type": "stream",
     "text": [
      "286it [00:22, 12.70it/s]                         \n",
      "  1%|          | 2/285 [00:00<00:21, 13.33it/s]"
     ]
    },
    {
     "name": "stdout",
     "output_type": "stream",
     "text": [
      "Train Loss: 58192056.9930\n",
      "Epoch 29 of 30\n"
     ]
    },
    {
     "name": "stderr",
     "output_type": "stream",
     "text": [
      "286it [00:22, 12.96it/s]                         \n",
      "  1%|          | 2/285 [00:00<00:20, 13.63it/s]"
     ]
    },
    {
     "name": "stdout",
     "output_type": "stream",
     "text": [
      "Train Loss: 58257315.0350\n",
      "Epoch 30 of 30\n"
     ]
    },
    {
     "name": "stderr",
     "output_type": "stream",
     "text": [
      "286it [00:22, 12.83it/s]                         \n"
     ]
    },
    {
     "name": "stdout",
     "output_type": "stream",
     "text": [
      "Train Loss: 58364133.6993\n",
      "finish lower training rate\n"
     ]
    },
    {
     "data": {
      "image/png": "[encoded data removed]",
      "text/plain": [
       "<Figure size 720x504 with 1 Axes>"
      ]
     },
     "metadata": {
      "needs_background": "light"
     },
     "output_type": "display_data"
    },
    {
     "name": "stderr",
     "output_type": "stream",
     "text": [
      "Variable names are not unique. To make them unique, call `.var_names_make_unique`.\n",
      "Variable names are not unique. To make them unique, call `.var_names_make_unique`.\n"
     ]
    },
    {
     "name": "stdout",
     "output_type": "stream",
     "text": [
      "working on  MBC_3B\n"
     ]
    },
    {
     "name": "stderr",
     "output_type": "stream",
     "text": [
      "/Users/siyuhe/anaconda3/lib/python3.8/site-packages/scanpy/preprocessing/_normalization.py:155: UserWarning: Revieved a view of an AnnData. Making a copy.\n",
      "  view_to_actual(adata)\n"
     ]
    },
    {
     "name": "stdout",
     "output_type": "stream",
     "text": [
      "Preprocessing1: delete the mt and rp\n",
      "Preprocessing2: Normalize\n",
      "Preprocessing3: Logarithm\n",
      "Preprocessing4: Find the variable genes\n"
     ]
    },
    {
     "name": "stderr",
     "output_type": "stream",
     "text": [
      "/Users/siyuhe/Spatial_project/PoE/main.py:475: FutureWarning: The default value of regex will change from True to False in a future version. In addition, single character regular expressions will*not* be treated as literal strings when regex=True.\n",
      "  df_sig.columns = df_sig.columns.str.replace('.', ' ')\n",
      "/Users/siyuhe/Spatial_project/PoE/main.py:478: FutureWarning: The default value of regex will change from True to False in a future version. In addition, single character regular expressions will*not* be treated as literal strings when regex=True.\n",
      "  df_sig.columns = df_sig.columns.str.replace('+', '')\n",
      "/Users/siyuhe/anaconda3/lib/python3.8/site-packages/pandas/core/indexing.py:1597: SettingWithCopyWarning: \n",
      "A value is trying to be set on a copy of a slice from a DataFrame.\n",
      "Try using .loc[row_indexer,col_indexer] = value instead\n",
      "\n",
      "See the caveats in the documentation: https://pandas.pydata.org/pandas-docs/stable/user_guide/indexing.html#returning-a-view-versus-a-copy\n",
      "  self.obj[key] = value\n",
      "/Users/siyuhe/anaconda3/lib/python3.8/site-packages/pandas/core/indexing.py:1676: SettingWithCopyWarning: \n",
      "A value is trying to be set on a copy of a slice from a DataFrame.\n",
      "Try using .loc[row_indexer,col_indexer] = value instead\n",
      "\n",
      "See the caveats in the documentation: https://pandas.pydata.org/pandas-docs/stable/user_guide/indexing.html#returning-a-view-versus-a-copy\n",
      "  self._setitem_single_column(ilocs[0], value, pi)\n"
     ]
    },
    {
     "name": "stdout",
     "output_type": "stream",
     "text": [
      "the number of original variable genes in the dataset (2000,)\n",
      "the number of siganture genes in the dataset (537,)\n",
      "after filter out some genes in the signature not in the var_names ... (510,)\n",
      "after filter out some genes not highly expressed in the signature ... (432,)\n",
      "combine the varibale and siganture, the total unique gene number is ... 2382\n"
     ]
    },
    {
     "name": "stderr",
     "output_type": "stream",
     "text": [
      "  1%|          | 2/237 [00:00<00:16, 14.36it/s]"
     ]
    },
    {
     "name": "stdout",
     "output_type": "stream",
     "text": [
      "Epoch 1 of 30\n"
     ]
    },
    {
     "name": "stderr",
     "output_type": "stream",
     "text": [
      "238it [00:17, 13.30it/s]                         \n",
      "  1%|          | 2/237 [00:00<00:17, 13.45it/s]"
     ]
    },
    {
     "name": "stdout",
     "output_type": "stream",
     "text": [
      "Train Loss: 3426110031.8655\n",
      "Epoch 2 of 30\n"
     ]
    },
    {
     "name": "stderr",
     "output_type": "stream",
     "text": [
      "238it [00:17, 13.38it/s]                         \n",
      "  1%|          | 2/237 [00:00<00:16, 14.06it/s]"
     ]
    },
    {
     "name": "stdout",
     "output_type": "stream",
     "text": [
      "Train Loss: 1209155519.7983\n",
      "Epoch 3 of 30\n"
     ]
    },
    {
     "name": "stderr",
     "output_type": "stream",
     "text": [
      "238it [00:17, 13.33it/s]                         \n",
      "  1%|          | 2/237 [00:00<00:17, 13.78it/s]"
     ]
    },
    {
     "name": "stdout",
     "output_type": "stream",
     "text": [
      "Train Loss: 476592799.2941\n",
      "Epoch 4 of 30\n"
     ]
    },
    {
     "name": "stderr",
     "output_type": "stream",
     "text": [
      "238it [00:17, 13.26it/s]                         \n",
      "  1%|          | 2/237 [00:00<00:16, 13.89it/s]"
     ]
    },
    {
     "name": "stdout",
     "output_type": "stream",
     "text": [
      "Train Loss: 273911501.6471\n",
      "Epoch 5 of 30\n"
     ]
    },
    {
     "name": "stderr",
     "output_type": "stream",
     "text": [
      "238it [00:17, 13.33it/s]                         \n",
      "  1%|          | 2/237 [00:00<00:17, 13.70it/s]"
     ]
    },
    {
     "name": "stdout",
     "output_type": "stream",
     "text": [
      "Train Loss: 202435138.3193\n",
      "Epoch 6 of 30\n"
     ]
    },
    {
     "name": "stderr",
     "output_type": "stream",
     "text": [
      "238it [00:17, 13.31it/s]                         \n",
      "  1%|          | 2/237 [00:00<00:17, 13.68it/s]"
     ]
    },
    {
     "name": "stdout",
     "output_type": "stream",
     "text": [
      "Train Loss: 154741341.4622\n",
      "Epoch 7 of 30\n"
     ]
    },
    {
     "name": "stderr",
     "output_type": "stream",
     "text": [
      "238it [00:17, 13.29it/s]                         \n",
      "  1%|          | 2/237 [00:00<00:17, 13.33it/s]"
     ]
    },
    {
     "name": "stdout",
     "output_type": "stream",
     "text": [
      "Train Loss: 128802859.1597\n",
      "Epoch 8 of 30\n"
     ]
    },
    {
     "name": "stderr",
     "output_type": "stream",
     "text": [
      "238it [00:18, 13.00it/s]                         \n",
      "  1%|          | 2/237 [00:00<00:17, 13.58it/s]"
     ]
    },
    {
     "name": "stdout",
     "output_type": "stream",
     "text": [
      "Train Loss: 113402526.1176\n",
      "Epoch 9 of 30\n"
     ]
    },
    {
     "name": "stderr",
     "output_type": "stream",
     "text": [
      "238it [00:18, 13.08it/s]                         \n",
      "  1%|          | 2/237 [00:00<00:17, 13.31it/s]"
     ]
    },
    {
     "name": "stdout",
     "output_type": "stream",
     "text": [
      "Train Loss: 98930889.7647\n",
      "Epoch 10 of 30\n"
     ]
    },
    {
     "name": "stderr",
     "output_type": "stream",
     "text": [
      "238it [00:18, 12.96it/s]                         \n",
      "  1%|          | 2/237 [00:00<00:18, 12.87it/s]"
     ]
    },
    {
     "name": "stdout",
     "output_type": "stream",
     "text": [
      "Train Loss: 90371380.9076\n",
      "Epoch 11 of 30\n"
     ]
    },
    {
     "name": "stderr",
     "output_type": "stream",
     "text": [
      "238it [00:18, 12.86it/s]                         \n",
      "  1%|          | 2/237 [00:00<00:17, 13.50it/s]"
     ]
    },
    {
     "name": "stdout",
     "output_type": "stream",
     "text": [
      "Train Loss: 80938020.8403\n",
      "Epoch 12 of 30\n"
     ]
    },
    {
     "name": "stderr",
     "output_type": "stream",
     "text": [
      "238it [00:17, 13.31it/s]                         \n",
      "  1%|          | 2/237 [00:00<00:17, 13.55it/s]"
     ]
    },
    {
     "name": "stdout",
     "output_type": "stream",
     "text": [
      "Train Loss: 75892758.7647\n",
      "Epoch 13 of 30\n"
     ]
    },
    {
     "name": "stderr",
     "output_type": "stream",
     "text": [
      "238it [00:18, 13.16it/s]                         \n",
      "  1%|          | 2/237 [00:00<00:17, 13.45it/s]"
     ]
    },
    {
     "name": "stdout",
     "output_type": "stream",
     "text": [
      "Train Loss: 70980194.0504\n",
      "Epoch 14 of 30\n"
     ]
    },
    {
     "name": "stderr",
     "output_type": "stream",
     "text": [
      "238it [00:18, 13.13it/s]                         \n",
      "  1%|          | 2/237 [00:00<00:17, 13.39it/s]"
     ]
    },
    {
     "name": "stdout",
     "output_type": "stream",
     "text": [
      "Train Loss: 68041283.4622\n",
      "Epoch 15 of 30\n"
     ]
    },
    {
     "name": "stderr",
     "output_type": "stream",
     "text": [
      "238it [00:18, 13.11it/s]                         \n",
      "  1%|          | 2/237 [00:00<00:17, 13.37it/s]"
     ]
    },
    {
     "name": "stdout",
     "output_type": "stream",
     "text": [
      "Train Loss: 65335715.2101\n",
      "Epoch 16 of 30\n"
     ]
    },
    {
     "name": "stderr",
     "output_type": "stream",
     "text": [
      "238it [00:18, 13.05it/s]                         \n",
      "  1%|          | 2/237 [00:00<00:17, 13.36it/s]"
     ]
    },
    {
     "name": "stdout",
     "output_type": "stream",
     "text": [
      "Train Loss: 62943475.6387\n",
      "Epoch 17 of 30\n"
     ]
    },
    {
     "name": "stderr",
     "output_type": "stream",
     "text": [
      "238it [00:18, 13.22it/s]                         \n",
      "  1%|          | 2/237 [00:00<00:17, 13.30it/s]"
     ]
    },
    {
     "name": "stdout",
     "output_type": "stream",
     "text": [
      "Train Loss: 61457589.8992\n",
      "Epoch 18 of 30\n"
     ]
    },
    {
     "name": "stderr",
     "output_type": "stream",
     "text": [
      "238it [00:18, 13.17it/s]                         \n",
      "  1%|          | 2/237 [00:00<00:18, 12.89it/s]"
     ]
    },
    {
     "name": "stdout",
     "output_type": "stream",
     "text": [
      "Train Loss: 60241960.3025\n",
      "Epoch 19 of 30\n"
     ]
    },
    {
     "name": "stderr",
     "output_type": "stream",
     "text": [
      "238it [00:17, 13.31it/s]                         \n",
      "  1%|          | 2/237 [00:00<00:17, 13.74it/s]"
     ]
    },
    {
     "name": "stdout",
     "output_type": "stream",
     "text": [
      "Train Loss: 59371188.4958\n",
      "Epoch 20 of 30\n"
     ]
    },
    {
     "name": "stderr",
     "output_type": "stream",
     "text": [
      "238it [00:17, 13.35it/s]                         \n",
      "  1%|          | 2/237 [00:00<00:17, 13.61it/s]"
     ]
    },
    {
     "name": "stdout",
     "output_type": "stream",
     "text": [
      "Train Loss: 58967730.3445\n",
      "Epoch 21 of 30\n"
     ]
    },
    {
     "name": "stderr",
     "output_type": "stream",
     "text": [
      "238it [00:17, 13.29it/s]                         \n",
      "  1%|          | 2/237 [00:00<00:17, 13.82it/s]"
     ]
    },
    {
     "name": "stdout",
     "output_type": "stream",
     "text": [
      "Train Loss: 58574217.5378\n",
      "Epoch 22 of 30\n"
     ]
    },
    {
     "name": "stderr",
     "output_type": "stream",
     "text": [
      "238it [00:17, 13.38it/s]                         \n",
      "  1%|          | 2/237 [00:00<00:16, 13.83it/s]"
     ]
    },
    {
     "name": "stdout",
     "output_type": "stream",
     "text": [
      "Train Loss: 58207682.4286\n",
      "Epoch 23 of 30\n"
     ]
    },
    {
     "name": "stderr",
     "output_type": "stream",
     "text": [
      "238it [00:17, 13.34it/s]                         \n",
      "  1%|          | 2/237 [00:00<00:17, 13.47it/s]"
     ]
    },
    {
     "name": "stdout",
     "output_type": "stream",
     "text": [
      "Train Loss: 58194276.6387\n",
      "Epoch 24 of 30\n"
     ]
    },
    {
     "name": "stderr",
     "output_type": "stream",
     "text": [
      "238it [00:17, 13.34it/s]                         \n",
      "  1%|          | 2/237 [00:00<00:16, 13.96it/s]"
     ]
    },
    {
     "name": "stdout",
     "output_type": "stream",
     "text": [
      "Train Loss: 58037840.2941\n",
      "Epoch 25 of 30\n"
     ]
    },
    {
     "name": "stderr",
     "output_type": "stream",
     "text": [
      "238it [00:17, 13.28it/s]                         \n",
      "  1%|          | 2/237 [00:00<00:17, 13.77it/s]"
     ]
    },
    {
     "name": "stdout",
     "output_type": "stream",
     "text": [
      "Train Loss: 58164235.6387\n",
      "Epoch 26 of 30\n"
     ]
    },
    {
     "name": "stderr",
     "output_type": "stream",
     "text": [
      "238it [00:17, 13.34it/s]                         \n",
      "  1%|          | 2/237 [00:00<00:16, 14.05it/s]"
     ]
    },
    {
     "name": "stdout",
     "output_type": "stream",
     "text": [
      "Train Loss: 58118555.4538\n",
      "Epoch 27 of 30\n"
     ]
    },
    {
     "name": "stderr",
     "output_type": "stream",
     "text": [
      "238it [00:17, 13.40it/s]                         \n",
      "  1%|          | 2/237 [00:00<00:17, 13.26it/s]"
     ]
    },
    {
     "name": "stdout",
     "output_type": "stream",
     "text": [
      "Train Loss: 58210183.5966\n",
      "Epoch 28 of 30\n"
     ]
    },
    {
     "name": "stderr",
     "output_type": "stream",
     "text": [
      "238it [00:17, 13.36it/s]                         \n",
      "  1%|          | 2/237 [00:00<00:17, 13.51it/s]"
     ]
    },
    {
     "name": "stdout",
     "output_type": "stream",
     "text": [
      "Train Loss: 58080068.7815\n",
      "Epoch 29 of 30\n"
     ]
    },
    {
     "name": "stderr",
     "output_type": "stream",
     "text": [
      "238it [00:17, 13.41it/s]                         \n",
      "  1%|          | 2/237 [00:00<00:17, 13.76it/s]"
     ]
    },
    {
     "name": "stdout",
     "output_type": "stream",
     "text": [
      "Train Loss: 58225037.8992\n",
      "Epoch 30 of 30\n"
     ]
    },
    {
     "name": "stderr",
     "output_type": "stream",
     "text": [
      "238it [00:17, 13.39it/s]                         \n"
     ]
    },
    {
     "name": "stdout",
     "output_type": "stream",
     "text": [
      "Train Loss: 58347246.7311\n",
      "finish lower training rate\n"
     ]
    },
    {
     "data": {
      "image/png": "[encoded data removed]",
      "text/plain": [
       "<Figure size 720x504 with 1 Axes>"
      ]
     },
     "metadata": {
      "needs_background": "light"
     },
     "output_type": "display_data"
    },
    {
     "name": "stderr",
     "output_type": "stream",
     "text": [
      "Variable names are not unique. To make them unique, call `.var_names_make_unique`.\n",
      "Variable names are not unique. To make them unique, call `.var_names_make_unique`.\n"
     ]
    },
    {
     "name": "stdout",
     "output_type": "stream",
     "text": [
      "working on  MBC_4A\n",
      "Preprocessing1: delete the mt and rp\n",
      "Preprocessing2: Normalize\n",
      "Preprocessing3: Logarithm\n",
      "Preprocessing4: Find the variable genes\n"
     ]
    },
    {
     "name": "stderr",
     "output_type": "stream",
     "text": [
      "/Users/siyuhe/anaconda3/lib/python3.8/site-packages/scanpy/preprocessing/_normalization.py:155: UserWarning: Revieved a view of an AnnData. Making a copy.\n",
      "  view_to_actual(adata)\n",
      "/Users/siyuhe/Spatial_project/PoE/main.py:475: FutureWarning: The default value of regex will change from True to False in a future version. In addition, single character regular expressions will*not* be treated as literal strings when regex=True.\n",
      "  df_sig.columns = df_sig.columns.str.replace('.', ' ')\n",
      "/Users/siyuhe/Spatial_project/PoE/main.py:478: FutureWarning: The default value of regex will change from True to False in a future version. In addition, single character regular expressions will*not* be treated as literal strings when regex=True.\n",
      "  df_sig.columns = df_sig.columns.str.replace('+', '')\n",
      "/Users/siyuhe/anaconda3/lib/python3.8/site-packages/pandas/core/indexing.py:1597: SettingWithCopyWarning: \n",
      "A value is trying to be set on a copy of a slice from a DataFrame.\n",
      "Try using .loc[row_indexer,col_indexer] = value instead\n",
      "\n",
      "See the caveats in the documentation: https://pandas.pydata.org/pandas-docs/stable/user_guide/indexing.html#returning-a-view-versus-a-copy\n",
      "  self.obj[key] = value\n",
      "/Users/siyuhe/anaconda3/lib/python3.8/site-packages/pandas/core/indexing.py:1676: SettingWithCopyWarning: \n",
      "A value is trying to be set on a copy of a slice from a DataFrame.\n",
      "Try using .loc[row_indexer,col_indexer] = value instead\n",
      "\n",
      "See the caveats in the documentation: https://pandas.pydata.org/pandas-docs/stable/user_guide/indexing.html#returning-a-view-versus-a-copy\n",
      "  self._setitem_single_column(ilocs[0], value, pi)\n"
     ]
    },
    {
     "name": "stdout",
     "output_type": "stream",
     "text": [
      "the number of original variable genes in the dataset (2000,)\n",
      "the number of siganture genes in the dataset (537,)\n",
      "after filter out some genes in the signature not in the var_names ... (510,)\n",
      "after filter out some genes not highly expressed in the signature ... (464,)\n",
      "combine the varibale and siganture, the total unique gene number is ... 2392\n"
     ]
    },
    {
     "name": "stderr",
     "output_type": "stream",
     "text": [
      "  1%|          | 2/387 [00:00<00:28, 13.74it/s]"
     ]
    },
    {
     "name": "stdout",
     "output_type": "stream",
     "text": [
      "Epoch 1 of 30\n"
     ]
    },
    {
     "name": "stderr",
     "output_type": "stream",
     "text": [
      "388it [00:30, 12.70it/s]                         \n",
      "  1%|          | 2/387 [00:00<00:30, 12.61it/s]"
     ]
    },
    {
     "name": "stdout",
     "output_type": "stream",
     "text": [
      "Train Loss: 3580556725.7732\n",
      "Epoch 2 of 30\n"
     ]
    },
    {
     "name": "stderr",
     "output_type": "stream",
     "text": [
      "388it [00:30, 12.65it/s]                         \n",
      "  1%|          | 2/387 [00:00<00:30, 12.49it/s]"
     ]
    },
    {
     "name": "stdout",
     "output_type": "stream",
     "text": [
      "Train Loss: 1377106264.5773\n",
      "Epoch 3 of 30\n"
     ]
    },
    {
     "name": "stderr",
     "output_type": "stream",
     "text": [
      "388it [00:30, 12.67it/s]                         \n",
      "  1%|          | 2/387 [00:00<00:29, 13.13it/s]"
     ]
    },
    {
     "name": "stdout",
     "output_type": "stream",
     "text": [
      "Train Loss: 456799966.7423\n",
      "Epoch 4 of 30\n"
     ]
    },
    {
     "name": "stderr",
     "output_type": "stream",
     "text": [
      "388it [00:30, 12.64it/s]                         \n",
      "  1%|          | 2/387 [00:00<00:30, 12.71it/s]"
     ]
    },
    {
     "name": "stdout",
     "output_type": "stream",
     "text": [
      "Train Loss: 186297702.1649\n",
      "Epoch 5 of 30\n"
     ]
    },
    {
     "name": "stderr",
     "output_type": "stream",
     "text": [
      "388it [00:30, 12.61it/s]                         \n",
      "  1%|          | 2/387 [00:00<00:29, 12.88it/s]"
     ]
    },
    {
     "name": "stdout",
     "output_type": "stream",
     "text": [
      "Train Loss: 123310382.1031\n",
      "Epoch 6 of 30\n"
     ]
    },
    {
     "name": "stderr",
     "output_type": "stream",
     "text": [
      "388it [00:30, 12.59it/s]                         \n",
      "  1%|          | 2/387 [00:00<00:29, 13.14it/s]"
     ]
    },
    {
     "name": "stdout",
     "output_type": "stream",
     "text": [
      "Train Loss: 110075318.6392\n",
      "Epoch 7 of 30\n"
     ]
    },
    {
     "name": "stderr",
     "output_type": "stream",
     "text": [
      "388it [00:30, 12.61it/s]                         \n",
      "  1%|          | 2/387 [00:00<00:28, 13.33it/s]"
     ]
    },
    {
     "name": "stdout",
     "output_type": "stream",
     "text": [
      "Train Loss: 106684243.1546\n",
      "Epoch 8 of 30\n"
     ]
    },
    {
     "name": "stderr",
     "output_type": "stream",
     "text": [
      "388it [00:30, 12.64it/s]                         \n",
      "  1%|          | 2/387 [00:00<00:29, 13.00it/s]"
     ]
    },
    {
     "name": "stdout",
     "output_type": "stream",
     "text": [
      "Train Loss: 105357709.0619\n",
      "Epoch 9 of 30\n"
     ]
    },
    {
     "name": "stderr",
     "output_type": "stream",
     "text": [
      "388it [00:30, 12.64it/s]                         \n",
      "  1%|          | 2/387 [00:00<00:29, 13.16it/s]"
     ]
    },
    {
     "name": "stdout",
     "output_type": "stream",
     "text": [
      "Train Loss: 104248199.6289\n",
      "Epoch 10 of 30\n"
     ]
    },
    {
     "name": "stderr",
     "output_type": "stream",
     "text": [
      "388it [00:30, 12.62it/s]                         \n",
      "  1%|          | 2/387 [00:00<00:29, 12.90it/s]"
     ]
    },
    {
     "name": "stdout",
     "output_type": "stream",
     "text": [
      "Train Loss: 103909725.1031\n",
      "Epoch 11 of 30\n"
     ]
    },
    {
     "name": "stderr",
     "output_type": "stream",
     "text": [
      "388it [00:30, 12.58it/s]                         \n",
      "  1%|          | 2/387 [00:00<00:30, 12.63it/s]"
     ]
    },
    {
     "name": "stdout",
     "output_type": "stream",
     "text": [
      "Train Loss: 103576979.3918\n",
      "Epoch 12 of 30\n"
     ]
    },
    {
     "name": "stderr",
     "output_type": "stream",
     "text": [
      "388it [00:30, 12.62it/s]                         \n",
      "  1%|          | 2/387 [00:00<00:29, 13.03it/s]"
     ]
    },
    {
     "name": "stdout",
     "output_type": "stream",
     "text": [
      "Train Loss: 103117052.6701\n",
      "Epoch 13 of 30\n"
     ]
    },
    {
     "name": "stderr",
     "output_type": "stream",
     "text": [
      "388it [00:30, 12.59it/s]                         \n",
      "  1%|          | 2/387 [00:00<00:29, 12.96it/s]"
     ]
    },
    {
     "name": "stdout",
     "output_type": "stream",
     "text": [
      "Train Loss: 103083236.2474\n",
      "Epoch 14 of 30\n"
     ]
    },
    {
     "name": "stderr",
     "output_type": "stream",
     "text": [
      "388it [00:30, 12.63it/s]                         \n",
      "  1%|          | 2/387 [00:00<00:29, 13.24it/s]"
     ]
    },
    {
     "name": "stdout",
     "output_type": "stream",
     "text": [
      "Train Loss: 102667748.5876\n",
      "Epoch 15 of 30\n"
     ]
    },
    {
     "name": "stderr",
     "output_type": "stream",
     "text": [
      "388it [00:30, 12.54it/s]                         \n",
      "  1%|          | 2/387 [00:00<00:30, 12.65it/s]"
     ]
    },
    {
     "name": "stdout",
     "output_type": "stream",
     "text": [
      "Train Loss: 102630814.4433\n",
      "Epoch 16 of 30\n"
     ]
    },
    {
     "name": "stderr",
     "output_type": "stream",
     "text": [
      "388it [00:30, 12.62it/s]                         \n",
      "  1%|          | 2/387 [00:00<00:30, 12.70it/s]"
     ]
    },
    {
     "name": "stdout",
     "output_type": "stream",
     "text": [
      "Train Loss: 102792750.6082\n",
      "Epoch 17 of 30\n"
     ]
    },
    {
     "name": "stderr",
     "output_type": "stream",
     "text": [
      "388it [00:30, 12.58it/s]                         \n",
      "  1%|          | 2/387 [00:00<00:30, 12.59it/s]"
     ]
    },
    {
     "name": "stdout",
     "output_type": "stream",
     "text": [
      "Train Loss: 102092278.6907\n",
      "Epoch 18 of 30\n"
     ]
    },
    {
     "name": "stderr",
     "output_type": "stream",
     "text": [
      "388it [00:30, 12.60it/s]                         \n",
      "  1%|          | 2/387 [00:00<00:29, 13.01it/s]"
     ]
    },
    {
     "name": "stdout",
     "output_type": "stream",
     "text": [
      "Train Loss: 102267147.3608\n",
      "Epoch 19 of 30\n"
     ]
    },
    {
     "name": "stderr",
     "output_type": "stream",
     "text": [
      "388it [00:30, 12.61it/s]                         \n",
      "  1%|          | 2/387 [00:00<00:29, 12.97it/s]"
     ]
    },
    {
     "name": "stdout",
     "output_type": "stream",
     "text": [
      "Train Loss: 101722910.1443\n",
      "Epoch 20 of 30\n"
     ]
    },
    {
     "name": "stderr",
     "output_type": "stream",
     "text": [
      "388it [00:30, 12.61it/s]                         \n",
      "  1%|          | 2/387 [00:00<00:29, 12.95it/s]"
     ]
    },
    {
     "name": "stdout",
     "output_type": "stream",
     "text": [
      "Train Loss: 102171461.8660\n",
      "Epoch 21 of 30\n"
     ]
    },
    {
     "name": "stderr",
     "output_type": "stream",
     "text": [
      "388it [00:30, 12.59it/s]                         \n",
      "  1%|          | 2/387 [00:00<00:29, 12.92it/s]"
     ]
    },
    {
     "name": "stdout",
     "output_type": "stream",
     "text": [
      "Train Loss: 101594876.1856\n",
      "Epoch 22 of 30\n"
     ]
    },
    {
     "name": "stderr",
     "output_type": "stream",
     "text": [
      "388it [00:30, 12.62it/s]                         \n",
      "  1%|          | 2/387 [00:00<00:29, 12.92it/s]"
     ]
    },
    {
     "name": "stdout",
     "output_type": "stream",
     "text": [
      "Train Loss: 101286429.0722\n",
      "Epoch 23 of 30\n"
     ]
    },
    {
     "name": "stderr",
     "output_type": "stream",
     "text": [
      "388it [00:30, 12.61it/s]                         \n",
      "  1%|          | 2/387 [00:00<00:31, 12.11it/s]"
     ]
    },
    {
     "name": "stdout",
     "output_type": "stream",
     "text": [
      "Train Loss: 101718757.1753\n",
      "Epoch 24 of 30\n"
     ]
    },
    {
     "name": "stderr",
     "output_type": "stream",
     "text": [
      "388it [00:30, 12.63it/s]                         \n",
      "  1%|          | 2/387 [00:00<00:29, 12.98it/s]"
     ]
    },
    {
     "name": "stdout",
     "output_type": "stream",
     "text": [
      "Train Loss: 101643273.2062\n",
      "Epoch 25 of 30\n"
     ]
    },
    {
     "name": "stderr",
     "output_type": "stream",
     "text": [
      "388it [00:30, 12.62it/s]                         \n",
      "  1%|          | 2/387 [00:00<00:29, 12.85it/s]"
     ]
    },
    {
     "name": "stdout",
     "output_type": "stream",
     "text": [
      "Train Loss: 101592491.2990\n",
      "Epoch 26 of 30\n"
     ]
    },
    {
     "name": "stderr",
     "output_type": "stream",
     "text": [
      "388it [00:30, 12.61it/s]                         \n",
      "  1%|          | 2/387 [00:00<00:29, 13.01it/s]"
     ]
    },
    {
     "name": "stdout",
     "output_type": "stream",
     "text": [
      "Train Loss: 101636709.5670\n",
      "Epoch 27 of 30\n"
     ]
    },
    {
     "name": "stderr",
     "output_type": "stream",
     "text": [
      "388it [00:30, 12.63it/s]                         \n",
      "  1%|          | 2/387 [00:00<00:30, 12.63it/s]"
     ]
    },
    {
     "name": "stdout",
     "output_type": "stream",
     "text": [
      "Train Loss: 101527047.6082\n",
      "Epoch 28 of 30\n"
     ]
    },
    {
     "name": "stderr",
     "output_type": "stream",
     "text": [
      "388it [00:30, 12.62it/s]                         \n",
      "  1%|          | 2/387 [00:00<00:29, 12.98it/s]"
     ]
    },
    {
     "name": "stdout",
     "output_type": "stream",
     "text": [
      "Train Loss: 101159679.5876\n",
      "Epoch 29 of 30\n"
     ]
    },
    {
     "name": "stderr",
     "output_type": "stream",
     "text": [
      "388it [00:31, 12.22it/s]                         \n",
      "  1%|          | 2/387 [00:00<00:31, 12.03it/s]"
     ]
    },
    {
     "name": "stdout",
     "output_type": "stream",
     "text": [
      "Train Loss: 101415913.3299\n",
      "Epoch 30 of 30\n"
     ]
    },
    {
     "name": "stderr",
     "output_type": "stream",
     "text": [
      "388it [00:30, 12.59it/s]                         \n"
     ]
    },
    {
     "name": "stdout",
     "output_type": "stream",
     "text": [
      "Train Loss: 101281305.5979\n",
      "finish lower training rate\n"
     ]
    },
    {
     "data": {
      "image/png": "[encoded data removed]",
      "text/plain": [
       "<Figure size 720x504 with 1 Axes>"
      ]
     },
     "metadata": {
      "needs_background": "light"
     },
     "output_type": "display_data"
    },
    {
     "name": "stderr",
     "output_type": "stream",
     "text": [
      "Variable names are not unique. To make them unique, call `.var_names_make_unique`.\n",
      "Variable names are not unique. To make them unique, call `.var_names_make_unique`.\n"
     ]
    },
    {
     "name": "stdout",
     "output_type": "stream",
     "text": [
      "working on  MBC_4B\n",
      "Preprocessing1: delete the mt and rp\n",
      "Preprocessing2: Normalize\n",
      "Preprocessing3: Logarithm\n",
      "Preprocessing4: Find the variable genes\n"
     ]
    },
    {
     "name": "stderr",
     "output_type": "stream",
     "text": [
      "/Users/siyuhe/anaconda3/lib/python3.8/site-packages/scanpy/preprocessing/_normalization.py:155: UserWarning: Revieved a view of an AnnData. Making a copy.\n",
      "  view_to_actual(adata)\n",
      "/Users/siyuhe/Spatial_project/PoE/main.py:475: FutureWarning: The default value of regex will change from True to False in a future version. In addition, single character regular expressions will*not* be treated as literal strings when regex=True.\n",
      "  df_sig.columns = df_sig.columns.str.replace('.', ' ')\n",
      "/Users/siyuhe/Spatial_project/PoE/main.py:478: FutureWarning: The default value of regex will change from True to False in a future version. In addition, single character regular expressions will*not* be treated as literal strings when regex=True.\n",
      "  df_sig.columns = df_sig.columns.str.replace('+', '')\n",
      "/Users/siyuhe/anaconda3/lib/python3.8/site-packages/pandas/core/indexing.py:1597: SettingWithCopyWarning: \n",
      "A value is trying to be set on a copy of a slice from a DataFrame.\n",
      "Try using .loc[row_indexer,col_indexer] = value instead\n",
      "\n",
      "See the caveats in the documentation: https://pandas.pydata.org/pandas-docs/stable/user_guide/indexing.html#returning-a-view-versus-a-copy\n",
      "  self.obj[key] = value\n",
      "/Users/siyuhe/anaconda3/lib/python3.8/site-packages/pandas/core/indexing.py:1676: SettingWithCopyWarning: \n",
      "A value is trying to be set on a copy of a slice from a DataFrame.\n",
      "Try using .loc[row_indexer,col_indexer] = value instead\n",
      "\n",
      "See the caveats in the documentation: https://pandas.pydata.org/pandas-docs/stable/user_guide/indexing.html#returning-a-view-versus-a-copy\n",
      "  self._setitem_single_column(ilocs[0], value, pi)\n"
     ]
    },
    {
     "name": "stdout",
     "output_type": "stream",
     "text": [
      "the number of original variable genes in the dataset (2000,)\n",
      "the number of siganture genes in the dataset (537,)\n",
      "after filter out some genes in the signature not in the var_names ... (510,)\n",
      "after filter out some genes not highly expressed in the signature ... (454,)\n",
      "combine the varibale and siganture, the total unique gene number is ... 2397\n"
     ]
    },
    {
     "name": "stderr",
     "output_type": "stream",
     "text": [
      "  1%|          | 2/396 [00:00<00:29, 13.53it/s]"
     ]
    },
    {
     "name": "stdout",
     "output_type": "stream",
     "text": [
      "Epoch 1 of 30\n"
     ]
    },
    {
     "name": "stderr",
     "output_type": "stream",
     "text": [
      "397it [00:31, 12.76it/s]                         \n",
      "  1%|          | 2/396 [00:00<00:29, 13.55it/s]"
     ]
    },
    {
     "name": "stdout",
     "output_type": "stream",
     "text": [
      "Train Loss: 3370337257.7531\n",
      "Epoch 2 of 30\n"
     ]
    },
    {
     "name": "stderr",
     "output_type": "stream",
     "text": [
      "397it [00:31, 12.77it/s]                         \n",
      "  1%|          | 2/396 [00:00<00:30, 13.02it/s]"
     ]
    },
    {
     "name": "stdout",
     "output_type": "stream",
     "text": [
      "Train Loss: 1106612641.2897\n",
      "Epoch 3 of 30\n"
     ]
    },
    {
     "name": "stderr",
     "output_type": "stream",
     "text": [
      "397it [00:32, 12.19it/s]                         \n",
      "  1%|          | 2/396 [00:00<00:33, 11.73it/s]"
     ]
    },
    {
     "name": "stdout",
     "output_type": "stream",
     "text": [
      "Train Loss: 299558114.5592\n",
      "Epoch 4 of 30\n"
     ]
    },
    {
     "name": "stderr",
     "output_type": "stream",
     "text": [
      "397it [00:32, 12.03it/s]                         \n",
      "  1%|          | 2/396 [00:00<00:34, 11.29it/s]"
     ]
    },
    {
     "name": "stdout",
     "output_type": "stream",
     "text": [
      "Train Loss: 117877126.4383\n",
      "Epoch 5 of 30\n"
     ]
    },
    {
     "name": "stderr",
     "output_type": "stream",
     "text": [
      "397it [00:33, 11.92it/s]                         \n",
      "  1%|          | 2/396 [00:00<00:33, 11.67it/s]"
     ]
    },
    {
     "name": "stdout",
     "output_type": "stream",
     "text": [
      "Train Loss: 74220548.5038\n",
      "Epoch 6 of 30\n"
     ]
    },
    {
     "name": "stderr",
     "output_type": "stream",
     "text": [
      "397it [00:33, 11.92it/s]                         \n",
      "  1%|          | 2/396 [00:00<00:35, 11.24it/s]"
     ]
    },
    {
     "name": "stdout",
     "output_type": "stream",
     "text": [
      "Train Loss: 61749994.2569\n",
      "Epoch 7 of 30\n"
     ]
    },
    {
     "name": "stderr",
     "output_type": "stream",
     "text": [
      "397it [00:33, 11.89it/s]                         \n",
      "  1%|          | 2/396 [00:00<00:34, 11.41it/s]"
     ]
    },
    {
     "name": "stdout",
     "output_type": "stream",
     "text": [
      "Train Loss: 56442367.7632\n",
      "Epoch 8 of 30\n"
     ]
    },
    {
     "name": "stderr",
     "output_type": "stream",
     "text": [
      "397it [00:33, 11.90it/s]                         \n",
      "  1%|          | 2/396 [00:00<00:33, 11.69it/s]"
     ]
    },
    {
     "name": "stdout",
     "output_type": "stream",
     "text": [
      "Train Loss: 54417796.8715\n",
      "Epoch 9 of 30\n"
     ]
    },
    {
     "name": "stderr",
     "output_type": "stream",
     "text": [
      "397it [00:33, 11.88it/s]                         \n",
      "  1%|          | 2/396 [00:00<00:32, 12.22it/s]"
     ]
    },
    {
     "name": "stdout",
     "output_type": "stream",
     "text": [
      "Train Loss: 52721629.6071\n",
      "Epoch 10 of 30\n"
     ]
    },
    {
     "name": "stderr",
     "output_type": "stream",
     "text": [
      "397it [00:33, 11.92it/s]                         \n",
      "  1%|          | 2/396 [00:00<00:34, 11.59it/s]"
     ]
    },
    {
     "name": "stdout",
     "output_type": "stream",
     "text": [
      "Train Loss: 51528921.5113\n",
      "Epoch 11 of 30\n"
     ]
    },
    {
     "name": "stderr",
     "output_type": "stream",
     "text": [
      "397it [00:33, 11.91it/s]                         \n",
      "  1%|          | 2/396 [00:00<00:31, 12.35it/s]"
     ]
    },
    {
     "name": "stdout",
     "output_type": "stream",
     "text": [
      "Train Loss: 50806990.7859\n",
      "Epoch 12 of 30\n"
     ]
    },
    {
     "name": "stderr",
     "output_type": "stream",
     "text": [
      "397it [00:33, 11.90it/s]                         \n",
      "  1%|          | 2/396 [00:00<00:33, 11.93it/s]"
     ]
    },
    {
     "name": "stdout",
     "output_type": "stream",
     "text": [
      "Train Loss: 50427828.1713\n",
      "Epoch 13 of 30\n"
     ]
    },
    {
     "name": "stderr",
     "output_type": "stream",
     "text": [
      "397it [00:33, 11.89it/s]                         \n",
      "  1%|          | 2/396 [00:00<00:32, 12.03it/s]"
     ]
    },
    {
     "name": "stdout",
     "output_type": "stream",
     "text": [
      "Train Loss: 50411384.5793\n",
      "Epoch 14 of 30\n"
     ]
    },
    {
     "name": "stderr",
     "output_type": "stream",
     "text": [
      "397it [00:33, 11.89it/s]                         \n",
      "  1%|          | 2/396 [00:00<00:32, 12.13it/s]"
     ]
    },
    {
     "name": "stdout",
     "output_type": "stream",
     "text": [
      "Train Loss: 50082199.0126\n",
      "Epoch 15 of 30\n"
     ]
    },
    {
     "name": "stderr",
     "output_type": "stream",
     "text": [
      "397it [00:33, 11.86it/s]                         \n",
      "  1%|          | 2/396 [00:00<00:32, 12.24it/s]"
     ]
    },
    {
     "name": "stdout",
     "output_type": "stream",
     "text": [
      "Train Loss: 50031362.5491\n",
      "Epoch 16 of 30\n"
     ]
    },
    {
     "name": "stderr",
     "output_type": "stream",
     "text": [
      "397it [00:33, 11.90it/s]                         \n",
      "  1%|          | 2/396 [00:00<00:33, 11.77it/s]"
     ]
    },
    {
     "name": "stdout",
     "output_type": "stream",
     "text": [
      "Train Loss: 49923195.7078\n",
      "Epoch 17 of 30\n"
     ]
    },
    {
     "name": "stderr",
     "output_type": "stream",
     "text": [
      "397it [00:33, 11.90it/s]                         \n",
      "  1%|          | 2/396 [00:00<00:33, 11.86it/s]"
     ]
    },
    {
     "name": "stdout",
     "output_type": "stream",
     "text": [
      "Train Loss: 49737987.8136\n",
      "Epoch 18 of 30\n"
     ]
    },
    {
     "name": "stderr",
     "output_type": "stream",
     "text": [
      "397it [00:33, 11.84it/s]                         \n",
      "  1%|          | 2/396 [00:00<00:33, 11.79it/s]"
     ]
    },
    {
     "name": "stdout",
     "output_type": "stream",
     "text": [
      "Train Loss: 50120750.8111\n",
      "Epoch 19 of 30\n"
     ]
    },
    {
     "name": "stderr",
     "output_type": "stream",
     "text": [
      "397it [00:33, 11.83it/s]                         \n",
      "  1%|          | 2/396 [00:00<00:33, 11.84it/s]"
     ]
    },
    {
     "name": "stdout",
     "output_type": "stream",
     "text": [
      "Train Loss: 49885603.8136\n",
      "Epoch 20 of 30\n"
     ]
    },
    {
     "name": "stderr",
     "output_type": "stream",
     "text": [
      "397it [00:33, 11.86it/s]                         \n",
      "  1%|          | 2/396 [00:00<00:33, 11.68it/s]"
     ]
    },
    {
     "name": "stdout",
     "output_type": "stream",
     "text": [
      "Train Loss: 50019960.3325\n",
      "Epoch 21 of 30\n"
     ]
    },
    {
     "name": "stderr",
     "output_type": "stream",
     "text": [
      "397it [00:33, 11.81it/s]                         \n",
      "  1%|          | 2/396 [00:00<00:34, 11.45it/s]"
     ]
    },
    {
     "name": "stdout",
     "output_type": "stream",
     "text": [
      "Train Loss: 49913420.1259\n",
      "Epoch 22 of 30\n"
     ]
    },
    {
     "name": "stderr",
     "output_type": "stream",
     "text": [
      "397it [00:33, 11.77it/s]                         \n",
      "  1%|          | 2/396 [00:00<00:32, 12.00it/s]"
     ]
    },
    {
     "name": "stdout",
     "output_type": "stream",
     "text": [
      "Train Loss: 49979703.0378\n",
      "Epoch 23 of 30\n"
     ]
    },
    {
     "name": "stderr",
     "output_type": "stream",
     "text": [
      "397it [00:33, 11.83it/s]                         \n",
      "  1%|          | 2/396 [00:00<00:33, 11.75it/s]"
     ]
    },
    {
     "name": "stdout",
     "output_type": "stream",
     "text": [
      "Train Loss: 49980915.9144\n",
      "Epoch 24 of 30\n"
     ]
    },
    {
     "name": "stderr",
     "output_type": "stream",
     "text": [
      "397it [00:33, 11.84it/s]                         \n",
      "  1%|          | 2/396 [00:00<00:34, 11.54it/s]"
     ]
    },
    {
     "name": "stdout",
     "output_type": "stream",
     "text": [
      "Train Loss: 49962491.5516\n",
      "Epoch 25 of 30\n"
     ]
    },
    {
     "name": "stderr",
     "output_type": "stream",
     "text": [
      "397it [00:33, 11.82it/s]                         \n",
      "  1%|          | 2/396 [00:00<00:32, 12.05it/s]"
     ]
    },
    {
     "name": "stdout",
     "output_type": "stream",
     "text": [
      "Train Loss: 50065244.1562\n",
      "Epoch 26 of 30\n"
     ]
    },
    {
     "name": "stderr",
     "output_type": "stream",
     "text": [
      "397it [00:33, 11.82it/s]                         \n",
      "  1%|          | 2/396 [00:00<00:32, 12.06it/s]"
     ]
    },
    {
     "name": "stdout",
     "output_type": "stream",
     "text": [
      "Train Loss: 50142222.7809\n",
      "Epoch 27 of 30\n"
     ]
    },
    {
     "name": "stderr",
     "output_type": "stream",
     "text": [
      "397it [00:33, 11.86it/s]                         \n",
      "  1%|          | 2/396 [00:00<00:33, 11.88it/s]"
     ]
    },
    {
     "name": "stdout",
     "output_type": "stream",
     "text": [
      "Train Loss: 49838678.0554\n",
      "Epoch 28 of 30\n"
     ]
    },
    {
     "name": "stderr",
     "output_type": "stream",
     "text": [
      "397it [00:32, 12.27it/s]                         \n",
      "  1%|          | 2/396 [00:00<00:31, 12.33it/s]"
     ]
    },
    {
     "name": "stdout",
     "output_type": "stream",
     "text": [
      "Train Loss: 49808030.9068\n",
      "Epoch 29 of 30\n"
     ]
    },
    {
     "name": "stderr",
     "output_type": "stream",
     "text": [
      "397it [00:31, 12.56it/s]                         \n",
      "  1%|          | 2/396 [00:00<00:32, 11.99it/s]"
     ]
    },
    {
     "name": "stdout",
     "output_type": "stream",
     "text": [
      "Train Loss: 49826180.0202\n",
      "Epoch 30 of 30\n"
     ]
    },
    {
     "name": "stderr",
     "output_type": "stream",
     "text": [
      "397it [00:31, 12.56it/s]                         \n"
     ]
    },
    {
     "name": "stdout",
     "output_type": "stream",
     "text": [
      "Train Loss: 49965634.7103\n",
      "finish lower training rate\n"
     ]
    },
    {
     "data": {
      "image/png": "[encoded data removed]",
      "text/plain": [
       "<Figure size 720x504 with 1 Axes>"
      ]
     },
     "metadata": {
      "needs_background": "light"
     },
     "output_type": "display_data"
    },
    {
     "name": "stdout",
     "output_type": "stream",
     "text": [
      "working on  CID4465\n",
      "Preprocessing1: delete the mt and rp\n",
      "Preprocessing2: Normalize\n"
     ]
    },
    {
     "name": "stderr",
     "output_type": "stream",
     "text": [
      "/Users/siyuhe/anaconda3/lib/python3.8/site-packages/scanpy/preprocessing/_normalization.py:155: UserWarning: Revieved a view of an AnnData. Making a copy.\n",
      "  view_to_actual(adata)\n"
     ]
    },
    {
     "name": "stdout",
     "output_type": "stream",
     "text": [
      "Preprocessing3: Logarithm\n",
      "Preprocessing4: Find the variable genes\n"
     ]
    },
    {
     "name": "stderr",
     "output_type": "stream",
     "text": [
      "/Users/siyuhe/Spatial_project/PoE/main.py:475: FutureWarning: The default value of regex will change from True to False in a future version. In addition, single character regular expressions will*not* be treated as literal strings when regex=True.\n",
      "  df_sig.columns = df_sig.columns.str.replace('.', ' ')\n",
      "/Users/siyuhe/Spatial_project/PoE/main.py:478: FutureWarning: The default value of regex will change from True to False in a future version. In addition, single character regular expressions will*not* be treated as literal strings when regex=True.\n",
      "  df_sig.columns = df_sig.columns.str.replace('+', '')\n",
      "/Users/siyuhe/anaconda3/lib/python3.8/site-packages/pandas/core/indexing.py:1597: SettingWithCopyWarning: \n",
      "A value is trying to be set on a copy of a slice from a DataFrame.\n",
      "Try using .loc[row_indexer,col_indexer] = value instead\n",
      "\n",
      "See the caveats in the documentation: https://pandas.pydata.org/pandas-docs/stable/user_guide/indexing.html#returning-a-view-versus-a-copy\n",
      "  self.obj[key] = value\n",
      "/Users/siyuhe/anaconda3/lib/python3.8/site-packages/pandas/core/indexing.py:1676: SettingWithCopyWarning: \n",
      "A value is trying to be set on a copy of a slice from a DataFrame.\n",
      "Try using .loc[row_indexer,col_indexer] = value instead\n",
      "\n",
      "See the caveats in the documentation: https://pandas.pydata.org/pandas-docs/stable/user_guide/indexing.html#returning-a-view-versus-a-copy\n",
      "  self._setitem_single_column(ilocs[0], value, pi)\n"
     ]
    },
    {
     "name": "stdout",
     "output_type": "stream",
     "text": [
      "the number of original variable genes in the dataset (2000,)\n",
      "the number of siganture genes in the dataset (537,)\n",
      "after filter out some genes in the signature not in the var_names ... (497,)\n",
      "after filter out some genes not highly expressed in the signature ... (497,)\n",
      "combine the varibale and siganture, the total unique gene number is ... 2334\n"
     ]
    },
    {
     "name": "stderr",
     "output_type": "stream",
     "text": [
      "  1%|▏         | 2/151 [00:00<00:11, 12.54it/s]"
     ]
    },
    {
     "name": "stdout",
     "output_type": "stream",
     "text": [
      "Epoch 1 of 30\n"
     ]
    },
    {
     "name": "stderr",
     "output_type": "stream",
     "text": [
      "152it [00:12, 11.96it/s]                         \n",
      "  1%|▏         | 2/151 [00:00<00:12, 12.11it/s]"
     ]
    },
    {
     "name": "stdout",
     "output_type": "stream",
     "text": [
      "Train Loss: 6436046783.1579\n",
      "Epoch 2 of 30\n"
     ]
    },
    {
     "name": "stderr",
     "output_type": "stream",
     "text": [
      "152it [00:12, 11.92it/s]                         \n",
      "  1%|▏         | 2/151 [00:00<00:13, 11.27it/s]"
     ]
    },
    {
     "name": "stdout",
     "output_type": "stream",
     "text": [
      "Train Loss: 4594836366.3158\n",
      "Epoch 3 of 30\n"
     ]
    },
    {
     "name": "stderr",
     "output_type": "stream",
     "text": [
      "152it [00:12, 11.93it/s]                         \n",
      "  1%|▏         | 2/151 [00:00<00:12, 11.71it/s]"
     ]
    },
    {
     "name": "stdout",
     "output_type": "stream",
     "text": [
      "Train Loss: 3298874105.2632\n",
      "Epoch 4 of 30\n"
     ]
    },
    {
     "name": "stderr",
     "output_type": "stream",
     "text": [
      "152it [00:12, 11.85it/s]                         \n",
      "  1%|▏         | 2/151 [00:00<00:12, 12.15it/s]"
     ]
    },
    {
     "name": "stdout",
     "output_type": "stream",
     "text": [
      "Train Loss: 2406200454.7368\n",
      "Epoch 5 of 30\n"
     ]
    },
    {
     "name": "stderr",
     "output_type": "stream",
     "text": [
      "152it [00:12, 11.83it/s]                         \n",
      "  1%|▏         | 2/151 [00:00<00:13, 11.26it/s]"
     ]
    },
    {
     "name": "stdout",
     "output_type": "stream",
     "text": [
      "Train Loss: 1830070419.3684\n",
      "Epoch 6 of 30\n"
     ]
    },
    {
     "name": "stderr",
     "output_type": "stream",
     "text": [
      "152it [00:12, 11.78it/s]                         \n",
      "  1%|▏         | 2/151 [00:00<00:12, 11.89it/s]"
     ]
    },
    {
     "name": "stdout",
     "output_type": "stream",
     "text": [
      "Train Loss: 1445647258.9474\n",
      "Epoch 7 of 30\n"
     ]
    },
    {
     "name": "stderr",
     "output_type": "stream",
     "text": [
      "152it [00:12, 11.78it/s]                         \n",
      "  1%|▏         | 2/151 [00:00<00:12, 11.53it/s]"
     ]
    },
    {
     "name": "stdout",
     "output_type": "stream",
     "text": [
      "Train Loss: 1180474285.4737\n",
      "Epoch 8 of 30\n"
     ]
    },
    {
     "name": "stderr",
     "output_type": "stream",
     "text": [
      "152it [00:12, 11.80it/s]                         \n",
      "  1%|▏         | 2/151 [00:00<00:13, 11.36it/s]"
     ]
    },
    {
     "name": "stdout",
     "output_type": "stream",
     "text": [
      "Train Loss: 999170205.0526\n",
      "Epoch 9 of 30\n"
     ]
    },
    {
     "name": "stderr",
     "output_type": "stream",
     "text": [
      "152it [00:12, 11.82it/s]                         \n",
      "  1%|▏         | 2/151 [00:00<00:12, 11.75it/s]"
     ]
    },
    {
     "name": "stdout",
     "output_type": "stream",
     "text": [
      "Train Loss: 865973727.1579\n",
      "Epoch 10 of 30\n"
     ]
    },
    {
     "name": "stderr",
     "output_type": "stream",
     "text": [
      "152it [00:12, 11.80it/s]                         \n",
      "  1%|▏         | 2/151 [00:00<00:12, 11.52it/s]"
     ]
    },
    {
     "name": "stdout",
     "output_type": "stream",
     "text": [
      "Train Loss: 771661951.3684\n",
      "Epoch 11 of 30\n"
     ]
    },
    {
     "name": "stderr",
     "output_type": "stream",
     "text": [
      "152it [00:12, 11.81it/s]                         \n",
      "  1%|▏         | 2/151 [00:00<00:13, 11.35it/s]"
     ]
    },
    {
     "name": "stdout",
     "output_type": "stream",
     "text": [
      "Train Loss: 702801958.9474\n",
      "Epoch 12 of 30\n"
     ]
    },
    {
     "name": "stderr",
     "output_type": "stream",
     "text": [
      "152it [00:12, 11.80it/s]                         \n",
      "  1%|▏         | 2/151 [00:00<00:13, 11.33it/s]"
     ]
    },
    {
     "name": "stdout",
     "output_type": "stream",
     "text": [
      "Train Loss: 644242183.5789\n",
      "Epoch 13 of 30\n"
     ]
    },
    {
     "name": "stderr",
     "output_type": "stream",
     "text": [
      "152it [00:12, 11.70it/s]                         \n",
      "  1%|▏         | 2/151 [00:00<00:13, 11.40it/s]"
     ]
    },
    {
     "name": "stdout",
     "output_type": "stream",
     "text": [
      "Train Loss: 599117285.2632\n",
      "Epoch 14 of 30\n"
     ]
    },
    {
     "name": "stderr",
     "output_type": "stream",
     "text": [
      "152it [00:12, 11.84it/s]                         \n",
      "  1%|▏         | 2/151 [00:00<00:12, 11.59it/s]"
     ]
    },
    {
     "name": "stdout",
     "output_type": "stream",
     "text": [
      "Train Loss: 563042469.4737\n",
      "Epoch 15 of 30\n"
     ]
    },
    {
     "name": "stderr",
     "output_type": "stream",
     "text": [
      "152it [00:12, 11.76it/s]                         \n",
      "  1%|▏         | 2/151 [00:00<00:12, 12.31it/s]"
     ]
    },
    {
     "name": "stdout",
     "output_type": "stream",
     "text": [
      "Train Loss: 530092607.5789\n",
      "Epoch 16 of 30\n"
     ]
    },
    {
     "name": "stderr",
     "output_type": "stream",
     "text": [
      "152it [00:12, 11.83it/s]                         \n",
      "  1%|▏         | 2/151 [00:00<00:13, 11.46it/s]"
     ]
    },
    {
     "name": "stdout",
     "output_type": "stream",
     "text": [
      "Train Loss: 502261690.4211\n",
      "Epoch 17 of 30\n"
     ]
    },
    {
     "name": "stderr",
     "output_type": "stream",
     "text": [
      "152it [00:12, 11.82it/s]                         \n",
      "  1%|▏         | 2/151 [00:00<00:12, 11.63it/s]"
     ]
    },
    {
     "name": "stdout",
     "output_type": "stream",
     "text": [
      "Train Loss: 478615401.4737\n",
      "Epoch 18 of 30\n"
     ]
    },
    {
     "name": "stderr",
     "output_type": "stream",
     "text": [
      "152it [00:12, 11.78it/s]                         \n",
      "  1%|▏         | 2/151 [00:00<00:13, 11.31it/s]"
     ]
    },
    {
     "name": "stdout",
     "output_type": "stream",
     "text": [
      "Train Loss: 455008580.4211\n",
      "Epoch 19 of 30\n"
     ]
    },
    {
     "name": "stderr",
     "output_type": "stream",
     "text": [
      "152it [00:12, 11.76it/s]                         \n",
      "  1%|▏         | 2/151 [00:00<00:13, 11.33it/s]"
     ]
    },
    {
     "name": "stdout",
     "output_type": "stream",
     "text": [
      "Train Loss: 438928600.4211\n",
      "Epoch 20 of 30\n"
     ]
    },
    {
     "name": "stderr",
     "output_type": "stream",
     "text": [
      "152it [00:12, 11.77it/s]                         \n",
      "  1%|▏         | 2/151 [00:00<00:13, 11.42it/s]"
     ]
    },
    {
     "name": "stdout",
     "output_type": "stream",
     "text": [
      "Train Loss: 419693806.0000\n",
      "Epoch 21 of 30\n"
     ]
    },
    {
     "name": "stderr",
     "output_type": "stream",
     "text": [
      "152it [00:12, 11.79it/s]                         \n",
      "  1%|▏         | 2/151 [00:00<00:12, 11.56it/s]"
     ]
    },
    {
     "name": "stdout",
     "output_type": "stream",
     "text": [
      "Train Loss: 406656227.7895\n",
      "Epoch 22 of 30\n"
     ]
    },
    {
     "name": "stderr",
     "output_type": "stream",
     "text": [
      "152it [00:12, 11.75it/s]                         \n",
      "  1%|▏         | 2/151 [00:00<00:12, 11.48it/s]"
     ]
    },
    {
     "name": "stdout",
     "output_type": "stream",
     "text": [
      "Train Loss: 393353127.4737\n",
      "Epoch 23 of 30\n"
     ]
    },
    {
     "name": "stderr",
     "output_type": "stream",
     "text": [
      "152it [00:13, 11.66it/s]                         \n",
      "  1%|▏         | 2/151 [00:00<00:12, 11.88it/s]"
     ]
    },
    {
     "name": "stdout",
     "output_type": "stream",
     "text": [
      "Train Loss: 381492325.2632\n",
      "Epoch 24 of 30\n"
     ]
    },
    {
     "name": "stderr",
     "output_type": "stream",
     "text": [
      "152it [00:12, 11.81it/s]                         \n",
      "  1%|▏         | 2/151 [00:00<00:12, 11.76it/s]"
     ]
    },
    {
     "name": "stdout",
     "output_type": "stream",
     "text": [
      "Train Loss: 369914157.3684\n",
      "Epoch 25 of 30\n"
     ]
    },
    {
     "name": "stderr",
     "output_type": "stream",
     "text": [
      "152it [00:12, 11.78it/s]                         \n",
      "  1%|▏         | 2/151 [00:00<00:12, 11.55it/s]"
     ]
    },
    {
     "name": "stdout",
     "output_type": "stream",
     "text": [
      "Train Loss: 360583259.8947\n",
      "Epoch 26 of 30\n"
     ]
    },
    {
     "name": "stderr",
     "output_type": "stream",
     "text": [
      "152it [00:12, 11.86it/s]                         \n",
      "  1%|▏         | 2/151 [00:00<00:12, 11.75it/s]"
     ]
    },
    {
     "name": "stdout",
     "output_type": "stream",
     "text": [
      "Train Loss: 352614280.4211\n",
      "Epoch 27 of 30\n"
     ]
    },
    {
     "name": "stderr",
     "output_type": "stream",
     "text": [
      "152it [00:13, 11.35it/s]                         \n",
      "  0%|          | 0/151 [00:00<?, ?it/s]"
     ]
    },
    {
     "name": "stdout",
     "output_type": "stream",
     "text": [
      "Train Loss: 346921037.5789\n",
      "Epoch 28 of 30\n"
     ]
    },
    {
     "name": "stderr",
     "output_type": "stream",
     "text": [
      "152it [00:13, 11.04it/s]                         \n",
      "  1%|▏         | 2/151 [00:00<00:12, 11.68it/s]"
     ]
    },
    {
     "name": "stdout",
     "output_type": "stream",
     "text": [
      "Train Loss: 340703916.8421\n",
      "Epoch 29 of 30\n"
     ]
    },
    {
     "name": "stderr",
     "output_type": "stream",
     "text": [
      "152it [00:13, 11.10it/s]                         \n",
      "  1%|▏         | 2/151 [00:00<00:13, 11.03it/s]"
     ]
    },
    {
     "name": "stdout",
     "output_type": "stream",
     "text": [
      "Train Loss: 334932030.2105\n",
      "Epoch 30 of 30\n"
     ]
    },
    {
     "name": "stderr",
     "output_type": "stream",
     "text": [
      "152it [00:13, 11.17it/s]                         \n"
     ]
    },
    {
     "name": "stdout",
     "output_type": "stream",
     "text": [
      "Train Loss: 330717050.8421\n",
      "finish lower training rate\n"
     ]
    },
    {
     "data": {
      "image/png": "[encoded data removed]",
      "text/plain": [
       "<Figure size 720x504 with 1 Axes>"
      ]
     },
     "metadata": {
      "needs_background": "light"
     },
     "output_type": "display_data"
    },
    {
     "name": "stdout",
     "output_type": "stream",
     "text": [
      "working on  1142243F\n",
      "Preprocessing1: delete the mt and rp\n",
      "Preprocessing2: Normalize\n"
     ]
    },
    {
     "name": "stderr",
     "output_type": "stream",
     "text": [
      "/Users/siyuhe/anaconda3/lib/python3.8/site-packages/scanpy/preprocessing/_normalization.py:155: UserWarning: Revieved a view of an AnnData. Making a copy.\n",
      "  view_to_actual(adata)\n"
     ]
    },
    {
     "name": "stdout",
     "output_type": "stream",
     "text": [
      "Preprocessing3: Logarithm\n",
      "Preprocessing4: Find the variable genes\n"
     ]
    },
    {
     "name": "stderr",
     "output_type": "stream",
     "text": [
      "/Users/siyuhe/Spatial_project/PoE/main.py:475: FutureWarning: The default value of regex will change from True to False in a future version. In addition, single character regular expressions will*not* be treated as literal strings when regex=True.\n",
      "  df_sig.columns = df_sig.columns.str.replace('.', ' ')\n",
      "/Users/siyuhe/Spatial_project/PoE/main.py:478: FutureWarning: The default value of regex will change from True to False in a future version. In addition, single character regular expressions will*not* be treated as literal strings when regex=True.\n",
      "  df_sig.columns = df_sig.columns.str.replace('+', '')\n",
      "/Users/siyuhe/anaconda3/lib/python3.8/site-packages/pandas/core/indexing.py:1597: SettingWithCopyWarning: \n",
      "A value is trying to be set on a copy of a slice from a DataFrame.\n",
      "Try using .loc[row_indexer,col_indexer] = value instead\n",
      "\n",
      "See the caveats in the documentation: https://pandas.pydata.org/pandas-docs/stable/user_guide/indexing.html#returning-a-view-versus-a-copy\n",
      "  self.obj[key] = value\n",
      "/Users/siyuhe/anaconda3/lib/python3.8/site-packages/pandas/core/indexing.py:1676: SettingWithCopyWarning: \n",
      "A value is trying to be set on a copy of a slice from a DataFrame.\n",
      "Try using .loc[row_indexer,col_indexer] = value instead\n",
      "\n",
      "See the caveats in the documentation: https://pandas.pydata.org/pandas-docs/stable/user_guide/indexing.html#returning-a-view-versus-a-copy\n",
      "  self._setitem_single_column(ilocs[0], value, pi)\n"
     ]
    },
    {
     "name": "stdout",
     "output_type": "stream",
     "text": [
      "the number of original variable genes in the dataset (2000,)\n",
      "the number of siganture genes in the dataset (537,)\n",
      "after filter out some genes in the signature not in the var_names ... (507,)\n",
      "after filter out some genes not highly expressed in the signature ... (505,)\n",
      "combine the varibale and siganture, the total unique gene number is ... 2408\n"
     ]
    },
    {
     "name": "stderr",
     "output_type": "stream",
     "text": [
      "  0%|          | 2/598 [00:00<00:45, 13.10it/s]"
     ]
    },
    {
     "name": "stdout",
     "output_type": "stream",
     "text": [
      "Epoch 1 of 30\n"
     ]
    },
    {
     "name": "stderr",
     "output_type": "stream",
     "text": [
      "100%|██████████| 598/598 [00:52<00:00, 11.44it/s]\n",
      "  0%|          | 2/598 [00:00<00:52, 11.26it/s]"
     ]
    },
    {
     "name": "stdout",
     "output_type": "stream",
     "text": [
      "Train Loss: 3288030208.2140\n",
      "Epoch 2 of 30\n"
     ]
    },
    {
     "name": "stderr",
     "output_type": "stream",
     "text": [
      "100%|██████████| 598/598 [00:52<00:00, 11.42it/s]\n",
      "  0%|          | 2/598 [00:00<00:54, 11.01it/s]"
     ]
    },
    {
     "name": "stdout",
     "output_type": "stream",
     "text": [
      "Train Loss: 796858113.3913\n",
      "Epoch 3 of 30\n"
     ]
    },
    {
     "name": "stderr",
     "output_type": "stream",
     "text": [
      "100%|██████████| 598/598 [00:52<00:00, 11.46it/s]\n",
      "  0%|          | 2/598 [00:00<00:53, 11.12it/s]"
     ]
    },
    {
     "name": "stdout",
     "output_type": "stream",
     "text": [
      "Train Loss: 301759381.0033\n",
      "Epoch 4 of 30\n"
     ]
    },
    {
     "name": "stderr",
     "output_type": "stream",
     "text": [
      "100%|██████████| 598/598 [00:52<00:00, 11.41it/s]\n",
      "  0%|          | 2/598 [00:00<00:51, 11.52it/s]"
     ]
    },
    {
     "name": "stdout",
     "output_type": "stream",
     "text": [
      "Train Loss: 227987714.1405\n",
      "Epoch 5 of 30\n"
     ]
    },
    {
     "name": "stderr",
     "output_type": "stream",
     "text": [
      "100%|██████████| 598/598 [00:52<00:00, 11.46it/s]\n",
      "  0%|          | 2/598 [00:00<00:53, 11.10it/s]"
     ]
    },
    {
     "name": "stdout",
     "output_type": "stream",
     "text": [
      "Train Loss: 211514649.1505\n",
      "Epoch 6 of 30\n"
     ]
    },
    {
     "name": "stderr",
     "output_type": "stream",
     "text": [
      "100%|██████████| 598/598 [00:52<00:00, 11.46it/s]\n",
      "  0%|          | 2/598 [00:00<00:54, 11.00it/s]"
     ]
    },
    {
     "name": "stdout",
     "output_type": "stream",
     "text": [
      "Train Loss: 204614440.2140\n",
      "Epoch 7 of 30\n"
     ]
    },
    {
     "name": "stderr",
     "output_type": "stream",
     "text": [
      "100%|██████████| 598/598 [00:52<00:00, 11.47it/s]\n",
      "  0%|          | 2/598 [00:00<00:51, 11.61it/s]"
     ]
    },
    {
     "name": "stdout",
     "output_type": "stream",
     "text": [
      "Train Loss: 201340646.6087\n",
      "Epoch 8 of 30\n"
     ]
    },
    {
     "name": "stderr",
     "output_type": "stream",
     "text": [
      "100%|██████████| 598/598 [00:52<00:00, 11.45it/s]\n",
      "  0%|          | 2/598 [00:00<00:53, 11.15it/s]"
     ]
    },
    {
     "name": "stdout",
     "output_type": "stream",
     "text": [
      "Train Loss: 200398683.9064\n",
      "Epoch 9 of 30\n"
     ]
    },
    {
     "name": "stderr",
     "output_type": "stream",
     "text": [
      "100%|██████████| 598/598 [00:52<00:00, 11.38it/s]\n",
      "  0%|          | 2/598 [00:00<00:54, 11.00it/s]"
     ]
    },
    {
     "name": "stdout",
     "output_type": "stream",
     "text": [
      "Train Loss: 199836573.5920\n",
      "Epoch 10 of 30\n"
     ]
    },
    {
     "name": "stderr",
     "output_type": "stream",
     "text": [
      "100%|██████████| 598/598 [00:53<00:00, 11.20it/s]\n",
      "  0%|          | 2/598 [00:00<00:52, 11.30it/s]"
     ]
    },
    {
     "name": "stdout",
     "output_type": "stream",
     "text": [
      "Train Loss: 199322550.8495\n",
      "Epoch 11 of 30\n"
     ]
    },
    {
     "name": "stderr",
     "output_type": "stream",
     "text": [
      "100%|██████████| 598/598 [00:55<00:00, 10.79it/s]\n",
      "  0%|          | 2/598 [00:00<00:53, 11.09it/s]"
     ]
    },
    {
     "name": "stdout",
     "output_type": "stream",
     "text": [
      "Train Loss: 198590495.7324\n",
      "Epoch 12 of 30\n"
     ]
    },
    {
     "name": "stderr",
     "output_type": "stream",
     "text": [
      "100%|██████████| 598/598 [00:55<00:00, 10.81it/s]\n",
      "  0%|          | 2/598 [00:00<00:55, 10.83it/s]"
     ]
    },
    {
     "name": "stdout",
     "output_type": "stream",
     "text": [
      "Train Loss: 198409809.2040\n",
      "Epoch 13 of 30\n"
     ]
    },
    {
     "name": "stderr",
     "output_type": "stream",
     "text": [
      "100%|██████████| 598/598 [00:55<00:00, 10.80it/s]\n",
      "  0%|          | 2/598 [00:00<00:54, 10.97it/s]"
     ]
    },
    {
     "name": "stdout",
     "output_type": "stream",
     "text": [
      "Train Loss: 197848145.7124\n",
      "Epoch 14 of 30\n"
     ]
    },
    {
     "name": "stderr",
     "output_type": "stream",
     "text": [
      "100%|██████████| 598/598 [00:55<00:00, 10.79it/s]\n",
      "  0%|          | 2/598 [00:00<00:57, 10.40it/s]"
     ]
    },
    {
     "name": "stdout",
     "output_type": "stream",
     "text": [
      "Train Loss: 197208379.0234\n",
      "Epoch 15 of 30\n"
     ]
    },
    {
     "name": "stderr",
     "output_type": "stream",
     "text": [
      "100%|██████████| 598/598 [00:55<00:00, 10.80it/s]\n",
      "  0%|          | 2/598 [00:00<00:54, 10.91it/s]"
     ]
    },
    {
     "name": "stdout",
     "output_type": "stream",
     "text": [
      "Train Loss: 197846241.6054\n",
      "Epoch 16 of 30\n"
     ]
    },
    {
     "name": "stderr",
     "output_type": "stream",
     "text": [
      "100%|██████████| 598/598 [00:55<00:00, 10.83it/s]\n",
      "  0%|          | 2/598 [00:00<00:51, 11.57it/s]"
     ]
    },
    {
     "name": "stdout",
     "output_type": "stream",
     "text": [
      "Train Loss: 196991228.7893\n",
      "Epoch 17 of 30\n"
     ]
    },
    {
     "name": "stderr",
     "output_type": "stream",
     "text": [
      "100%|██████████| 598/598 [00:55<00:00, 10.81it/s]\n",
      "  0%|          | 2/598 [00:00<00:54, 10.88it/s]"
     ]
    },
    {
     "name": "stdout",
     "output_type": "stream",
     "text": [
      "Train Loss: 196699922.4883\n",
      "Epoch 18 of 30\n"
     ]
    },
    {
     "name": "stderr",
     "output_type": "stream",
     "text": [
      "100%|██████████| 598/598 [00:55<00:00, 10.83it/s]\n",
      "  0%|          | 2/598 [00:00<00:53, 11.19it/s]"
     ]
    },
    {
     "name": "stdout",
     "output_type": "stream",
     "text": [
      "Train Loss: 196299930.3010\n",
      "Epoch 19 of 30\n"
     ]
    },
    {
     "name": "stderr",
     "output_type": "stream",
     "text": [
      "100%|██████████| 598/598 [00:54<00:00, 11.03it/s]\n",
      "  0%|          | 2/598 [00:00<00:54, 11.03it/s]"
     ]
    },
    {
     "name": "stdout",
     "output_type": "stream",
     "text": [
      "Train Loss: 196414250.9967\n",
      "Epoch 20 of 30\n"
     ]
    },
    {
     "name": "stderr",
     "output_type": "stream",
     "text": [
      "100%|██████████| 598/598 [00:52<00:00, 11.37it/s]\n",
      "  0%|          | 2/598 [00:00<00:54, 10.84it/s]"
     ]
    },
    {
     "name": "stdout",
     "output_type": "stream",
     "text": [
      "Train Loss: 196345517.3512\n",
      "Epoch 21 of 30\n"
     ]
    },
    {
     "name": "stderr",
     "output_type": "stream",
     "text": [
      "100%|██████████| 598/598 [00:52<00:00, 11.41it/s]\n",
      "  0%|          | 2/598 [00:00<00:53, 11.21it/s]"
     ]
    },
    {
     "name": "stdout",
     "output_type": "stream",
     "text": [
      "Train Loss: 196084294.2609\n",
      "Epoch 22 of 30\n"
     ]
    },
    {
     "name": "stderr",
     "output_type": "stream",
     "text": [
      "100%|██████████| 598/598 [00:52<00:00, 11.36it/s]\n",
      "  0%|          | 2/598 [00:00<00:52, 11.41it/s]"
     ]
    },
    {
     "name": "stdout",
     "output_type": "stream",
     "text": [
      "Train Loss: 196214856.6689\n",
      "Epoch 23 of 30\n"
     ]
    },
    {
     "name": "stderr",
     "output_type": "stream",
     "text": [
      "100%|██████████| 598/598 [00:52<00:00, 11.40it/s]\n",
      "  0%|          | 2/598 [00:00<00:54, 11.02it/s]"
     ]
    },
    {
     "name": "stdout",
     "output_type": "stream",
     "text": [
      "Train Loss: 195902839.6254\n",
      "Epoch 24 of 30\n"
     ]
    },
    {
     "name": "stderr",
     "output_type": "stream",
     "text": [
      "100%|██████████| 598/598 [00:52<00:00, 11.39it/s]\n",
      "  0%|          | 2/598 [00:00<00:54, 10.96it/s]"
     ]
    },
    {
     "name": "stdout",
     "output_type": "stream",
     "text": [
      "Train Loss: 195924962.2475\n",
      "Epoch 25 of 30\n"
     ]
    },
    {
     "name": "stderr",
     "output_type": "stream",
     "text": [
      "100%|██████████| 598/598 [00:55<00:00, 10.83it/s]\n",
      "  0%|          | 2/598 [00:00<00:53, 11.19it/s]"
     ]
    },
    {
     "name": "stdout",
     "output_type": "stream",
     "text": [
      "Train Loss: 195402268.3077\n",
      "Epoch 26 of 30\n"
     ]
    },
    {
     "name": "stderr",
     "output_type": "stream",
     "text": [
      "100%|██████████| 598/598 [00:55<00:00, 10.75it/s]\n",
      "  0%|          | 2/598 [00:00<00:55, 10.66it/s]"
     ]
    },
    {
     "name": "stdout",
     "output_type": "stream",
     "text": [
      "Train Loss: 195533136.2140\n",
      "Epoch 27 of 30\n"
     ]
    },
    {
     "name": "stderr",
     "output_type": "stream",
     "text": [
      "100%|██████████| 598/598 [00:55<00:00, 10.78it/s]\n",
      "  0%|          | 2/598 [00:00<00:55, 10.68it/s]"
     ]
    },
    {
     "name": "stdout",
     "output_type": "stream",
     "text": [
      "Train Loss: 195146937.3110\n",
      "Epoch 28 of 30\n"
     ]
    },
    {
     "name": "stderr",
     "output_type": "stream",
     "text": [
      "100%|██████████| 598/598 [00:55<00:00, 10.71it/s]\n",
      "  0%|          | 2/598 [00:00<00:52, 11.30it/s]"
     ]
    },
    {
     "name": "stdout",
     "output_type": "stream",
     "text": [
      "Train Loss: 195145499.5050\n",
      "Epoch 29 of 30\n"
     ]
    },
    {
     "name": "stderr",
     "output_type": "stream",
     "text": [
      "100%|██████████| 598/598 [00:53<00:00, 11.15it/s]\n",
      "  0%|          | 2/598 [00:00<00:53, 11.08it/s]"
     ]
    },
    {
     "name": "stdout",
     "output_type": "stream",
     "text": [
      "Train Loss: 195052433.1773\n",
      "Epoch 30 of 30\n"
     ]
    },
    {
     "name": "stderr",
     "output_type": "stream",
     "text": [
      "100%|██████████| 598/598 [00:53<00:00, 11.16it/s]\n"
     ]
    },
    {
     "name": "stdout",
     "output_type": "stream",
     "text": [
      "Train Loss: 195876995.9599\n",
      "finish lower training rate\n"
     ]
    },
    {
     "data": {
      "image/png": "[encoded data removed]",
      "text/plain": [
       "<Figure size 720x504 with 1 Axes>"
      ]
     },
     "metadata": {
      "needs_background": "light"
     },
     "output_type": "display_data"
    },
    {
     "name": "stdout",
     "output_type": "stream",
     "text": [
      "working on  1160920F\n",
      "Preprocessing1: delete the mt and rp\n",
      "Preprocessing2: Normalize\n"
     ]
    },
    {
     "name": "stderr",
     "output_type": "stream",
     "text": [
      "/Users/siyuhe/anaconda3/lib/python3.8/site-packages/scanpy/preprocessing/_normalization.py:155: UserWarning: Revieved a view of an AnnData. Making a copy.\n",
      "  view_to_actual(adata)\n"
     ]
    },
    {
     "name": "stdout",
     "output_type": "stream",
     "text": [
      "Preprocessing3: Logarithm\n",
      "Preprocessing4: Find the variable genes\n"
     ]
    },
    {
     "name": "stderr",
     "output_type": "stream",
     "text": [
      "/Users/siyuhe/Spatial_project/PoE/main.py:475: FutureWarning: The default value of regex will change from True to False in a future version. In addition, single character regular expressions will*not* be treated as literal strings when regex=True.\n",
      "  df_sig.columns = df_sig.columns.str.replace('.', ' ')\n",
      "/Users/siyuhe/Spatial_project/PoE/main.py:478: FutureWarning: The default value of regex will change from True to False in a future version. In addition, single character regular expressions will*not* be treated as literal strings when regex=True.\n",
      "  df_sig.columns = df_sig.columns.str.replace('+', '')\n",
      "/Users/siyuhe/anaconda3/lib/python3.8/site-packages/pandas/core/indexing.py:1597: SettingWithCopyWarning: \n",
      "A value is trying to be set on a copy of a slice from a DataFrame.\n",
      "Try using .loc[row_indexer,col_indexer] = value instead\n",
      "\n",
      "See the caveats in the documentation: https://pandas.pydata.org/pandas-docs/stable/user_guide/indexing.html#returning-a-view-versus-a-copy\n",
      "  self.obj[key] = value\n",
      "/Users/siyuhe/anaconda3/lib/python3.8/site-packages/pandas/core/indexing.py:1676: SettingWithCopyWarning: \n",
      "A value is trying to be set on a copy of a slice from a DataFrame.\n",
      "Try using .loc[row_indexer,col_indexer] = value instead\n",
      "\n",
      "See the caveats in the documentation: https://pandas.pydata.org/pandas-docs/stable/user_guide/indexing.html#returning-a-view-versus-a-copy\n",
      "  self._setitem_single_column(ilocs[0], value, pi)\n"
     ]
    },
    {
     "name": "stdout",
     "output_type": "stream",
     "text": [
      "the number of original variable genes in the dataset (2000,)\n",
      "the number of siganture genes in the dataset (537,)\n",
      "after filter out some genes in the signature not in the var_names ... (507,)\n",
      "after filter out some genes not highly expressed in the signature ... (504,)\n",
      "combine the varibale and siganture, the total unique gene number is ... 2354\n"
     ]
    },
    {
     "name": "stderr",
     "output_type": "stream",
     "text": [
      "  0%|          | 2/611 [00:00<00:47, 12.90it/s]"
     ]
    },
    {
     "name": "stdout",
     "output_type": "stream",
     "text": [
      "Epoch 1 of 30\n"
     ]
    },
    {
     "name": "stderr",
     "output_type": "stream",
     "text": [
      "612it [00:52, 11.56it/s]                         \n",
      "  0%|          | 2/611 [00:00<00:53, 11.44it/s]"
     ]
    },
    {
     "name": "stdout",
     "output_type": "stream",
     "text": [
      "Train Loss: 3734556862.5359\n",
      "Epoch 2 of 30\n"
     ]
    },
    {
     "name": "stderr",
     "output_type": "stream",
     "text": [
      "612it [00:57, 10.57it/s]                         \n",
      "  0%|          | 1/611 [00:00<01:05,  9.28it/s]"
     ]
    },
    {
     "name": "stdout",
     "output_type": "stream",
     "text": [
      "Train Loss: 1111836290.4052\n",
      "Epoch 3 of 30\n"
     ]
    },
    {
     "name": "stderr",
     "output_type": "stream",
     "text": [
      "612it [00:53, 11.34it/s]                         \n",
      "  0%|          | 2/611 [00:00<00:50, 11.96it/s]"
     ]
    },
    {
     "name": "stdout",
     "output_type": "stream",
     "text": [
      "Train Loss: 543231309.7516\n",
      "Epoch 4 of 30\n"
     ]
    },
    {
     "name": "stderr",
     "output_type": "stream",
     "text": [
      "612it [00:52, 11.70it/s]                         \n",
      "  0%|          | 2/611 [00:00<00:50, 12.00it/s]"
     ]
    },
    {
     "name": "stdout",
     "output_type": "stream",
     "text": [
      "Train Loss: 421583590.9542\n",
      "Epoch 5 of 30\n"
     ]
    },
    {
     "name": "stderr",
     "output_type": "stream",
     "text": [
      "612it [00:52, 11.75it/s]                         \n",
      "  0%|          | 2/611 [00:00<00:50, 12.06it/s]"
     ]
    },
    {
     "name": "stdout",
     "output_type": "stream",
     "text": [
      "Train Loss: 373141884.2092\n",
      "Epoch 6 of 30\n"
     ]
    },
    {
     "name": "stderr",
     "output_type": "stream",
     "text": [
      "612it [00:52, 11.70it/s]                         \n",
      "  0%|          | 2/611 [00:00<00:47, 12.74it/s]"
     ]
    },
    {
     "name": "stdout",
     "output_type": "stream",
     "text": [
      "Train Loss: 345291484.6275\n",
      "Epoch 7 of 30\n"
     ]
    },
    {
     "name": "stderr",
     "output_type": "stream",
     "text": [
      "612it [00:52, 11.75it/s]                         \n",
      "  0%|          | 2/611 [00:00<00:48, 12.59it/s]"
     ]
    },
    {
     "name": "stdout",
     "output_type": "stream",
     "text": [
      "Train Loss: 329908150.8235\n",
      "Epoch 8 of 30\n"
     ]
    },
    {
     "name": "stderr",
     "output_type": "stream",
     "text": [
      "612it [00:52, 11.72it/s]                         \n",
      "  0%|          | 2/611 [00:00<00:51, 11.77it/s]"
     ]
    },
    {
     "name": "stdout",
     "output_type": "stream",
     "text": [
      "Train Loss: 320952743.1895\n",
      "Epoch 9 of 30\n"
     ]
    },
    {
     "name": "stderr",
     "output_type": "stream",
     "text": [
      "612it [00:52, 11.64it/s]                         \n",
      "  0%|          | 2/611 [00:00<00:50, 12.13it/s]"
     ]
    },
    {
     "name": "stdout",
     "output_type": "stream",
     "text": [
      "Train Loss: 315670494.7712\n",
      "Epoch 10 of 30\n"
     ]
    },
    {
     "name": "stderr",
     "output_type": "stream",
     "text": [
      "612it [00:52, 11.68it/s]                         \n",
      "  0%|          | 2/611 [00:00<00:49, 12.38it/s]"
     ]
    },
    {
     "name": "stdout",
     "output_type": "stream",
     "text": [
      "Train Loss: 311623602.2484\n",
      "Epoch 11 of 30\n"
     ]
    },
    {
     "name": "stderr",
     "output_type": "stream",
     "text": [
      "612it [00:52, 11.71it/s]                         \n",
      "  0%|          | 2/611 [00:00<00:50, 12.07it/s]"
     ]
    },
    {
     "name": "stdout",
     "output_type": "stream",
     "text": [
      "Train Loss: 309699941.6471\n",
      "Epoch 12 of 30\n"
     ]
    },
    {
     "name": "stderr",
     "output_type": "stream",
     "text": [
      "612it [00:52, 11.58it/s]                         \n",
      "  0%|          | 2/611 [00:00<00:51, 11.83it/s]"
     ]
    },
    {
     "name": "stdout",
     "output_type": "stream",
     "text": [
      "Train Loss: 308782702.4314\n",
      "Epoch 13 of 30\n"
     ]
    },
    {
     "name": "stderr",
     "output_type": "stream",
     "text": [
      "612it [00:54, 11.13it/s]                         \n",
      "  0%|          | 2/611 [00:00<00:58, 10.45it/s]"
     ]
    },
    {
     "name": "stdout",
     "output_type": "stream",
     "text": [
      "Train Loss: 309619937.3072\n",
      "Epoch 14 of 30\n"
     ]
    },
    {
     "name": "stderr",
     "output_type": "stream",
     "text": [
      "612it [00:56, 10.84it/s]                         \n",
      "  0%|          | 2/611 [00:00<00:54, 11.21it/s]"
     ]
    },
    {
     "name": "stdout",
     "output_type": "stream",
     "text": [
      "Train Loss: 307845647.2941\n",
      "Epoch 15 of 30\n"
     ]
    },
    {
     "name": "stderr",
     "output_type": "stream",
     "text": [
      "612it [00:56, 10.87it/s]                         \n",
      "  0%|          | 2/611 [00:00<00:53, 11.35it/s]"
     ]
    },
    {
     "name": "stdout",
     "output_type": "stream",
     "text": [
      "Train Loss: 307416499.6078\n",
      "Epoch 16 of 30\n"
     ]
    },
    {
     "name": "stderr",
     "output_type": "stream",
     "text": [
      "612it [00:55, 11.05it/s]                         \n",
      "  0%|          | 2/611 [00:00<00:50, 12.04it/s]"
     ]
    },
    {
     "name": "stdout",
     "output_type": "stream",
     "text": [
      "Train Loss: 307505788.4706\n",
      "Epoch 17 of 30\n"
     ]
    },
    {
     "name": "stderr",
     "output_type": "stream",
     "text": [
      "612it [00:53, 11.44it/s]                         \n",
      "  0%|          | 2/611 [00:00<00:51, 11.87it/s]"
     ]
    },
    {
     "name": "stdout",
     "output_type": "stream",
     "text": [
      "Train Loss: 307545429.3856\n",
      "Epoch 18 of 30\n"
     ]
    },
    {
     "name": "stderr",
     "output_type": "stream",
     "text": [
      "612it [00:52, 11.60it/s]                         \n",
      "  0%|          | 2/611 [00:00<00:52, 11.64it/s]"
     ]
    },
    {
     "name": "stdout",
     "output_type": "stream",
     "text": [
      "Train Loss: 307431259.9216\n",
      "Epoch 19 of 30\n"
     ]
    },
    {
     "name": "stderr",
     "output_type": "stream",
     "text": [
      "612it [00:52, 11.59it/s]                         \n",
      "  0%|          | 2/611 [00:00<00:51, 11.78it/s]"
     ]
    },
    {
     "name": "stdout",
     "output_type": "stream",
     "text": [
      "Train Loss: 306739552.9150\n",
      "Epoch 20 of 30\n"
     ]
    },
    {
     "name": "stderr",
     "output_type": "stream",
     "text": [
      "612it [00:53, 11.46it/s]                         \n",
      "  0%|          | 2/611 [00:00<00:51, 11.78it/s]"
     ]
    },
    {
     "name": "stdout",
     "output_type": "stream",
     "text": [
      "Train Loss: 307475714.5621\n",
      "Epoch 21 of 30\n"
     ]
    },
    {
     "name": "stderr",
     "output_type": "stream",
     "text": [
      "612it [00:53, 11.37it/s]                         \n",
      "  0%|          | 2/611 [00:00<00:52, 11.49it/s]"
     ]
    },
    {
     "name": "stdout",
     "output_type": "stream",
     "text": [
      "Train Loss: 307360806.7190\n",
      "Epoch 22 of 30\n"
     ]
    },
    {
     "name": "stderr",
     "output_type": "stream",
     "text": [
      "612it [00:52, 11.55it/s]                         \n",
      "  0%|          | 2/611 [00:00<00:50, 12.09it/s]"
     ]
    },
    {
     "name": "stdout",
     "output_type": "stream",
     "text": [
      "Train Loss: 307644715.1373\n",
      "Epoch 23 of 30\n"
     ]
    },
    {
     "name": "stderr",
     "output_type": "stream",
     "text": [
      "612it [00:52, 11.72it/s]                         \n",
      "  0%|          | 2/611 [00:00<00:51, 11.87it/s]"
     ]
    },
    {
     "name": "stdout",
     "output_type": "stream",
     "text": [
      "Train Loss: 306943926.6144\n",
      "Epoch 24 of 30\n"
     ]
    },
    {
     "name": "stderr",
     "output_type": "stream",
     "text": [
      "612it [00:52, 11.70it/s]                         \n",
      "  0%|          | 2/611 [00:00<00:52, 11.53it/s]"
     ]
    },
    {
     "name": "stdout",
     "output_type": "stream",
     "text": [
      "Train Loss: 307006718.7190\n",
      "Epoch 25 of 30\n"
     ]
    },
    {
     "name": "stderr",
     "output_type": "stream",
     "text": [
      "612it [00:53, 11.39it/s]                         \n",
      "  0%|          | 2/611 [00:00<00:53, 11.30it/s]"
     ]
    },
    {
     "name": "stdout",
     "output_type": "stream",
     "text": [
      "Train Loss: 306960842.3791\n",
      "Epoch 26 of 30\n"
     ]
    },
    {
     "name": "stderr",
     "output_type": "stream",
     "text": [
      "612it [00:56, 10.93it/s]                         \n",
      "  0%|          | 2/611 [00:00<00:56, 10.72it/s]"
     ]
    },
    {
     "name": "stdout",
     "output_type": "stream",
     "text": [
      "Train Loss: 305871524.9150\n",
      "Epoch 27 of 30\n"
     ]
    },
    {
     "name": "stderr",
     "output_type": "stream",
     "text": [
      "612it [00:55, 10.94it/s]                         \n",
      "  0%|          | 2/611 [00:00<00:53, 11.28it/s]"
     ]
    },
    {
     "name": "stdout",
     "output_type": "stream",
     "text": [
      "Train Loss: 306507294.7451\n",
      "Epoch 28 of 30\n"
     ]
    },
    {
     "name": "stderr",
     "output_type": "stream",
     "text": [
      "612it [00:55, 10.95it/s]                         \n",
      "  0%|          | 2/611 [00:00<00:54, 11.24it/s]"
     ]
    },
    {
     "name": "stdout",
     "output_type": "stream",
     "text": [
      "Train Loss: 307045402.1176\n",
      "Epoch 29 of 30\n"
     ]
    },
    {
     "name": "stderr",
     "output_type": "stream",
     "text": [
      "612it [00:55, 11.02it/s]                         \n",
      "  0%|          | 2/611 [00:00<00:57, 10.68it/s]"
     ]
    },
    {
     "name": "stdout",
     "output_type": "stream",
     "text": [
      "Train Loss: 305749934.8758\n",
      "Epoch 30 of 30\n"
     ]
    },
    {
     "name": "stderr",
     "output_type": "stream",
     "text": [
      "612it [00:53, 11.39it/s]                         \n"
     ]
    },
    {
     "name": "stdout",
     "output_type": "stream",
     "text": [
      "Train Loss: 305755615.4771\n",
      "finish lower training rate\n"
     ]
    },
    {
     "data": {
      "image/png": "[encoded data removed]",
      "text/plain": [
       "<Figure size 720x504 with 1 Axes>"
      ]
     },
     "metadata": {
      "needs_background": "light"
     },
     "output_type": "display_data"
    }
   ],
   "source": [
    "# load all expression data  [spot x gene]\n",
    "for sample_id in sample_ids:\n",
    "    print('working on ', sample_id)\n",
    "    data_path = '../data'\n",
    "    if sample_id.startswith('MBC'):\n",
    "\n",
    "        adata_sample = sc.read_visium(path=os.path.join(data_path, sample_id),library_id =  sample_id)\n",
    "        adata_sample.var_names_make_unique()\n",
    "        adata_sample.obs['sample']=sample_id\n",
    "        adata_sample.obs_names  = adata_sample.obs_names+'-'+sample_id\n",
    "    else:\n",
    "        adata_sample = sc.read_h5ad(os.path.join(data_path,sample_id, sample_id+'.h5ad'))\n",
    "        adata_sample.var_names_make_unique()\n",
    "        adata_sample.obs['sample']=sample_id\n",
    "        adata_sample.obs_names  = adata_sample.obs_names+'-'+sample_id\n",
    "        \n",
    "    recon_exp_stack, recon_img_stack, recon_poe_img_stack, recon_poe_rna_stack, wholeimg_stitch ,recon_wholeimg_stitch, recon_poe_wholeimg_stitch, mu_exp_stack, mu_img_stack, mu_poe_stack, model, train_loss, train_loss, adata_df_concat, map_info, mean_arch_ct= main.run_poe(data_path,adata_sample,sample_id)\n",
    "    \n",
    "    torch.save(model.state_dict(), \"../results/02_PoE_factor/\"+sample_id+'1215_model_single.pt')\n",
    "    utils.save_loss_plot(train_loss, train_loss,sample_id)\n",
    "    \n",
    "    np.save( \"../results/02_PoE_factor/\"+sample_id+'recon_exp_stack.npy',recon_exp_stack)\n",
    "    np.save( \"../results/02_PoE_factor/\"+sample_id+'recon_img_stack.npy',recon_img_stack)\n",
    "    np.save( \"../results/02_PoE_factor/\"+sample_id+'recon_poe_img_stack.npy',recon_poe_img_stack)\n",
    "    np.save( \"../results/02_PoE_factor/\"+sample_id+'recon_poe_rna_stack.npy',recon_poe_rna_stack)\n",
    "    np.save( \"../results/02_PoE_factor/\"+sample_id+'wholeimg_stitch.npy',wholeimg_stitch)\n",
    "    np.save( \"../results/02_PoE_factor/\"+sample_id+'recon_wholeimg_stitch.npy',recon_wholeimg_stitch)\n",
    "    np.save( \"../results/02_PoE_factor/\"+sample_id+'recon_poe_wholeimg_stitch.npy',recon_poe_wholeimg_stitch)\n",
    "    np.save( \"../results/02_PoE_factor/\"+sample_id+'mu_exp_stack.npy',mu_exp_stack)\n",
    "    np.save( \"../results/02_PoE_factor/\"+sample_id+'mu_img_stack.npy',mu_img_stack)\n",
    "    np.save( \"../results/02_PoE_factor/\"+sample_id+'mu_poe_stack.npy',mu_poe_stack)\n",
    "    adata_df_concat.to_csv(\"../results/02_PoE_factor/\"+sample_id+'adata_df_concat.csv')\n",
    "    map_info.to_csv(\"../results/02_PoE_factor/\"+sample_id+'map_info.csv')\n",
    "    np.save( \"../results/02_PoE_factor/\"+sample_id+'mean_arch_ct.npy',mean_arch_ct)\n",
    "    "
   ]
  },
  {
   "cell_type": "code",
   "execution_count": 9,
   "id": "34ef69df-ef1a-482d-9c5c-ac8730faf767",
   "metadata": {
    "tags": []
   },
   "outputs": [
    {
     "name": "stdout",
     "output_type": "stream",
     "text": [
      "working on  MBC_1B\n"
     ]
    },
    {
     "name": "stderr",
     "output_type": "stream",
     "text": [
      "Variable names are not unique. To make them unique, call `.var_names_make_unique`.\n",
      "Variable names are not unique. To make them unique, call `.var_names_make_unique`.\n"
     ]
    },
    {
     "name": "stdout",
     "output_type": "stream",
     "text": [
      "5.993314743041992\n",
      "-12.134976387023926\n",
      "working done on  MBC_1B\n",
      "working on  MBC_2B\n"
     ]
    },
    {
     "name": "stderr",
     "output_type": "stream",
     "text": [
      "Variable names are not unique. To make them unique, call `.var_names_make_unique`.\n",
      "Variable names are not unique. To make them unique, call `.var_names_make_unique`.\n",
      "Variable names are not unique. To make them unique, call `.var_names_make_unique`.\n",
      "Variable names are not unique. To make them unique, call `.var_names_make_unique`.\n"
     ]
    },
    {
     "name": "stdout",
     "output_type": "stream",
     "text": [
      "6.4780731201171875\n",
      "-10.29578971862793\n",
      "working done on  MBC_2B\n",
      "working on  MBC_3A\n"
     ]
    },
    {
     "name": "stderr",
     "output_type": "stream",
     "text": [
      "Variable names are not unique. To make them unique, call `.var_names_make_unique`.\n",
      "Variable names are not unique. To make them unique, call `.var_names_make_unique`.\n"
     ]
    },
    {
     "name": "stdout",
     "output_type": "stream",
     "text": [
      "5.683883190155029\n",
      "-9.657368659973145\n",
      "working done on  MBC_3A\n",
      "working on  MBC_3B\n"
     ]
    },
    {
     "name": "stderr",
     "output_type": "stream",
     "text": [
      "Variable names are not unique. To make them unique, call `.var_names_make_unique`.\n"
     ]
    },
    {
     "name": "stdout",
     "output_type": "stream",
     "text": [
      "5.65458345413208\n",
      "-11.78878116607666\n",
      "working done on  MBC_3B\n",
      "working on  MBC_4A\n"
     ]
    },
    {
     "name": "stderr",
     "output_type": "stream",
     "text": [
      "Variable names are not unique. To make them unique, call `.var_names_make_unique`.\n",
      "Variable names are not unique. To make them unique, call `.var_names_make_unique`.\n",
      "Variable names are not unique. To make them unique, call `.var_names_make_unique`.\n"
     ]
    },
    {
     "name": "stdout",
     "output_type": "stream",
     "text": [
      "6.237833499908447\n",
      "-8.727806091308594\n",
      "working done on  MBC_4A\n",
      "working on  MBC_4B\n",
      "6.897039413452148\n",
      "-9.199584007263184\n",
      "working done on  MBC_4B\n",
      "working on  CID4465\n",
      "6.455382347106934\n",
      "-9.067346572875977\n",
      "working done on  CID4465\n",
      "working on  1142243F\n",
      "6.473569393157959\n",
      "-9.042290687561035\n",
      "working done on  1142243F\n",
      "working on  1160920F\n",
      "6.315339088439941\n",
      "-8.588859558105469\n",
      "working done on  1160920F\n"
     ]
    }
   ],
   "source": [
    "data_path = '../data'\n",
    "sig_fname = os.path.join(data_path,  'bc_signatures_version_1216.csv')\n",
    "df_sig = pd.read_csv(sig_fname)\n",
    "for sample_id in sample_ids:\n",
    "    print('working on ', sample_id) \n",
    "    if sample_id.startswith('MBC'):\n",
    "        adata_sample = sc.read_visium(path=os.path.join(data_path, sample_id),library_id =  sample_id)\n",
    "    else:\n",
    "        adata_sample = sc.read_h5ad(os.path.join(data_path,sample_id, sample_id+'.h5ad'))\n",
    "\n",
    "    mu_poe_stack2 = np.load(\"../results/02_PoE_factor/\"+sample_id+'mu_poe_stack.npy')\n",
    "    mu_poe_stack_df = pd.DataFrame(mu_poe_stack2,columns=df_sig.columns, index= adata_sample.obs_names)\n",
    "    mu_poe_stack_df.to_csv(\"../results/02_PoE_factor/\"+sample_id+'nb_file.csv')\n",
    "    print(mu_poe_stack_df.max().max())\n",
    "    print(mu_poe_stack_df.min().min())\n",
    "    print('working done on ', sample_id) "
   ]
  },
  {
   "cell_type": "code",
   "execution_count": null,
   "id": "4aa7001b-445d-4a7c-a5f2-4908b2f72fd2",
   "metadata": {},
   "outputs": [],
   "source": [
    "#mu_poe_stack_df.to_csv(\"../results/02_PoE_factor/\"+sample_id+'nb_file2.csv')"
   ]
  },
  {
   "cell_type": "code",
   "execution_count": 10,
   "id": "64bd6843-503c-43dd-b86f-02572e12ad97",
   "metadata": {
    "tags": []
   },
   "outputs": [
    {
     "name": "stdout",
     "output_type": "stream",
     "text": [
      "working on  MBC_1B\n"
     ]
    },
    {
     "name": "stderr",
     "output_type": "stream",
     "text": [
      "Variable names are not unique. To make them unique, call `.var_names_make_unique`.\n",
      "Variable names are not unique. To make them unique, call `.var_names_make_unique`.\n"
     ]
    },
    {
     "name": "stdout",
     "output_type": "stream",
     "text": [
      "17.500858306884766\n",
      "-17.630990982055664\n",
      "working done on  MBC_1B\n",
      "working on  MBC_2B\n"
     ]
    },
    {
     "name": "stderr",
     "output_type": "stream",
     "text": [
      "Variable names are not unique. To make them unique, call `.var_names_make_unique`.\n",
      "Variable names are not unique. To make them unique, call `.var_names_make_unique`.\n",
      "Variable names are not unique. To make them unique, call `.var_names_make_unique`.\n",
      "Variable names are not unique. To make them unique, call `.var_names_make_unique`.\n"
     ]
    },
    {
     "name": "stdout",
     "output_type": "stream",
     "text": [
      "24.933088302612305\n",
      "-27.60739517211914\n",
      "working done on  MBC_2B\n",
      "working on  MBC_3A\n"
     ]
    },
    {
     "name": "stderr",
     "output_type": "stream",
     "text": [
      "Variable names are not unique. To make them unique, call `.var_names_make_unique`.\n",
      "Variable names are not unique. To make them unique, call `.var_names_make_unique`.\n"
     ]
    },
    {
     "name": "stdout",
     "output_type": "stream",
     "text": [
      "5.3700456619262695\n",
      "-5.5495219230651855\n",
      "working done on  MBC_3A\n",
      "working on  MBC_3B\n",
      "3.103252410888672\n",
      "-2.9370346069335938\n",
      "working done on  MBC_3B\n",
      "working on  MBC_4A\n"
     ]
    },
    {
     "name": "stderr",
     "output_type": "stream",
     "text": [
      "Variable names are not unique. To make them unique, call `.var_names_make_unique`.\n",
      "Variable names are not unique. To make them unique, call `.var_names_make_unique`.\n",
      "Variable names are not unique. To make them unique, call `.var_names_make_unique`.\n",
      "Variable names are not unique. To make them unique, call `.var_names_make_unique`.\n"
     ]
    },
    {
     "name": "stdout",
     "output_type": "stream",
     "text": [
      "17.11313247680664\n",
      "-19.870615005493164\n",
      "working done on  MBC_4A\n",
      "working on  MBC_4B\n",
      "10.2301025390625\n",
      "-12.333793640136719\n",
      "working done on  MBC_4B\n",
      "working on  CID4465\n",
      "12.318203926086426\n",
      "-12.102368354797363\n",
      "working done on  CID4465\n",
      "working on  1142243F\n",
      "25.67049789428711\n",
      "-21.993894577026367\n",
      "working done on  1142243F\n",
      "working on  1160920F\n",
      "20.81345558166504\n",
      "-22.480607986450195\n",
      "working done on  1160920F\n"
     ]
    }
   ],
   "source": [
    "data_path = '../data'\n",
    "sig_fname = os.path.join(data_path,  'bc_signatures_version_1216.csv')\n",
    "df_sig = pd.read_csv(sig_fname)\n",
    "for sample_id in sample_ids:\n",
    "    print('working on ', sample_id) \n",
    "    if sample_id.startswith('MBC'):\n",
    "        adata_sample = sc.read_visium(path=os.path.join(data_path, sample_id),library_id =  sample_id)\n",
    "    else:\n",
    "        adata_sample = sc.read_h5ad(os.path.join(data_path,sample_id, sample_id+'.h5ad'))\n",
    "\n",
    "    mu_exp_stack2 = np.load(\"../results/02_PoE_factor/\"+sample_id+'mu_exp_stack.npy')\n",
    "    mu_exp_stack_df = pd.DataFrame(mu_exp_stack2,columns=df_sig.columns, index= adata_sample.obs_names)\n",
    "    mu_exp_stack_df.to_csv(\"../results/02_PoE_factor/\"+sample_id+'nb_file2.csv')\n",
    "    print(mu_exp_stack_df.max().max())\n",
    "    print(mu_exp_stack_df.min().min())\n",
    "    print('working done on ', sample_id) "
   ]
  },
  {
   "cell_type": "code",
   "execution_count": 11,
   "id": "0721d4ed-e6c8-44d2-997c-bbd62e481991",
   "metadata": {},
   "outputs": [
    {
     "name": "stdout",
     "output_type": "stream",
     "text": [
      "working on  MBC_1B\n"
     ]
    },
    {
     "name": "stderr",
     "output_type": "stream",
     "text": [
      "Variable names are not unique. To make them unique, call `.var_names_make_unique`.\n",
      "Variable names are not unique. To make them unique, call `.var_names_make_unique`.\n"
     ]
    },
    {
     "name": "stdout",
     "output_type": "stream",
     "text": [
      "(520, 26)\n"
     ]
    },
    {
     "data": {
      "image/png": "[encoded data removed]",
      "text/plain": [
       "<Figure size 720x720 with 1 Axes>"
      ]
     },
     "metadata": {
      "needs_background": "light"
     },
     "output_type": "display_data"
    },
    {
     "name": "stdout",
     "output_type": "stream",
     "text": [
      "working on  MBC_2B\n"
     ]
    },
    {
     "name": "stderr",
     "output_type": "stream",
     "text": [
      "Variable names are not unique. To make them unique, call `.var_names_make_unique`.\n",
      "Variable names are not unique. To make them unique, call `.var_names_make_unique`.\n"
     ]
    },
    {
     "name": "stdout",
     "output_type": "stream",
     "text": [
      "(520, 26)\n"
     ]
    },
    {
     "data": {
      "image/png": "[encoded data removed]",
      "text/plain": [
       "<Figure size 720x720 with 1 Axes>"
      ]
     },
     "metadata": {
      "needs_background": "light"
     },
     "output_type": "display_data"
    },
    {
     "name": "stdout",
     "output_type": "stream",
     "text": [
      "working on  MBC_3A\n"
     ]
    },
    {
     "name": "stderr",
     "output_type": "stream",
     "text": [
      "Variable names are not unique. To make them unique, call `.var_names_make_unique`.\n",
      "Variable names are not unique. To make them unique, call `.var_names_make_unique`.\n"
     ]
    },
    {
     "name": "stdout",
     "output_type": "stream",
     "text": [
      "(520, 26)\n"
     ]
    },
    {
     "data": {
      "image/png": "[encoded data removed]",
      "text/plain": [
       "<Figure size 720x720 with 1 Axes>"
      ]
     },
     "metadata": {
      "needs_background": "light"
     },
     "output_type": "display_data"
    },
    {
     "name": "stdout",
     "output_type": "stream",
     "text": [
      "working on  MBC_3B\n"
     ]
    },
    {
     "name": "stderr",
     "output_type": "stream",
     "text": [
      "Variable names are not unique. To make them unique, call `.var_names_make_unique`.\n",
      "Variable names are not unique. To make them unique, call `.var_names_make_unique`.\n"
     ]
    },
    {
     "name": "stdout",
     "output_type": "stream",
     "text": [
      "(520, 26)\n"
     ]
    },
    {
     "data": {
      "image/png": "[encoded data removed]",
      "text/plain": [
       "<Figure size 720x720 with 1 Axes>"
      ]
     },
     "metadata": {
      "needs_background": "light"
     },
     "output_type": "display_data"
    },
    {
     "name": "stdout",
     "output_type": "stream",
     "text": [
      "working on  MBC_4A\n"
     ]
    },
    {
     "name": "stderr",
     "output_type": "stream",
     "text": [
      "Variable names are not unique. To make them unique, call `.var_names_make_unique`.\n",
      "Variable names are not unique. To make them unique, call `.var_names_make_unique`.\n"
     ]
    },
    {
     "name": "stdout",
     "output_type": "stream",
     "text": [
      "(520, 26)\n"
     ]
    },
    {
     "data": {
      "image/png": "[encoded data removed]",
      "text/plain": [
       "<Figure size 720x720 with 1 Axes>"
      ]
     },
     "metadata": {
      "needs_background": "light"
     },
     "output_type": "display_data"
    },
    {
     "name": "stdout",
     "output_type": "stream",
     "text": [
      "working on  MBC_4B\n"
     ]
    },
    {
     "name": "stderr",
     "output_type": "stream",
     "text": [
      "Variable names are not unique. To make them unique, call `.var_names_make_unique`.\n",
      "Variable names are not unique. To make them unique, call `.var_names_make_unique`.\n"
     ]
    },
    {
     "name": "stdout",
     "output_type": "stream",
     "text": [
      "(520, 26)\n"
     ]
    },
    {
     "data": {
      "image/png": "[encoded data removed]",
      "text/plain": [
       "<Figure size 720x720 with 1 Axes>"
      ]
     },
     "metadata": {
      "needs_background": "light"
     },
     "output_type": "display_data"
    },
    {
     "name": "stdout",
     "output_type": "stream",
     "text": [
      "working on  CID4465\n",
      "(520, 26)\n"
     ]
    },
    {
     "data": {
      "image/png": "[encoded data removed]",
      "text/plain": [
       "<Figure size 720x720 with 1 Axes>"
      ]
     },
     "metadata": {
      "needs_background": "light"
     },
     "output_type": "display_data"
    },
    {
     "name": "stdout",
     "output_type": "stream",
     "text": [
      "working on  1142243F\n",
      "(520, 26)\n"
     ]
    },
    {
     "data": {
      "image/png": "[encoded data removed]",
      "text/plain": [
       "<Figure size 720x720 with 1 Axes>"
      ]
     },
     "metadata": {
      "needs_background": "light"
     },
     "output_type": "display_data"
    },
    {
     "name": "stdout",
     "output_type": "stream",
     "text": [
      "working on  1160920F\n",
      "(520, 26)\n"
     ]
    },
    {
     "data": {
      "image/png": "[encoded data removed]",
      "text/plain": [
       "<Figure size 720x720 with 1 Axes>"
      ]
     },
     "metadata": {
      "needs_background": "light"
     },
     "output_type": "display_data"
    }
   ],
   "source": [
    "from scipy import stats\n",
    "\n",
    "\n",
    "data_path = '../data'\n",
    "sig_fname = os.path.join(data_path,  'bc_signatures_version_1216.csv')\n",
    "df_sig = pd.read_csv(sig_fname)\n",
    "for sample_id in sample_ids:\n",
    "    print('working on ', sample_id) \n",
    "    if sample_id.startswith('MBC'):\n",
    "        adata_sample = sc.read_visium(path=os.path.join(data_path, sample_id),library_id =  sample_id)\n",
    "    else:\n",
    "        adata_sample = sc.read_h5ad(os.path.join(data_path,sample_id, sample_id+'.h5ad'))\n",
    "\n",
    "    mean_arch_ct = np.load(\"../results/02_PoE_factor/\"+sample_id+'mean_arch_ct.npy')\n",
    "    mu_exp_stack_df = pd.read_csv(\"../results/02_PoE_factor/\"+sample_id+'nb_file.csv',index_col=0)\n",
    "\n",
    "    print(mean_arch_ct.shape)\n",
    "\n",
    "    plt.rcParams[\"figure.figsize\"] = (10, 10)\n",
    "\n",
    "    sig_bn_tau_list = []\n",
    "    sig_bn_pv_list = []\n",
    "    for i in range(df_sig.shape[0]):\n",
    "\n",
    "        tau, p_value = stats.kendalltau(mean_arch_ct[i], mu_exp_stack_df.iloc[i])\n",
    "        sig_bn_tau_list.append(tau)\n",
    "        sig_bn_pv_list.append(p_value)\n",
    "\n",
    "    plt.hist(sig_bn_tau_list)#, bins = [0,20,40,60,80,100]) \n",
    "    plt.title(\"signature_factor_kendalltau_histogram\") \n",
    "    plt.show()"
   ]
  },
  {
   "cell_type": "code",
   "execution_count": null,
   "id": "b2aa0fc5-53f9-47cb-8583-b5e1161650c4",
   "metadata": {},
   "outputs": [],
   "source": []
  }
 ],
 "metadata": {
  "kernelspec": {
   "display_name": "Python 3",
   "language": "python",
   "name": "python3"
  },
  "language_info": {
   "codemirror_mode": {
    "name": "ipython",
    "version": 3
   },
   "file_extension": ".py",
   "mimetype": "text/x-python",
   "name": "python",
   "nbconvert_exporter": "python",
   "pygments_lexer": "ipython3",
   "version": "3.8.8"
  }
 },
 "nbformat": 4,
 "nbformat_minor": 5
}
