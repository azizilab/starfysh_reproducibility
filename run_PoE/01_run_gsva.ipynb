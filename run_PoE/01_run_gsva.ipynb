{
 "cells": [
  {
   "cell_type": "markdown",
   "id": "41f2fe7d-675c-47c1-abbd-8e2d9cb61716",
   "metadata": {},
   "source": [
    "Following this to install R on jupyter:\n",
    "\n",
    "https://towardsdatasc/Users/siyuhe/anaconda3/lib/R/lib/libR.dylibience.com/how-to-run-r-scripts-in-jupyter-15527148d2a"
   ]
  },
  {
   "cell_type": "code",
   "execution_count": 1,
   "id": "2b46e557-b750-479d-a315-b0daa7006d10",
   "metadata": {},
   "outputs": [
    {
     "name": "stderr",
     "output_type": "stream",
     "text": [
      "Attaching SeuratObject\n",
      "\n"
     ]
    }
   ],
   "source": [
    "library(GSVA)\n",
    "library(Seurat)"
   ]
  },
  {
   "cell_type": "markdown",
   "id": "3881efa5-2b6d-49bf-9c76-722f4d2a72ca",
   "metadata": {},
   "source": [
    "'''Get the var_gene first, then calculate the gsva based on the new version of bc signature '''"
   ]
  },
  {
   "cell_type": "code",
   "execution_count": 2,
   "id": "bdef8efd-84be-4f7d-b863-341f8eb024f4",
   "metadata": {},
   "outputs": [
    {
     "name": "stdout",
     "output_type": "stream",
     "text": [
      "[1] \"working with MBC_1A\"\n",
      "[1] \"working with MBC_1B\"\n",
      "[1] \"working with MBC_2A\"\n",
      "[1] \"working with MBC_2B\"\n",
      "[1] \"working with MBC_3A\"\n",
      "[1] \"working with MBC_3B\"\n",
      "[1] \"working with MBC_4A\"\n",
      "[1] \"working with MBC_4B\"\n",
      "[1] \"working with CID4465\"\n",
      "[1] \"working with CID444971\"\n",
      "[1] \"working with 1142243F\"\n",
      "[1] \"working with 1160920F\"\n"
     ]
    }
   ],
   "source": [
    "sample_ids = c('MBC_1A',\n",
    "              'MBC_1B',\n",
    "              'MBC_2A',\n",
    "              'MBC_2B',\n",
    "              'MBC_3A',\n",
    "              'MBC_3B',\n",
    "              'MBC_4A',\n",
    "              'MBC_4B',\n",
    "              'CID4465',\n",
    "              'CID444971',\n",
    "              '1142243F',\n",
    "              '1160920F')\n",
    "for (sample_id in sample_ids){\n",
    "  print(paste0('working with ',sample_id))\n",
    "  X_exp <- read.table(paste0('~/Spatial_project/results/00_var_gene_folder/',sample_id,'_var_sig5000.csv'), header = TRUE, sep= \",\", row.names = 1)\n",
    "  X_exp <- t(data.matrix(X_exp))\n",
    "  p <- dim(X_exp)[1] # number of genes\n",
    "  n <- dim(X_exp)[2] # number of samples\n",
    "  gene_sig <- read.table(\"~/Spatial_project/data/bc_signatures_version_1216.csv\", header = TRUE, sep= \",\",)\n",
    "  gs_celltype <- as.list(gene_sig)\n",
    "  gs_celltype <- lapply(gs_celltype, function(x) x[nzchar(x)])\n",
    "  gsva.es <- gsva(X_exp, gs_celltype, verbose=FALSE)\n",
    "  write.csv(gsva.es, file =paste0('~/Spatial_project/results/01_gsva_folder/',sample_id,'_gsva.csv'), row.names = TRUE)\n",
    "}\n"
   ]
  },
  {
   "cell_type": "code",
   "execution_count": null,
   "id": "1a24c467-57f7-4cf3-9211-a909b90877a7",
   "metadata": {},
   "outputs": [],
   "source": []
  }
 ],
 "metadata": {
  "kernelspec": {
   "display_name": "R",
   "language": "R",
   "name": "ir"
  },
  "language_info": {
   "codemirror_mode": "r",
   "file_extension": ".r",
   "mimetype": "text/x-r-source",
   "name": "R",
   "pygments_lexer": "r",
   "version": "4.1.1"
  },
  "toc-showcode": false
 },
 "nbformat": 4,
 "nbformat_minor": 5
}
