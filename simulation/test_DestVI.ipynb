{
  "cells": [
    {
      "cell_type": "markdown",
      "source": [
        "### helper functions"
      ],
      "metadata": {
        "id": "7WiyBsv5h2WC"
      }
    },
    {
      "cell_type": "code",
      "source": [
        "import logging\n",
        "\n",
        "# Configure global logging format\n",
        "logging.basicConfig(\n",
        "    level=logging.INFO,\n",
        "    format='[%(asctime)s] %(message)s',\n",
        "    datefmt='%Y-%m-%d %H:%M:%S',\n",
        "    force=True\n",
        ")\n",
        "\n",
        "LOGGER = logging.getLogger('Starfysh')"
      ],
      "metadata": {
        "id": "x_ZCRDeih4js"
      },
      "execution_count": null,
      "outputs": []
    },
    {
      "cell_type": "code",
      "source": [
        "def preprocess(adata_raw,\n",
        "               lognorm=True,\n",
        "               min_perc=None,\n",
        "               max_perc=None,\n",
        "               n_top_genes=6000,\n",
        "               mt_thld=100,\n",
        "               verbose=True,\n",
        "               multiple_data=False\n",
        "               ):\n",
        "    \"\"\"\n",
        "    Preprocessing ST gexp matrix, remove Ribosomal & Mitochondrial genes\n",
        "    Parameters\n",
        "    ----------\n",
        "    adata_raw : annData\n",
        "        Spot x Bene raw expression matrix [S x G]\n",
        "    min_perc : float\n",
        "        lower-bound percentile of non-zero gexps for filtering spots\n",
        "    max_perc : float\n",
        "        upper-bound percentile of non-zero gexps for filtering spots\n",
        "    n_top_genes: float\n",
        "        number of the variable genes\n",
        "    mt_thld : float\n",
        "        max. percentage of mitochondrial gexps for filtering spots\n",
        "        with excessive MT expressions\n",
        "    multiple_data: bool\n",
        "        whether the study need integrate datasets\n",
        "    \"\"\"\n",
        "    adata = adata_raw.copy()\n",
        "\n",
        "    if min_perc and max_perc:\n",
        "        assert 0 < min_perc < max_perc < 100, \\\n",
        "            \"Invalid thresholds for cells: {0}, {1}\".format(min_perc, max_perc)\n",
        "        min_counts = np.percentile(adata.obs['total_counts'], min_perc)\n",
        "        sc.pp.filter_cells(adata, min_counts=min_counts)\n",
        "\n",
        "    # Remove cells with excessive MT expressions\n",
        "    # Remove MT & RB genes\n",
        "\n",
        "    if verbose:\n",
        "        LOGGER.info('Preprocessing1: delete the mt and rp')\n",
        "    adata.var['mt'] = adata.var_names.str.startswith('MT-')\n",
        "    adata.var['rb'] = np.logical_or(\n",
        "        adata.var_names.str.startswith('RPS'),\n",
        "        adata.var_names.str.startswith('RPL')\n",
        "    )\n",
        "\n",
        "    sc.pp.calculate_qc_metrics(adata, qc_vars=['mt'], inplace=True)\n",
        "    mask_cell = adata.obs['pct_counts_mt'] < mt_thld\n",
        "    mask_gene = np.logical_and(~adata.var['mt'], ~adata.var['rb'])\n",
        "\n",
        "    adata = adata[mask_cell, mask_gene]\n",
        "    sc.pp.filter_genes(adata, min_cells=1)\n",
        "\n",
        "    if lognorm:\n",
        "        if verbose:\n",
        "            LOGGER.info('Preprocessing2: Normalize')\n",
        "        if multiple_data:\n",
        "            sc.pp.normalize_total(adata, target_sum=1e6, inplace=True)\n",
        "        else:\n",
        "            sc.pp.normalize_total(adata, inplace=True)\n",
        "\n",
        "        # Preprocessing3: Logarithm\n",
        "        if verbose:\n",
        "            LOGGER.info('Preprocessing3: Logarithm')\n",
        "        sc.pp.log1p(adata)\n",
        "    else:\n",
        "        if verbose:\n",
        "            LOGGER.info('Skip Normalize and Logarithm')\n",
        "\n",
        "    # Preprocessing4: Find the variable genes\n",
        "    if verbose:\n",
        "        LOGGER.info('Preprocessing4: Find the variable genes')\n",
        "    sc.pp.highly_variable_genes(adata, flavor='seurat', n_top_genes=n_top_genes, inplace=True)\n",
        "\n",
        "    return adata"
      ],
      "metadata": {
        "id": "nqOTd82xh5Gk"
      },
      "execution_count": null,
      "outputs": []
    },
    {
      "cell_type": "code",
      "source": [
        "def load_adata(data_folder, sample_id, n_genes, multiple_data=False):\n",
        "    \"\"\"\n",
        "    load visium adata with raw counts, preprocess & extract highly variable genes\n",
        "    Parameters\n",
        "    ----------\n",
        "        data_folder : str\n",
        "            Root directory of the data\n",
        "        sample_id : str\n",
        "            Sample subdirectory under `data_folder`\n",
        "        n_genes : int\n",
        "            the number of the gene for training\n",
        "        multiple_data: bool\n",
        "            whether the study include multiple datasets\n",
        "    Returns\n",
        "    -------\n",
        "        adata : sc.AnnData\n",
        "            Processed ST raw counts\n",
        "        adata_norm : sc.AnnData\n",
        "            Processed ST normalized & log-transformed data\n",
        "    \"\"\"\n",
        "    has_feature_h5 = os.path.isfile(\n",
        "        os.path.join(data_folder, sample_id, 'filtered_feature_bc_matrix.h5')\n",
        "    ) # whether dataset stored in h5 with spatial info.\n",
        "\n",
        "    if has_feature_h5:\n",
        "        adata = sc.read_visium(path=os.path.join(data_folder, sample_id), library_id=sample_id)\n",
        "        adata.var_names_make_unique()\n",
        "        adata.obs['sample'] = sample_id\n",
        "    elif sample_id.startswith('simu'): # simulations\n",
        "        adata = sc.read_csv(os.path.join(data_folder, sample_id, 'counts.st_synth.csv'))\n",
        "    else:\n",
        "        filenames = [\n",
        "            f[:-5] for f in os.listdir(os.path.join(data_folder, sample_id))\n",
        "            if f[-5:] == '.h5ad'\n",
        "        ]\n",
        "        assert len(filenames) == 1, \\\n",
        "            \"None or more than `h5ad` file in the data directory,\" \\\n",
        "            \"please contain only 1 target ST file in the given directory\"\n",
        "        adata = sc.read_h5ad(os.path.join(data_folder, sample_id, filenames[0] + '.h5ad'))\n",
        "        adata.var_names_make_unique()\n",
        "        adata.obs['sample'] = sample_id\n",
        "\n",
        "    if '_index' in adata.var.columns:\n",
        "        adata.var_names = adata.var['_index']\n",
        "        adata.var_names.name = 'Genes'\n",
        "        adata.var.drop('_index', axis=1, inplace=True)\n",
        "\n",
        "    adata_norm = preprocess(adata, n_top_genes=n_genes,multiple_data=multiple_data)\n",
        "    adata = adata[:, list(adata_norm.var_names)]\n",
        "    adata.var['highly_variable'] = adata_norm.var['highly_variable']\n",
        "    adata.obs = adata_norm.obs\n",
        "\n",
        "    return adata, adata_norm"
      ],
      "metadata": {
        "id": "oAZDGBgah6fH"
      },
      "execution_count": null,
      "outputs": []
    },
    {
      "cell_type": "markdown",
      "metadata": {
        "id": "xGOKLltqjzxv"
      },
      "source": [
        "# Multi-resolution deconvolution of spatial transcriptomics"
      ]
    },
    {
      "cell_type": "markdown",
      "metadata": {
        "id": "YLWDIdwLvOjX"
      },
      "source": [
        "In this tutorial, we through the steps of applying DestVI for deconvolution of 10x Visium spatial transcriptomics profiles using an accompanying single-cell RNA sequencing data.\n",
        "\n",
        "**Background:**\n",
        "\n",
        "Spatial transcriptomics technologies are currently limited, because their resolution is limited to niches (spots) of sizes well beyond that of a single cell. Although several pipelines proposed joint analysis with single-cell RNA-sequencing (scRNA-seq) to alleviate this problem they are limited to a discrete view of cell type proportion inside every spot. This limitation becomes critical in the common case where, even within a cell type, there is a continuum of cell states. We present *Deconvolution of Spatial Transcriptomics profiles using Variational Inference (DestVI)*, a probabilistic method for multi-resolution analysis for spatial transcriptomics that explicitly models continuous variation within cell types.\n",
        "\n",
        "**Plan for this tutorial:**\n",
        "\n",
        "1. Loading the data\n",
        "1. Training the single-cell model (scLVM) to learn a basis of gene expression on the scRNA-seq data\n",
        "1. Training the spatial model (stLVM) to perform the deconvolution\n",
        "1. Visualize the learned cell type proportions\n",
        "1. Run our automated pipeline\n",
        "1. Dig into the intra cell type information\n",
        "1. Run cell-type specific differential expression"
      ]
    },
    {
      "cell_type": "code",
      "source": [
        "from google.colab import drive\n",
        "drive.mount('/content/drive')"
      ],
      "metadata": {
        "colab": {
          "base_uri": "https://localhost:8080/"
        },
        "id": "-qs-ccuYiCIL",
        "outputId": "e20c1854-8bec-44f7-ed1e-913c0e74ce3a"
      },
      "execution_count": null,
      "outputs": [
        {
          "output_type": "stream",
          "name": "stdout",
          "text": [
            "Drive already mounted at /content/drive; to attempt to forcibly remount, call drive.mount(\"/content/drive\", force_remount=True).\n"
          ]
        }
      ]
    },
    {
      "cell_type": "code",
      "execution_count": null,
      "metadata": {
        "id": "Uej8R80Phuqm",
        "colab": {
          "base_uri": "https://localhost:8080/"
        },
        "outputId": "34c13140-2a6a-440a-91b3-e5080d66be96"
      },
      "outputs": [
        {
          "output_type": "stream",
          "name": "stdout",
          "text": [
            "\u001b[34mINFO    \u001b[0m scvi-colab: Installing scvi-tools.                                                                        \n",
            "\u001b[34mINFO    \u001b[0m scvi-colab: Install successful. Testing import.                                                           \n"
          ]
        },
        {
          "output_type": "stream",
          "name": "stderr",
          "text": [
            "[2023-03-16 23:28:33] Created a temporary directory at /tmp/tmpqdcwcn_n\n",
            "[2023-03-16 23:28:33] Writing /tmp/tmpqdcwcn_n/_remote_module_non_scriptable.py\n",
            "[2023-03-16 23:28:33] Global seed set to 0\n",
            "[2023-03-16 23:28:35] NumExpr defaulting to 2 threads.\n",
            "/usr/local/lib/python3.9/dist-packages/flax/core/frozen_dict.py:169: FutureWarning: jax.tree_util.register_keypaths is deprecated, and will be removed in a future release. Please use `register_pytree_with_keys()` instead.\n",
            "  jax.tree_util.register_keypaths(\n"
          ]
        },
        {
          "output_type": "stream",
          "name": "stdout",
          "text": [
            "  Installing build dependencies ... \u001b[?25l\u001b[?25hdone\n",
            "  Getting requirements to build wheel ... \u001b[?25l\u001b[?25hdone\n",
            "  Preparing metadata (pyproject.toml) ... \u001b[?25l\u001b[?25hdone\n",
            "  Preparing metadata (setup.py) ... \u001b[?25l\u001b[?25hdone\n",
            "  Preparing metadata (setup.py) ... \u001b[?25l\u001b[?25hdone\n"
          ]
        }
      ],
      "source": [
        "import sys\n",
        "IN_COLAB = \"google.colab\" in sys.modules\n",
        "if IN_COLAB:\n",
        "    !pip install --quiet scvi-colab\n",
        "    from scvi_colab import install\n",
        "    install()\n",
        "    !pip install --quiet git+https://github.com/yoseflab/destvi_utils.git@main"
      ]
    },
    {
      "cell_type": "code",
      "source": [
        "# !pip install 'matplotlib<3.7'"
      ],
      "metadata": {
        "id": "zQRyHMiEk9bM"
      },
      "execution_count": null,
      "outputs": []
    },
    {
      "cell_type": "code",
      "execution_count": null,
      "metadata": {
        "id": "wFdqFAM5vJhm"
      },
      "outputs": [],
      "source": [
        "import destvi_utils\n",
        "import matplotlib.pyplot as plt\n",
        "import numpy as np\n",
        "import scanpy as sc\n",
        "from scvi.model import CondSCVI, DestVI\n",
        "\n",
        "import pandas as pd\n",
        "import os\n",
        "from scipy.io import mmread\n",
        "\n",
        "# forces GPU use\n",
        "os.environ[\"THEANO_FLAGS\"] = 'device=cuda0,floatX=float32,force_device=True'"
      ]
    },
    {
      "cell_type": "code",
      "source": [
        "spatial_path = 'drive/MyDrive/research/Kaylee/benchmarking'\n",
        "sc_path = 'drive/MyDrive/research/Kaylee/data/CID44971/scrna'\n",
        "results_folder = 'drive/MyDrive/research/Kaylee/benchmarking/destvi_results'"
      ],
      "metadata": {
        "id": "emFoKx4IiQ25"
      },
      "execution_count": null,
      "outputs": []
    },
    {
      "cell_type": "markdown",
      "metadata": {
        "id": "371r2iTD_y_6"
      },
      "source": [
        "## Data loading & processing\n",
        "\n",
        "First, let's load the single-cell data. We profiled immune cells from murine lymph nodes with 10x Chromium, as a control / case study to study the immune response to exposure to a mycobacteria (refer to our paper for more info). We provide the preprocessed data from our reproducibility repository: it contains the raw counts (DestVI always takes raw counts as input)."
      ]
    },
    {
      "cell_type": "code",
      "execution_count": null,
      "metadata": {
        "id": "-8031qJL49GM",
        "outputId": "b2317ded-46ba-4618-b645-56a2a7f50f21",
        "colab": {
          "base_uri": "https://localhost:8080/"
        }
      },
      "outputs": [
        {
          "output_type": "stream",
          "name": "stdout",
          "text": [
            "# cells: 7986, # genes: 29733\n"
          ]
        },
        {
          "output_type": "stream",
          "name": "stderr",
          "text": [
            "<ipython-input-9-881f8690cfd4>:24: FutureWarning: X.dtype being converted to np.float32 from int64. In the next version of anndata (0.9) conversion will not be automatic. Pass dtype explicitly to avoid this warning. Pass `AnnData(X, dtype=X.dtype, ...)` to get the future behavour.\n",
            "  adata_sc = sc.AnnData(\n"
          ]
        },
        {
          "output_type": "stream",
          "name": "stdout",
          "text": [
            "(7986, 29733)\n"
          ]
        }
      ],
      "source": [
        "# Load cell & gene labels\n",
        "barcode_df = pd.read_csv(\n",
        "    os.path.join(sc_path, 'count_matrix_barcodes.tsv'), \n",
        "    delimiter='\\t',\n",
        "    header=None # this file doesn't contain the true \"header\" (column info), the first row is a TRUE barcode\n",
        ")\n",
        "\n",
        "gene_df = pd.read_csv(\n",
        "    os.path.join(sc_path, 'count_matrix_genes.tsv'),\n",
        "    delimiter='\\t',\n",
        "    header=None # this file doesn't contain the true \"header\" (column info), the first row is a TRUE gene\n",
        ")\n",
        "\n",
        "print('# cells: {0}, # genes: {1}'.format(len(barcode_df), len(gene_df)))\n",
        "\n",
        "# Construct adata object for scRNA-seq\n",
        "barcodes = pd.DataFrame(barcode_df[0].values, index=barcode_df[0].values, columns=['Barcode'])\n",
        "genes = pd.DataFrame(gene_df[0].values, index=gene_df[0].values, columns=['features'])\n",
        "\n",
        "cnt = mmread(\n",
        "    os.path.join(sc_path, 'count_matrix_sparse.mtx')\n",
        ").toarray()\n",
        "\n",
        "adata_sc = sc.AnnData(\n",
        "    X=cnt.T,\n",
        "    obs=barcodes,\n",
        "    var=genes\n",
        ")\n",
        "print(adata_sc.shape)"
      ]
    },
    {
      "cell_type": "code",
      "source": [
        "meta_df = pd.read_csv(\n",
        "    os.path.join(sc_path, 'metadata.csv'), index_col=[0], header=[0]\n",
        ")\n",
        "meta_df.head()"
      ],
      "metadata": {
        "colab": {
          "base_uri": "https://localhost:8080/",
          "height": 357
        },
        "id": "nJhs8RXfisaq",
        "outputId": "7ad0eff7-4bb0-473b-9751-8113acb028f6"
      },
      "execution_count": null,
      "outputs": [
        {
          "output_type": "execute_result",
          "data": {
            "text/plain": [
              "                          orig.ident  nCount_RNA  nFeature_RNA  percent.mito  \\\n",
              "CID44971_AAGCCGCCACGCATCG   CID44971        3409          1492      9.416251   \n",
              "CID44971_AAGGAGCTCAACACAC   CID44971       11133          3386      6.557083   \n",
              "CID44971_ACGAGCCTCCGATATG   CID44971        2119          1021      9.815951   \n",
              "CID44971_ACGTCAATCCGAAGAG   CID44971        2225          1100      8.089888   \n",
              "CID44971_AGAGTGGCACACGCTG   CID44971       10826          3055      4.092001   \n",
              "\n",
              "                          subtype    celltype_subset     celltype_minor  \\\n",
              "CID44971_AAGCCGCCACGCATCG    TNBC  Endothelial ACKR1  Endothelial ACKR1   \n",
              "CID44971_AAGGAGCTCAACACAC    TNBC  Endothelial ACKR1  Endothelial ACKR1   \n",
              "CID44971_ACGAGCCTCCGATATG    TNBC  Endothelial ACKR1  Endothelial ACKR1   \n",
              "CID44971_ACGTCAATCCGAAGAG    TNBC  Endothelial ACKR1  Endothelial ACKR1   \n",
              "CID44971_AGAGTGGCACACGCTG    TNBC  Endothelial ACKR1  Endothelial ACKR1   \n",
              "\n",
              "                          celltype_major  \n",
              "CID44971_AAGCCGCCACGCATCG    Endothelial  \n",
              "CID44971_AAGGAGCTCAACACAC    Endothelial  \n",
              "CID44971_ACGAGCCTCCGATATG    Endothelial  \n",
              "CID44971_ACGTCAATCCGAAGAG    Endothelial  \n",
              "CID44971_AGAGTGGCACACGCTG    Endothelial  "
            ],
            "text/html": [
              "\n",
              "  <div id=\"df-d24d6a82-b2d8-4189-82ec-9464d04e87af\">\n",
              "    <div class=\"colab-df-container\">\n",
              "      <div>\n",
              "<style scoped>\n",
              "    .dataframe tbody tr th:only-of-type {\n",
              "        vertical-align: middle;\n",
              "    }\n",
              "\n",
              "    .dataframe tbody tr th {\n",
              "        vertical-align: top;\n",
              "    }\n",
              "\n",
              "    .dataframe thead th {\n",
              "        text-align: right;\n",
              "    }\n",
              "</style>\n",
              "<table border=\"1\" class=\"dataframe\">\n",
              "  <thead>\n",
              "    <tr style=\"text-align: right;\">\n",
              "      <th></th>\n",
              "      <th>orig.ident</th>\n",
              "      <th>nCount_RNA</th>\n",
              "      <th>nFeature_RNA</th>\n",
              "      <th>percent.mito</th>\n",
              "      <th>subtype</th>\n",
              "      <th>celltype_subset</th>\n",
              "      <th>celltype_minor</th>\n",
              "      <th>celltype_major</th>\n",
              "    </tr>\n",
              "  </thead>\n",
              "  <tbody>\n",
              "    <tr>\n",
              "      <th>CID44971_AAGCCGCCACGCATCG</th>\n",
              "      <td>CID44971</td>\n",
              "      <td>3409</td>\n",
              "      <td>1492</td>\n",
              "      <td>9.416251</td>\n",
              "      <td>TNBC</td>\n",
              "      <td>Endothelial ACKR1</td>\n",
              "      <td>Endothelial ACKR1</td>\n",
              "      <td>Endothelial</td>\n",
              "    </tr>\n",
              "    <tr>\n",
              "      <th>CID44971_AAGGAGCTCAACACAC</th>\n",
              "      <td>CID44971</td>\n",
              "      <td>11133</td>\n",
              "      <td>3386</td>\n",
              "      <td>6.557083</td>\n",
              "      <td>TNBC</td>\n",
              "      <td>Endothelial ACKR1</td>\n",
              "      <td>Endothelial ACKR1</td>\n",
              "      <td>Endothelial</td>\n",
              "    </tr>\n",
              "    <tr>\n",
              "      <th>CID44971_ACGAGCCTCCGATATG</th>\n",
              "      <td>CID44971</td>\n",
              "      <td>2119</td>\n",
              "      <td>1021</td>\n",
              "      <td>9.815951</td>\n",
              "      <td>TNBC</td>\n",
              "      <td>Endothelial ACKR1</td>\n",
              "      <td>Endothelial ACKR1</td>\n",
              "      <td>Endothelial</td>\n",
              "    </tr>\n",
              "    <tr>\n",
              "      <th>CID44971_ACGTCAATCCGAAGAG</th>\n",
              "      <td>CID44971</td>\n",
              "      <td>2225</td>\n",
              "      <td>1100</td>\n",
              "      <td>8.089888</td>\n",
              "      <td>TNBC</td>\n",
              "      <td>Endothelial ACKR1</td>\n",
              "      <td>Endothelial ACKR1</td>\n",
              "      <td>Endothelial</td>\n",
              "    </tr>\n",
              "    <tr>\n",
              "      <th>CID44971_AGAGTGGCACACGCTG</th>\n",
              "      <td>CID44971</td>\n",
              "      <td>10826</td>\n",
              "      <td>3055</td>\n",
              "      <td>4.092001</td>\n",
              "      <td>TNBC</td>\n",
              "      <td>Endothelial ACKR1</td>\n",
              "      <td>Endothelial ACKR1</td>\n",
              "      <td>Endothelial</td>\n",
              "    </tr>\n",
              "  </tbody>\n",
              "</table>\n",
              "</div>\n",
              "      <button class=\"colab-df-convert\" onclick=\"convertToInteractive('df-d24d6a82-b2d8-4189-82ec-9464d04e87af')\"\n",
              "              title=\"Convert this dataframe to an interactive table.\"\n",
              "              style=\"display:none;\">\n",
              "        \n",
              "  <svg xmlns=\"http://www.w3.org/2000/svg\" height=\"24px\"viewBox=\"0 0 24 24\"\n",
              "       width=\"24px\">\n",
              "    <path d=\"M0 0h24v24H0V0z\" fill=\"none\"/>\n",
              "    <path d=\"M18.56 5.44l.94 2.06.94-2.06 2.06-.94-2.06-.94-.94-2.06-.94 2.06-2.06.94zm-11 1L8.5 8.5l.94-2.06 2.06-.94-2.06-.94L8.5 2.5l-.94 2.06-2.06.94zm10 10l.94 2.06.94-2.06 2.06-.94-2.06-.94-.94-2.06-.94 2.06-2.06.94z\"/><path d=\"M17.41 7.96l-1.37-1.37c-.4-.4-.92-.59-1.43-.59-.52 0-1.04.2-1.43.59L10.3 9.45l-7.72 7.72c-.78.78-.78 2.05 0 2.83L4 21.41c.39.39.9.59 1.41.59.51 0 1.02-.2 1.41-.59l7.78-7.78 2.81-2.81c.8-.78.8-2.07 0-2.86zM5.41 20L4 18.59l7.72-7.72 1.47 1.35L5.41 20z\"/>\n",
              "  </svg>\n",
              "      </button>\n",
              "      \n",
              "  <style>\n",
              "    .colab-df-container {\n",
              "      display:flex;\n",
              "      flex-wrap:wrap;\n",
              "      gap: 12px;\n",
              "    }\n",
              "\n",
              "    .colab-df-convert {\n",
              "      background-color: #E8F0FE;\n",
              "      border: none;\n",
              "      border-radius: 50%;\n",
              "      cursor: pointer;\n",
              "      display: none;\n",
              "      fill: #1967D2;\n",
              "      height: 32px;\n",
              "      padding: 0 0 0 0;\n",
              "      width: 32px;\n",
              "    }\n",
              "\n",
              "    .colab-df-convert:hover {\n",
              "      background-color: #E2EBFA;\n",
              "      box-shadow: 0px 1px 2px rgba(60, 64, 67, 0.3), 0px 1px 3px 1px rgba(60, 64, 67, 0.15);\n",
              "      fill: #174EA6;\n",
              "    }\n",
              "\n",
              "    [theme=dark] .colab-df-convert {\n",
              "      background-color: #3B4455;\n",
              "      fill: #D2E3FC;\n",
              "    }\n",
              "\n",
              "    [theme=dark] .colab-df-convert:hover {\n",
              "      background-color: #434B5C;\n",
              "      box-shadow: 0px 1px 3px 1px rgba(0, 0, 0, 0.15);\n",
              "      filter: drop-shadow(0px 1px 2px rgba(0, 0, 0, 0.3));\n",
              "      fill: #FFFFFF;\n",
              "    }\n",
              "  </style>\n",
              "\n",
              "      <script>\n",
              "        const buttonEl =\n",
              "          document.querySelector('#df-d24d6a82-b2d8-4189-82ec-9464d04e87af button.colab-df-convert');\n",
              "        buttonEl.style.display =\n",
              "          google.colab.kernel.accessAllowed ? 'block' : 'none';\n",
              "\n",
              "        async function convertToInteractive(key) {\n",
              "          const element = document.querySelector('#df-d24d6a82-b2d8-4189-82ec-9464d04e87af');\n",
              "          const dataTable =\n",
              "            await google.colab.kernel.invokeFunction('convertToInteractive',\n",
              "                                                     [key], {});\n",
              "          if (!dataTable) return;\n",
              "\n",
              "          const docLinkHtml = 'Like what you see? Visit the ' +\n",
              "            '<a target=\"_blank\" href=https://colab.research.google.com/notebooks/data_table.ipynb>data table notebook</a>'\n",
              "            + ' to learn more about interactive tables.';\n",
              "          element.innerHTML = '';\n",
              "          dataTable['output_type'] = 'display_data';\n",
              "          await google.colab.output.renderOutput(dataTable, element);\n",
              "          const docLink = document.createElement('div');\n",
              "          docLink.innerHTML = docLinkHtml;\n",
              "          element.appendChild(docLink);\n",
              "        }\n",
              "      </script>\n",
              "    </div>\n",
              "  </div>\n",
              "  "
            ]
          },
          "metadata": {},
          "execution_count": 10
        }
      ]
    },
    {
      "cell_type": "code",
      "source": [
        "adata_sc.obs['celltype_major'] = meta_df['celltype_major']\n",
        "adata_sc.obs['celltype_minor'] = meta_df['celltype_minor']\n",
        "adata_sc.obs['celltype_subset'] = meta_df['celltype_subset']\n",
        "adata_sc.obs"
      ],
      "metadata": {
        "colab": {
          "base_uri": "https://localhost:8080/",
          "height": 574
        },
        "id": "DxBxOzvfiyIz",
        "outputId": "179669a0-6b60-4f52-c3ca-b7334aba5eac"
      },
      "execution_count": null,
      "outputs": [
        {
          "output_type": "execute_result",
          "data": {
            "text/plain": [
              "                                             Barcode     celltype_major  \\\n",
              "CID44971_AAGCCGCCACGCATCG  CID44971_AAGCCGCCACGCATCG        Endothelial   \n",
              "CID44971_AAGGAGCTCAACACAC  CID44971_AAGGAGCTCAACACAC        Endothelial   \n",
              "CID44971_ACGAGCCTCCGATATG  CID44971_ACGAGCCTCCGATATG        Endothelial   \n",
              "CID44971_ACGTCAATCCGAAGAG  CID44971_ACGTCAATCCGAAGAG        Endothelial   \n",
              "CID44971_AGAGTGGCACACGCTG  CID44971_AGAGTGGCACACGCTG        Endothelial   \n",
              "...                                              ...                ...   \n",
              "CID44971_TTGACTTTCTCTTATG  CID44971_TTGACTTTCTCTTATG  Normal Epithelial   \n",
              "CID44971_TTGGCAAGTTCGTCTC  CID44971_TTGGCAAGTTCGTCTC  Normal Epithelial   \n",
              "CID44971_TTTATGCTCAGATAAG  CID44971_TTTATGCTCAGATAAG  Normal Epithelial   \n",
              "CID44971_TTTCCTCCAAGCCATT  CID44971_TTTCCTCCAAGCCATT  Normal Epithelial   \n",
              "CID44971_TTTGGTTGTATCACCA  CID44971_TTTGGTTGTATCACCA  Normal Epithelial   \n",
              "\n",
              "                              celltype_minor    celltype_subset  \n",
              "CID44971_AAGCCGCCACGCATCG  Endothelial ACKR1  Endothelial ACKR1  \n",
              "CID44971_AAGGAGCTCAACACAC  Endothelial ACKR1  Endothelial ACKR1  \n",
              "CID44971_ACGAGCCTCCGATATG  Endothelial ACKR1  Endothelial ACKR1  \n",
              "CID44971_ACGTCAATCCGAAGAG  Endothelial ACKR1  Endothelial ACKR1  \n",
              "CID44971_AGAGTGGCACACGCTG  Endothelial ACKR1  Endothelial ACKR1  \n",
              "...                                      ...                ...  \n",
              "CID44971_TTGACTTTCTCTTATG     Mature Luminal     Mature Luminal  \n",
              "CID44971_TTGGCAAGTTCGTCTC     Mature Luminal     Mature Luminal  \n",
              "CID44971_TTTATGCTCAGATAAG     Mature Luminal     Mature Luminal  \n",
              "CID44971_TTTCCTCCAAGCCATT     Mature Luminal     Mature Luminal  \n",
              "CID44971_TTTGGTTGTATCACCA     Mature Luminal     Mature Luminal  \n",
              "\n",
              "[7986 rows x 4 columns]"
            ],
            "text/html": [
              "\n",
              "  <div id=\"df-e496b081-10e0-42a8-a231-25471f150152\">\n",
              "    <div class=\"colab-df-container\">\n",
              "      <div>\n",
              "<style scoped>\n",
              "    .dataframe tbody tr th:only-of-type {\n",
              "        vertical-align: middle;\n",
              "    }\n",
              "\n",
              "    .dataframe tbody tr th {\n",
              "        vertical-align: top;\n",
              "    }\n",
              "\n",
              "    .dataframe thead th {\n",
              "        text-align: right;\n",
              "    }\n",
              "</style>\n",
              "<table border=\"1\" class=\"dataframe\">\n",
              "  <thead>\n",
              "    <tr style=\"text-align: right;\">\n",
              "      <th></th>\n",
              "      <th>Barcode</th>\n",
              "      <th>celltype_major</th>\n",
              "      <th>celltype_minor</th>\n",
              "      <th>celltype_subset</th>\n",
              "    </tr>\n",
              "  </thead>\n",
              "  <tbody>\n",
              "    <tr>\n",
              "      <th>CID44971_AAGCCGCCACGCATCG</th>\n",
              "      <td>CID44971_AAGCCGCCACGCATCG</td>\n",
              "      <td>Endothelial</td>\n",
              "      <td>Endothelial ACKR1</td>\n",
              "      <td>Endothelial ACKR1</td>\n",
              "    </tr>\n",
              "    <tr>\n",
              "      <th>CID44971_AAGGAGCTCAACACAC</th>\n",
              "      <td>CID44971_AAGGAGCTCAACACAC</td>\n",
              "      <td>Endothelial</td>\n",
              "      <td>Endothelial ACKR1</td>\n",
              "      <td>Endothelial ACKR1</td>\n",
              "    </tr>\n",
              "    <tr>\n",
              "      <th>CID44971_ACGAGCCTCCGATATG</th>\n",
              "      <td>CID44971_ACGAGCCTCCGATATG</td>\n",
              "      <td>Endothelial</td>\n",
              "      <td>Endothelial ACKR1</td>\n",
              "      <td>Endothelial ACKR1</td>\n",
              "    </tr>\n",
              "    <tr>\n",
              "      <th>CID44971_ACGTCAATCCGAAGAG</th>\n",
              "      <td>CID44971_ACGTCAATCCGAAGAG</td>\n",
              "      <td>Endothelial</td>\n",
              "      <td>Endothelial ACKR1</td>\n",
              "      <td>Endothelial ACKR1</td>\n",
              "    </tr>\n",
              "    <tr>\n",
              "      <th>CID44971_AGAGTGGCACACGCTG</th>\n",
              "      <td>CID44971_AGAGTGGCACACGCTG</td>\n",
              "      <td>Endothelial</td>\n",
              "      <td>Endothelial ACKR1</td>\n",
              "      <td>Endothelial ACKR1</td>\n",
              "    </tr>\n",
              "    <tr>\n",
              "      <th>...</th>\n",
              "      <td>...</td>\n",
              "      <td>...</td>\n",
              "      <td>...</td>\n",
              "      <td>...</td>\n",
              "    </tr>\n",
              "    <tr>\n",
              "      <th>CID44971_TTGACTTTCTCTTATG</th>\n",
              "      <td>CID44971_TTGACTTTCTCTTATG</td>\n",
              "      <td>Normal Epithelial</td>\n",
              "      <td>Mature Luminal</td>\n",
              "      <td>Mature Luminal</td>\n",
              "    </tr>\n",
              "    <tr>\n",
              "      <th>CID44971_TTGGCAAGTTCGTCTC</th>\n",
              "      <td>CID44971_TTGGCAAGTTCGTCTC</td>\n",
              "      <td>Normal Epithelial</td>\n",
              "      <td>Mature Luminal</td>\n",
              "      <td>Mature Luminal</td>\n",
              "    </tr>\n",
              "    <tr>\n",
              "      <th>CID44971_TTTATGCTCAGATAAG</th>\n",
              "      <td>CID44971_TTTATGCTCAGATAAG</td>\n",
              "      <td>Normal Epithelial</td>\n",
              "      <td>Mature Luminal</td>\n",
              "      <td>Mature Luminal</td>\n",
              "    </tr>\n",
              "    <tr>\n",
              "      <th>CID44971_TTTCCTCCAAGCCATT</th>\n",
              "      <td>CID44971_TTTCCTCCAAGCCATT</td>\n",
              "      <td>Normal Epithelial</td>\n",
              "      <td>Mature Luminal</td>\n",
              "      <td>Mature Luminal</td>\n",
              "    </tr>\n",
              "    <tr>\n",
              "      <th>CID44971_TTTGGTTGTATCACCA</th>\n",
              "      <td>CID44971_TTTGGTTGTATCACCA</td>\n",
              "      <td>Normal Epithelial</td>\n",
              "      <td>Mature Luminal</td>\n",
              "      <td>Mature Luminal</td>\n",
              "    </tr>\n",
              "  </tbody>\n",
              "</table>\n",
              "<p>7986 rows × 4 columns</p>\n",
              "</div>\n",
              "      <button class=\"colab-df-convert\" onclick=\"convertToInteractive('df-e496b081-10e0-42a8-a231-25471f150152')\"\n",
              "              title=\"Convert this dataframe to an interactive table.\"\n",
              "              style=\"display:none;\">\n",
              "        \n",
              "  <svg xmlns=\"http://www.w3.org/2000/svg\" height=\"24px\"viewBox=\"0 0 24 24\"\n",
              "       width=\"24px\">\n",
              "    <path d=\"M0 0h24v24H0V0z\" fill=\"none\"/>\n",
              "    <path d=\"M18.56 5.44l.94 2.06.94-2.06 2.06-.94-2.06-.94-.94-2.06-.94 2.06-2.06.94zm-11 1L8.5 8.5l.94-2.06 2.06-.94-2.06-.94L8.5 2.5l-.94 2.06-2.06.94zm10 10l.94 2.06.94-2.06 2.06-.94-2.06-.94-.94-2.06-.94 2.06-2.06.94z\"/><path d=\"M17.41 7.96l-1.37-1.37c-.4-.4-.92-.59-1.43-.59-.52 0-1.04.2-1.43.59L10.3 9.45l-7.72 7.72c-.78.78-.78 2.05 0 2.83L4 21.41c.39.39.9.59 1.41.59.51 0 1.02-.2 1.41-.59l7.78-7.78 2.81-2.81c.8-.78.8-2.07 0-2.86zM5.41 20L4 18.59l7.72-7.72 1.47 1.35L5.41 20z\"/>\n",
              "  </svg>\n",
              "      </button>\n",
              "      \n",
              "  <style>\n",
              "    .colab-df-container {\n",
              "      display:flex;\n",
              "      flex-wrap:wrap;\n",
              "      gap: 12px;\n",
              "    }\n",
              "\n",
              "    .colab-df-convert {\n",
              "      background-color: #E8F0FE;\n",
              "      border: none;\n",
              "      border-radius: 50%;\n",
              "      cursor: pointer;\n",
              "      display: none;\n",
              "      fill: #1967D2;\n",
              "      height: 32px;\n",
              "      padding: 0 0 0 0;\n",
              "      width: 32px;\n",
              "    }\n",
              "\n",
              "    .colab-df-convert:hover {\n",
              "      background-color: #E2EBFA;\n",
              "      box-shadow: 0px 1px 2px rgba(60, 64, 67, 0.3), 0px 1px 3px 1px rgba(60, 64, 67, 0.15);\n",
              "      fill: #174EA6;\n",
              "    }\n",
              "\n",
              "    [theme=dark] .colab-df-convert {\n",
              "      background-color: #3B4455;\n",
              "      fill: #D2E3FC;\n",
              "    }\n",
              "\n",
              "    [theme=dark] .colab-df-convert:hover {\n",
              "      background-color: #434B5C;\n",
              "      box-shadow: 0px 1px 3px 1px rgba(0, 0, 0, 0.15);\n",
              "      filter: drop-shadow(0px 1px 2px rgba(0, 0, 0, 0.3));\n",
              "      fill: #FFFFFF;\n",
              "    }\n",
              "  </style>\n",
              "\n",
              "      <script>\n",
              "        const buttonEl =\n",
              "          document.querySelector('#df-e496b081-10e0-42a8-a231-25471f150152 button.colab-df-convert');\n",
              "        buttonEl.style.display =\n",
              "          google.colab.kernel.accessAllowed ? 'block' : 'none';\n",
              "\n",
              "        async function convertToInteractive(key) {\n",
              "          const element = document.querySelector('#df-e496b081-10e0-42a8-a231-25471f150152');\n",
              "          const dataTable =\n",
              "            await google.colab.kernel.invokeFunction('convertToInteractive',\n",
              "                                                     [key], {});\n",
              "          if (!dataTable) return;\n",
              "\n",
              "          const docLinkHtml = 'Like what you see? Visit the ' +\n",
              "            '<a target=\"_blank\" href=https://colab.research.google.com/notebooks/data_table.ipynb>data table notebook</a>'\n",
              "            + ' to learn more about interactive tables.';\n",
              "          element.innerHTML = '';\n",
              "          dataTable['output_type'] = 'display_data';\n",
              "          await google.colab.output.renderOutput(dataTable, element);\n",
              "          const docLink = document.createElement('div');\n",
              "          docLink.innerHTML = docLinkHtml;\n",
              "          element.appendChild(docLink);\n",
              "        }\n",
              "      </script>\n",
              "    </div>\n",
              "  </div>\n",
              "  "
            ]
          },
          "metadata": {},
          "execution_count": 11
        }
      ]
    },
    {
      "cell_type": "code",
      "source": [
        "adata_st, adata_st_normed = load_adata(data_folder=spatial_path,  # root data directory\n",
        "                                       sample_id='simu_defined',  # sample_id\n",
        "                                       n_genes=2000  # number of highly variable genes to keep\n",
        "                                      )"
      ],
      "metadata": {
        "colab": {
          "base_uri": "https://localhost:8080/"
        },
        "id": "KmUKVK2PjJAW",
        "outputId": "36128a77-64b2-4bf1-80a7-2b97ef5231b3"
      },
      "execution_count": null,
      "outputs": [
        {
          "output_type": "stream",
          "name": "stderr",
          "text": [
            "[2023-03-16 23:30:37] Preprocessing1: delete the mt and rp\n",
            "/usr/local/lib/python3.9/dist-packages/scanpy/preprocessing/_simple.py:251: ImplicitModificationWarning: Trying to modify attribute `.var` of view, initializing view as actual.\n",
            "  adata.var['n_cells'] = number\n",
            "[2023-03-16 23:30:39] Preprocessing2: Normalize\n",
            "[2023-03-16 23:30:39] Preprocessing3: Logarithm\n",
            "[2023-03-16 23:30:39] Preprocessing4: Find the variable genes\n",
            "<ipython-input-3-726b46102734>:50: ImplicitModificationWarning: Trying to modify attribute `.var` of view, initializing view as actual.\n",
            "  adata.var['highly_variable'] = adata_norm.var['highly_variable']\n"
          ]
        }
      ]
    },
    {
      "cell_type": "code",
      "source": [
        "xx, yy = np.meshgrid(np.arange(50), np.arange(50), indexing='ij')\n",
        "xx, yy = xx.flatten(), yy.flatten()\n",
        "adata_st.obsm[\"location\"] = np.column_stack((yy, xx))"
      ],
      "metadata": {
        "id": "Eq629O3ijVuJ"
      },
      "execution_count": null,
      "outputs": []
    },
    {
      "cell_type": "code",
      "source": [
        "adata_st.obsm[\"location\"]"
      ],
      "metadata": {
        "colab": {
          "base_uri": "https://localhost:8080/"
        },
        "id": "qInVqzEqtsFU",
        "outputId": "304c136f-b179-4575-cd38-ffa68fddc0a1"
      },
      "execution_count": null,
      "outputs": [
        {
          "output_type": "execute_result",
          "data": {
            "text/plain": [
              "array([[ 0,  0],\n",
              "       [ 1,  0],\n",
              "       [ 2,  0],\n",
              "       ...,\n",
              "       [47, 49],\n",
              "       [48, 49],\n",
              "       [49, 49]])"
            ]
          },
          "metadata": {},
          "execution_count": 14
        }
      ]
    },
    {
      "cell_type": "code",
      "source": [
        "sc_adata = adata_sc.copy()\n",
        "st_adata = adata_st.copy()"
      ],
      "metadata": {
        "id": "bv8QcYQctzNE"
      },
      "execution_count": null,
      "outputs": []
    },
    {
      "cell_type": "markdown",
      "metadata": {
        "id": "ZQ4gKU6DWgu-"
      },
      "source": [
        "We clustered the single-cell data by major immune cell types. DestVI can resolve beyond discrete clusters, but need to work with an existing level of clustering. A rule of thumb to keep in mind while clsutering is that DestVI assumes only a single state from each cell type exists in each spot. For example, resting and inflammed monocytes cannot co-exist in one unique spot according to our assumption. Users may cluster their data so that this modeling assumption is as accurate as possible."
      ]
    },
    {
      "cell_type": "code",
      "source": [
        "# visualization of sc data\n",
        "sc_vis = sc_adata.copy()\n",
        "sc.pp.normalize_total(sc_vis, target_sum=1e4)\n",
        "sc.pp.log1p(sc_vis)"
      ],
      "metadata": {
        "id": "ceSXU1ahwMl0"
      },
      "execution_count": null,
      "outputs": []
    },
    {
      "cell_type": "code",
      "execution_count": null,
      "metadata": {
        "colab": {
          "base_uri": "https://localhost:8080/",
          "height": 332
        },
        "id": "aQcPYL62cXuf",
        "outputId": "bd22083f-9062-471b-e4cc-468b2e68cd84"
      },
      "outputs": [
        {
          "output_type": "stream",
          "name": "stdout",
          "text": [
            "WARNING: You’re trying to run this on 29733 dimensions of `.X`, if you really want this, set `use_rep='X'`.\n",
            "         Falling back to preprocessing with `sc.pp.pca` and default params.\n"
          ]
        },
        {
          "output_type": "stream",
          "name": "stderr",
          "text": [
            "... storing 'celltype_major' as categorical\n",
            "... storing 'celltype_minor' as categorical\n",
            "... storing 'celltype_subset' as categorical\n",
            "/usr/local/lib/python3.9/dist-packages/scanpy/plotting/_tools/scatterplots.py:378: UserWarning: No data for colormapping provided via 'c'. Parameters 'cmap' will be ignored\n",
            "  cax = scatter(\n"
          ]
        },
        {
          "output_type": "display_data",
          "data": {
            "text/plain": [
              "<Figure size 432x288 with 1 Axes>"
            ],
            "image/png": "[encoded data removed]"
          },
          "metadata": {}
        }
      ],
      "source": [
        "sc.pp.neighbors(sc_vis, n_neighbors=10, n_pcs=40)\n",
        "sc.tl.umap(sc_vis)\n",
        "sc.pl.umap(sc_vis, color=\"celltype_subset\")"
      ]
    },
    {
      "cell_type": "code",
      "execution_count": null,
      "metadata": {
        "id": "FU2FI2BccfCX"
      },
      "outputs": [],
      "source": [
        "# let us filter some genes\n",
        "G = 2000\n",
        "sc.pp.filter_genes(sc_adata, min_counts=10)\n",
        "\n",
        "sc_adata.layers[\"counts\"] = sc_adata.X.copy()\n",
        "\n",
        "sc.pp.highly_variable_genes(\n",
        "    sc_adata, n_top_genes=G, subset=True, layer=\"counts\", flavor=\"seurat_v3\"\n",
        ")\n",
        "\n",
        "sc.pp.normalize_total(sc_adata, target_sum=10e4)\n",
        "sc.pp.log1p(sc_adata)\n",
        "sc_adata.raw = sc_adata"
      ]
    },
    {
      "cell_type": "markdown",
      "metadata": {
        "id": "V-iEd5M1ctRe"
      },
      "source": [
        "Now, let's load the spatial data and choose a common gene subset. Users will note that having a common gene set is a prerequisite of the method."
      ]
    },
    {
      "cell_type": "code",
      "execution_count": null,
      "metadata": {
        "id": "oN-fthpve6vJ"
      },
      "outputs": [],
      "source": [
        "st_adata.layers[\"counts\"] = st_adata.X.copy()\n",
        "st_adata.obsm[\"spatial\"] = st_adata.obsm[\"location\"]\n",
        "\n",
        "sc.pp.normalize_total(st_adata, target_sum=10e4)\n",
        "sc.pp.log1p(st_adata)\n",
        "st_adata.raw = st_adata"
      ]
    },
    {
      "cell_type": "code",
      "execution_count": null,
      "metadata": {
        "id": "kNo-z7GOc1Dt"
      },
      "outputs": [],
      "source": [
        "# filter genes to be the same on the spatial data\n",
        "intersect = np.intersect1d(sc_adata.var_names, st_adata.var_names)\n",
        "st_adata = st_adata[:, intersect].copy()\n",
        "sc_adata = sc_adata[:, intersect].copy()\n",
        "G = len(intersect)"
      ]
    },
    {
      "cell_type": "code",
      "execution_count": null,
      "metadata": {
        "id": "poioOiDnc60T"
      },
      "outputs": [],
      "source": [
        "# sc.pl.embedding(st_adata, basis=\"spatial\", s=80)"
      ]
    },
    {
      "cell_type": "markdown",
      "metadata": {
        "id": "167LQzlRfBW0"
      },
      "source": [
        "## Fit the scLVM"
      ]
    },
    {
      "cell_type": "markdown",
      "metadata": {
        "id": "r_o-uDgzkEZ7"
      },
      "source": [
        "In order to learn cell state specific gene expression patterns, we will fit the single-cell Latent Variable Model (scLVM) to single-cell RNA sequencing data from the same tissue."
      ]
    },
    {
      "cell_type": "code",
      "execution_count": null,
      "metadata": {
        "id": "sgJC7-bre9U9",
        "colab": {
          "base_uri": "https://localhost:8080/"
        },
        "outputId": "ebf04108-409e-4d83-df33-db757b6abaef"
      },
      "outputs": [
        {
          "output_type": "stream",
          "name": "stderr",
          "text": [
            "/usr/local/lib/python3.9/dist-packages/scvi/data/_utils.py:172: UserWarning: Category 9 in adata.obs['_scvi_labels'] has fewer than 3 cells. Models may not train properly.\n",
            "  warnings.warn(\n"
          ]
        }
      ],
      "source": [
        "CondSCVI.setup_anndata(sc_adata, layer=\"counts\", labels_key=\"celltype_subset\")"
      ]
    },
    {
      "cell_type": "markdown",
      "metadata": {
        "id": "Fonr8sZjgLLw"
      },
      "source": [
        "As a first step, we embed our data using a cell type conditional VAE. We pass the layer containing the raw counts and the labels key. We train this model without reweighting the loss by the cell type abundance. Training will take around 5 minutes in a Colab GPU session."
      ]
    },
    {
      "cell_type": "code",
      "execution_count": null,
      "metadata": {
        "colab": {
          "base_uri": "https://localhost:8080/",
          "height": 1000
        },
        "id": "24xNm7XOgnJi",
        "outputId": "54708ccd-c75d-4b40-af34-0b51c94a3118"
      },
      "outputs": [
        {
          "output_type": "display_data",
          "data": {
            "text/plain": [
              "Anndata setup with scvi-tools version \u001b[1;36m0.20\u001b[0m.\u001b[1;36m2\u001b[0m.\n"
            ],
            "text/html": [
              "<pre style=\"white-space:pre;overflow-x:auto;line-height:normal;font-family:Menlo,'DejaVu Sans Mono',consolas,'Courier New',monospace\">Anndata setup with scvi-tools version <span style=\"color: #008080; text-decoration-color: #008080; font-weight: bold\">0.20</span>.<span style=\"color: #008080; text-decoration-color: #008080; font-weight: bold\">2</span>.\n",
              "</pre>\n"
            ]
          },
          "metadata": {}
        },
        {
          "output_type": "display_data",
          "data": {
            "text/plain": [
              "\n"
            ],
            "text/html": [
              "<pre style=\"white-space:pre;overflow-x:auto;line-height:normal;font-family:Menlo,'DejaVu Sans Mono',consolas,'Courier New',monospace\">\n",
              "</pre>\n"
            ]
          },
          "metadata": {}
        },
        {
          "output_type": "display_data",
          "data": {
            "text/plain": [
              "Setup via `CondSCVI.setup_anndata` with arguments:\n"
            ],
            "text/html": [
              "<pre style=\"white-space:pre;overflow-x:auto;line-height:normal;font-family:Menlo,'DejaVu Sans Mono',consolas,'Courier New',monospace\">Setup via `CondSCVI.setup_anndata` with arguments:\n",
              "</pre>\n"
            ]
          },
          "metadata": {}
        },
        {
          "output_type": "display_data",
          "data": {
            "text/plain": [
              "\u001b[1m{\u001b[0m\u001b[32m'labels_key'\u001b[0m: \u001b[32m'celltype_subset'\u001b[0m, \u001b[32m'layer'\u001b[0m: \u001b[32m'counts'\u001b[0m\u001b[1m}\u001b[0m\n"
            ],
            "text/html": [
              "<pre style=\"white-space:pre;overflow-x:auto;line-height:normal;font-family:Menlo,'DejaVu Sans Mono',consolas,'Courier New',monospace\"><span style=\"font-weight: bold\">{</span><span style=\"color: #008000; text-decoration-color: #008000\">'labels_key'</span>: <span style=\"color: #008000; text-decoration-color: #008000\">'celltype_subset'</span>, <span style=\"color: #008000; text-decoration-color: #008000\">'layer'</span>: <span style=\"color: #008000; text-decoration-color: #008000\">'counts'</span><span style=\"font-weight: bold\">}</span>\n",
              "</pre>\n"
            ]
          },
          "metadata": {}
        },
        {
          "output_type": "display_data",
          "data": {
            "text/plain": [
              "\n"
            ],
            "text/html": [
              "<pre style=\"white-space:pre;overflow-x:auto;line-height:normal;font-family:Menlo,'DejaVu Sans Mono',consolas,'Courier New',monospace\">\n",
              "</pre>\n"
            ]
          },
          "metadata": {}
        },
        {
          "output_type": "display_data",
          "data": {
            "text/plain": [
              "\u001b[3m     Summary Statistics     \u001b[0m\n",
              "┏━━━━━━━━━━━━━━━━━━┳━━━━━━━┓\n",
              "┃\u001b[1m \u001b[0m\u001b[1mSummary Stat Key\u001b[0m\u001b[1m \u001b[0m┃\u001b[1m \u001b[0m\u001b[1mValue\u001b[0m\u001b[1m \u001b[0m┃\n",
              "┡━━━━━━━━━━━━━━━━━━╇━━━━━━━┩\n",
              "│\u001b[38;5;33m \u001b[0m\u001b[38;5;33m    n_cells     \u001b[0m\u001b[38;5;33m \u001b[0m│\u001b[38;5;128m \u001b[0m\u001b[38;5;128m7986 \u001b[0m\u001b[38;5;128m \u001b[0m│\n",
              "│\u001b[38;5;33m \u001b[0m\u001b[38;5;33m    n_labels    \u001b[0m\u001b[38;5;33m \u001b[0m│\u001b[38;5;128m \u001b[0m\u001b[38;5;128m 46  \u001b[0m\u001b[38;5;128m \u001b[0m│\n",
              "│\u001b[38;5;33m \u001b[0m\u001b[38;5;33m     n_vars     \u001b[0m\u001b[38;5;33m \u001b[0m│\u001b[38;5;128m \u001b[0m\u001b[38;5;128m1751 \u001b[0m\u001b[38;5;128m \u001b[0m│\n",
              "└──────────────────┴───────┘\n"
            ],
            "text/html": [
              "<pre style=\"white-space:pre;overflow-x:auto;line-height:normal;font-family:Menlo,'DejaVu Sans Mono',consolas,'Courier New',monospace\"><span style=\"font-style: italic\">     Summary Statistics     </span>\n",
              "┏━━━━━━━━━━━━━━━━━━┳━━━━━━━┓\n",
              "┃<span style=\"font-weight: bold\"> Summary Stat Key </span>┃<span style=\"font-weight: bold\"> Value </span>┃\n",
              "┡━━━━━━━━━━━━━━━━━━╇━━━━━━━┩\n",
              "│<span style=\"color: #0087ff; text-decoration-color: #0087ff\">     n_cells      </span>│<span style=\"color: #af00d7; text-decoration-color: #af00d7\"> 7986  </span>│\n",
              "│<span style=\"color: #0087ff; text-decoration-color: #0087ff\">     n_labels     </span>│<span style=\"color: #af00d7; text-decoration-color: #af00d7\">  46   </span>│\n",
              "│<span style=\"color: #0087ff; text-decoration-color: #0087ff\">      n_vars      </span>│<span style=\"color: #af00d7; text-decoration-color: #af00d7\"> 1751  </span>│\n",
              "└──────────────────┴───────┘\n",
              "</pre>\n"
            ]
          },
          "metadata": {}
        },
        {
          "output_type": "display_data",
          "data": {
            "text/plain": [
              "\u001b[3m               Data Registry                \u001b[0m\n",
              "┏━━━━━━━━━━━━━━┳━━━━━━━━━━━━━━━━━━━━━━━━━━━┓\n",
              "┃\u001b[1m \u001b[0m\u001b[1mRegistry Key\u001b[0m\u001b[1m \u001b[0m┃\u001b[1m \u001b[0m\u001b[1m   scvi-tools Location   \u001b[0m\u001b[1m \u001b[0m┃\n",
              "┡━━━━━━━━━━━━━━╇━━━━━━━━━━━━━━━━━━━━━━━━━━━┩\n",
              "│\u001b[38;5;33m \u001b[0m\u001b[38;5;33m     X      \u001b[0m\u001b[38;5;33m \u001b[0m│\u001b[38;5;128m \u001b[0m\u001b[38;5;128m adata.layers['counts']  \u001b[0m\u001b[38;5;128m \u001b[0m│\n",
              "│\u001b[38;5;33m \u001b[0m\u001b[38;5;33m   labels   \u001b[0m\u001b[38;5;33m \u001b[0m│\u001b[38;5;128m \u001b[0m\u001b[38;5;128madata.obs['_scvi_labels']\u001b[0m\u001b[38;5;128m \u001b[0m│\n",
              "└──────────────┴───────────────────────────┘\n"
            ],
            "text/html": [
              "<pre style=\"white-space:pre;overflow-x:auto;line-height:normal;font-family:Menlo,'DejaVu Sans Mono',consolas,'Courier New',monospace\"><span style=\"font-style: italic\">               Data Registry                </span>\n",
              "┏━━━━━━━━━━━━━━┳━━━━━━━━━━━━━━━━━━━━━━━━━━━┓\n",
              "┃<span style=\"font-weight: bold\"> Registry Key </span>┃<span style=\"font-weight: bold\">    scvi-tools Location    </span>┃\n",
              "┡━━━━━━━━━━━━━━╇━━━━━━━━━━━━━━━━━━━━━━━━━━━┩\n",
              "│<span style=\"color: #0087ff; text-decoration-color: #0087ff\">      X       </span>│<span style=\"color: #af00d7; text-decoration-color: #af00d7\">  adata.layers['counts']   </span>│\n",
              "│<span style=\"color: #0087ff; text-decoration-color: #0087ff\">    labels    </span>│<span style=\"color: #af00d7; text-decoration-color: #af00d7\"> adata.obs['_scvi_labels'] </span>│\n",
              "└──────────────┴───────────────────────────┘\n",
              "</pre>\n"
            ]
          },
          "metadata": {}
        },
        {
          "output_type": "display_data",
          "data": {
            "text/plain": [
              "\u001b[3m                                 labels State Registry                                 \u001b[0m\n",
              "┏━━━━━━━━━━━━━━━━━━━━━━━━━━━━━━┳━━━━━━━━━━━━━━━━━━━━━━━━━━━━━━━━┳━━━━━━━━━━━━━━━━━━━━━┓\n",
              "┃\u001b[1m \u001b[0m\u001b[1m      Source Location       \u001b[0m\u001b[1m \u001b[0m┃\u001b[1m \u001b[0m\u001b[1m          Categories          \u001b[0m\u001b[1m \u001b[0m┃\u001b[1m \u001b[0m\u001b[1mscvi-tools Encoding\u001b[0m\u001b[1m \u001b[0m┃\n",
              "┡━━━━━━━━━━━━━━━━━━━━━━━━━━━━━━╇━━━━━━━━━━━━━━━━━━━━━━━━━━━━━━━━╇━━━━━━━━━━━━━━━━━━━━━┩\n",
              "│\u001b[38;5;33m \u001b[0m\u001b[38;5;33madata.obs['celltype_subset']\u001b[0m\u001b[38;5;33m \u001b[0m│\u001b[32m \u001b[0m\u001b[32m        B cells Memory        \u001b[0m\u001b[32m \u001b[0m│\u001b[38;5;128m \u001b[0m\u001b[38;5;128m         0         \u001b[0m\u001b[38;5;128m \u001b[0m│\n",
              "│\u001b[38;5;33m \u001b[0m\u001b[38;5;33m                            \u001b[0m\u001b[38;5;33m \u001b[0m│\u001b[32m \u001b[0m\u001b[32m        B cells Naive         \u001b[0m\u001b[32m \u001b[0m│\u001b[38;5;128m \u001b[0m\u001b[38;5;128m         1         \u001b[0m\u001b[38;5;128m \u001b[0m│\n",
              "│\u001b[38;5;33m \u001b[0m\u001b[38;5;33m                            \u001b[0m\u001b[38;5;33m \u001b[0m│\u001b[32m \u001b[0m\u001b[32m    CAFs MSC iCAF-like s1     \u001b[0m\u001b[32m \u001b[0m│\u001b[38;5;128m \u001b[0m\u001b[38;5;128m         2         \u001b[0m\u001b[38;5;128m \u001b[0m│\n",
              "│\u001b[38;5;33m \u001b[0m\u001b[38;5;33m                            \u001b[0m\u001b[38;5;33m \u001b[0m│\u001b[32m \u001b[0m\u001b[32m    CAFs MSC iCAF-like s2     \u001b[0m\u001b[32m \u001b[0m│\u001b[38;5;128m \u001b[0m\u001b[38;5;128m         3         \u001b[0m\u001b[38;5;128m \u001b[0m│\n",
              "│\u001b[38;5;33m \u001b[0m\u001b[38;5;33m                            \u001b[0m\u001b[38;5;33m \u001b[0m│\u001b[32m \u001b[0m\u001b[32m    CAFs Transitioning s3     \u001b[0m\u001b[32m \u001b[0m│\u001b[38;5;128m \u001b[0m\u001b[38;5;128m         4         \u001b[0m\u001b[38;5;128m \u001b[0m│\n",
              "│\u001b[38;5;33m \u001b[0m\u001b[38;5;33m                            \u001b[0m\u001b[38;5;33m \u001b[0m│\u001b[32m \u001b[0m\u001b[32m      CAFs myCAF like s4      \u001b[0m\u001b[32m \u001b[0m│\u001b[38;5;128m \u001b[0m\u001b[38;5;128m         5         \u001b[0m\u001b[38;5;128m \u001b[0m│\n",
              "│\u001b[38;5;33m \u001b[0m\u001b[38;5;33m                            \u001b[0m\u001b[38;5;33m \u001b[0m│\u001b[32m \u001b[0m\u001b[32m      CAFs myCAF like s5      \u001b[0m\u001b[32m \u001b[0m│\u001b[38;5;128m \u001b[0m\u001b[38;5;128m         6         \u001b[0m\u001b[38;5;128m \u001b[0m│\n",
              "│\u001b[38;5;33m \u001b[0m\u001b[38;5;33m                            \u001b[0m\u001b[38;5;33m \u001b[0m│\u001b[32m \u001b[0m\u001b[32m       Cancer Basal SC        \u001b[0m\u001b[32m \u001b[0m│\u001b[38;5;128m \u001b[0m\u001b[38;5;128m         7         \u001b[0m\u001b[38;5;128m \u001b[0m│\n",
              "│\u001b[38;5;33m \u001b[0m\u001b[38;5;33m                            \u001b[0m\u001b[38;5;33m \u001b[0m│\u001b[32m \u001b[0m\u001b[32m        Cancer Cycling        \u001b[0m\u001b[32m \u001b[0m│\u001b[38;5;128m \u001b[0m\u001b[38;5;128m         8         \u001b[0m\u001b[38;5;128m \u001b[0m│\n",
              "│\u001b[38;5;33m \u001b[0m\u001b[38;5;33m                            \u001b[0m\u001b[38;5;33m \u001b[0m│\u001b[32m \u001b[0m\u001b[32m        Cancer Her2 SC        \u001b[0m\u001b[32m \u001b[0m│\u001b[38;5;128m \u001b[0m\u001b[38;5;128m         9         \u001b[0m\u001b[38;5;128m \u001b[0m│\n",
              "│\u001b[38;5;33m \u001b[0m\u001b[38;5;33m                            \u001b[0m\u001b[38;5;33m \u001b[0m│\u001b[32m \u001b[0m\u001b[32m        Cancer LumB SC        \u001b[0m\u001b[32m \u001b[0m│\u001b[38;5;128m \u001b[0m\u001b[38;5;128m        10         \u001b[0m\u001b[38;5;128m \u001b[0m│\n",
              "│\u001b[38;5;33m \u001b[0m\u001b[38;5;33m                            \u001b[0m\u001b[38;5;33m \u001b[0m│\u001b[32m \u001b[0m\u001b[32m       Cycling_Myeloid        \u001b[0m\u001b[32m \u001b[0m│\u001b[38;5;128m \u001b[0m\u001b[38;5;128m        11         \u001b[0m\u001b[38;5;128m \u001b[0m│\n",
              "│\u001b[38;5;33m \u001b[0m\u001b[38;5;33m                            \u001b[0m\u001b[38;5;33m \u001b[0m│\u001b[32m \u001b[0m\u001b[32m      Endothelial ACKR1       \u001b[0m\u001b[32m \u001b[0m│\u001b[38;5;128m \u001b[0m\u001b[38;5;128m        12         \u001b[0m\u001b[38;5;128m \u001b[0m│\n",
              "│\u001b[38;5;33m \u001b[0m\u001b[38;5;33m                            \u001b[0m\u001b[38;5;33m \u001b[0m│\u001b[32m \u001b[0m\u001b[32m      Endothelial CXCL12      \u001b[0m\u001b[32m \u001b[0m│\u001b[38;5;128m \u001b[0m\u001b[38;5;128m        13         \u001b[0m\u001b[38;5;128m \u001b[0m│\n",
              "│\u001b[38;5;33m \u001b[0m\u001b[38;5;33m                            \u001b[0m\u001b[38;5;33m \u001b[0m│\u001b[32m \u001b[0m\u001b[32m Endothelial Lymphatic LYVE1  \u001b[0m\u001b[32m \u001b[0m│\u001b[38;5;128m \u001b[0m\u001b[38;5;128m        14         \u001b[0m\u001b[38;5;128m \u001b[0m│\n",
              "│\u001b[38;5;33m \u001b[0m\u001b[38;5;33m                            \u001b[0m\u001b[38;5;33m \u001b[0m│\u001b[32m \u001b[0m\u001b[32m       Endothelial RGS5       \u001b[0m\u001b[32m \u001b[0m│\u001b[38;5;128m \u001b[0m\u001b[38;5;128m        15         \u001b[0m\u001b[38;5;128m \u001b[0m│\n",
              "│\u001b[38;5;33m \u001b[0m\u001b[38;5;33m                            \u001b[0m\u001b[38;5;33m \u001b[0m│\u001b[32m \u001b[0m\u001b[32m     Luminal Progenitors      \u001b[0m\u001b[32m \u001b[0m│\u001b[38;5;128m \u001b[0m\u001b[38;5;128m        16         \u001b[0m\u001b[38;5;128m \u001b[0m│\n",
              "│\u001b[38;5;33m \u001b[0m\u001b[38;5;33m                            \u001b[0m\u001b[38;5;33m \u001b[0m│\u001b[32m \u001b[0m\u001b[32m        Mature Luminal        \u001b[0m\u001b[32m \u001b[0m│\u001b[38;5;128m \u001b[0m\u001b[38;5;128m        17         \u001b[0m\u001b[38;5;128m \u001b[0m│\n",
              "│\u001b[38;5;33m \u001b[0m\u001b[38;5;33m                            \u001b[0m\u001b[38;5;33m \u001b[0m│\u001b[32m \u001b[0m\u001b[32m     Myeloid_c0_DC_LAMP3      \u001b[0m\u001b[32m \u001b[0m│\u001b[38;5;128m \u001b[0m\u001b[38;5;128m        18         \u001b[0m\u001b[38;5;128m \u001b[0m│\n",
              "│\u001b[38;5;33m \u001b[0m\u001b[38;5;33m                            \u001b[0m\u001b[38;5;33m \u001b[0m│\u001b[32m \u001b[0m\u001b[32mMyeloid_c10_Macrophage_1_EGR1 \u001b[0m\u001b[32m \u001b[0m│\u001b[38;5;128m \u001b[0m\u001b[38;5;128m        19         \u001b[0m\u001b[38;5;128m \u001b[0m│\n",
              "│\u001b[38;5;33m \u001b[0m\u001b[38;5;33m                            \u001b[0m\u001b[38;5;33m \u001b[0m│\u001b[32m \u001b[0m\u001b[32m    Myeloid_c11_cDC2_CD1C     \u001b[0m\u001b[32m \u001b[0m│\u001b[38;5;128m \u001b[0m\u001b[38;5;128m        20         \u001b[0m\u001b[38;5;128m \u001b[0m│\n",
              "│\u001b[38;5;33m \u001b[0m\u001b[38;5;33m                            \u001b[0m\u001b[38;5;33m \u001b[0m│\u001b[32m \u001b[0m\u001b[32m Myeloid_c12_Monocyte_1_IL1B  \u001b[0m\u001b[32m \u001b[0m│\u001b[38;5;128m \u001b[0m\u001b[38;5;128m        21         \u001b[0m\u001b[38;5;128m \u001b[0m│\n",
              "│\u001b[38;5;33m \u001b[0m\u001b[38;5;33m                            \u001b[0m\u001b[38;5;33m \u001b[0m│\u001b[32m \u001b[0m\u001b[32m    Myeloid_c1_LAM1_FABP5     \u001b[0m\u001b[32m \u001b[0m│\u001b[38;5;128m \u001b[0m\u001b[38;5;128m        22         \u001b[0m\u001b[38;5;128m \u001b[0m│\n",
              "│\u001b[38;5;33m \u001b[0m\u001b[38;5;33m                            \u001b[0m\u001b[38;5;33m \u001b[0m│\u001b[32m \u001b[0m\u001b[32m     Myeloid_c2_LAM2_APOE     \u001b[0m\u001b[32m \u001b[0m│\u001b[38;5;128m \u001b[0m\u001b[38;5;128m        23         \u001b[0m\u001b[38;5;128m \u001b[0m│\n",
              "│\u001b[38;5;33m \u001b[0m\u001b[38;5;33m                            \u001b[0m\u001b[38;5;33m \u001b[0m│\u001b[32m \u001b[0m\u001b[32m    Myeloid_c3_cDC1_CLEC9A    \u001b[0m\u001b[32m \u001b[0m│\u001b[38;5;128m \u001b[0m\u001b[38;5;128m        24         \u001b[0m\u001b[38;5;128m \u001b[0m│\n",
              "│\u001b[38;5;33m \u001b[0m\u001b[38;5;33m                            \u001b[0m\u001b[38;5;33m \u001b[0m│\u001b[32m \u001b[0m\u001b[32m   Myeloid_c4_DCs_pDC_IRF7    \u001b[0m\u001b[32m \u001b[0m│\u001b[38;5;128m \u001b[0m\u001b[38;5;128m        25         \u001b[0m\u001b[38;5;128m \u001b[0m│\n",
              "│\u001b[38;5;33m \u001b[0m\u001b[38;5;33m                            \u001b[0m\u001b[38;5;33m \u001b[0m│\u001b[32m \u001b[0m\u001b[32m Myeloid_c7_Monocyte_3_FCGR3A \u001b[0m\u001b[32m \u001b[0m│\u001b[38;5;128m \u001b[0m\u001b[38;5;128m        26         \u001b[0m\u001b[38;5;128m \u001b[0m│\n",
              "│\u001b[38;5;33m \u001b[0m\u001b[38;5;33m                            \u001b[0m\u001b[38;5;33m \u001b[0m│\u001b[32m \u001b[0m\u001b[32m Myeloid_c8_Monocyte_2_S100A9 \u001b[0m\u001b[32m \u001b[0m│\u001b[38;5;128m \u001b[0m\u001b[38;5;128m        27         \u001b[0m\u001b[38;5;128m \u001b[0m│\n",
              "│\u001b[38;5;33m \u001b[0m\u001b[38;5;33m                            \u001b[0m\u001b[38;5;33m \u001b[0m│\u001b[32m \u001b[0m\u001b[32mMyeloid_c9_Macrophage_2_CXCL10\u001b[0m\u001b[32m \u001b[0m│\u001b[38;5;128m \u001b[0m\u001b[38;5;128m        28         \u001b[0m\u001b[38;5;128m \u001b[0m│\n",
              "│\u001b[38;5;33m \u001b[0m\u001b[38;5;33m                            \u001b[0m\u001b[38;5;33m \u001b[0m│\u001b[32m \u001b[0m\u001b[32m        Myoepithelial         \u001b[0m\u001b[32m \u001b[0m│\u001b[38;5;128m \u001b[0m\u001b[38;5;128m        29         \u001b[0m\u001b[38;5;128m \u001b[0m│\n",
              "│\u001b[38;5;33m \u001b[0m\u001b[38;5;33m                            \u001b[0m\u001b[38;5;33m \u001b[0m│\u001b[32m \u001b[0m\u001b[32m    PVL Differentiated s3     \u001b[0m\u001b[32m \u001b[0m│\u001b[38;5;128m \u001b[0m\u001b[38;5;128m        30         \u001b[0m\u001b[38;5;128m \u001b[0m│\n",
              "│\u001b[38;5;33m \u001b[0m\u001b[38;5;33m                            \u001b[0m\u001b[38;5;33m \u001b[0m│\u001b[32m \u001b[0m\u001b[32m       PVL Immature s1        \u001b[0m\u001b[32m \u001b[0m│\u001b[38;5;128m \u001b[0m\u001b[38;5;128m        31         \u001b[0m\u001b[38;5;128m \u001b[0m│\n",
              "│\u001b[38;5;33m \u001b[0m\u001b[38;5;33m                            \u001b[0m\u001b[38;5;33m \u001b[0m│\u001b[32m \u001b[0m\u001b[32m       PVL_Immature s2        \u001b[0m\u001b[32m \u001b[0m│\u001b[38;5;128m \u001b[0m\u001b[38;5;128m        32         \u001b[0m\u001b[38;5;128m \u001b[0m│\n",
              "│\u001b[38;5;33m \u001b[0m\u001b[38;5;33m                            \u001b[0m\u001b[38;5;33m \u001b[0m│\u001b[32m \u001b[0m\u001b[32m         Plasmablasts         \u001b[0m\u001b[32m \u001b[0m│\u001b[38;5;128m \u001b[0m\u001b[38;5;128m        33         \u001b[0m\u001b[38;5;128m \u001b[0m│\n",
              "│\u001b[38;5;33m \u001b[0m\u001b[38;5;33m                            \u001b[0m\u001b[38;5;33m \u001b[0m│\u001b[32m \u001b[0m\u001b[32m     T_cells_c0_CD4+_CCR7     \u001b[0m\u001b[32m \u001b[0m│\u001b[38;5;128m \u001b[0m\u001b[38;5;128m        34         \u001b[0m\u001b[38;5;128m \u001b[0m│\n",
              "│\u001b[38;5;33m \u001b[0m\u001b[38;5;33m                            \u001b[0m\u001b[38;5;33m \u001b[0m│\u001b[32m \u001b[0m\u001b[32m T_cells_c10_NKT_cells_FCGR3A \u001b[0m\u001b[32m \u001b[0m│\u001b[38;5;128m \u001b[0m\u001b[38;5;128m        35         \u001b[0m\u001b[38;5;128m \u001b[0m│\n",
              "│\u001b[38;5;33m \u001b[0m\u001b[38;5;33m                            \u001b[0m\u001b[38;5;33m \u001b[0m│\u001b[32m \u001b[0m\u001b[32m      T_cells_c11_MKI67       \u001b[0m\u001b[32m \u001b[0m│\u001b[38;5;128m \u001b[0m\u001b[38;5;128m        36         \u001b[0m\u001b[38;5;128m \u001b[0m│\n",
              "│\u001b[38;5;33m \u001b[0m\u001b[38;5;33m                            \u001b[0m\u001b[38;5;33m \u001b[0m│\u001b[32m \u001b[0m\u001b[32m     T_cells_c1_CD4+_IL7R     \u001b[0m\u001b[32m \u001b[0m│\u001b[38;5;128m \u001b[0m\u001b[38;5;128m        37         \u001b[0m\u001b[38;5;128m \u001b[0m│\n",
              "│\u001b[38;5;33m \u001b[0m\u001b[38;5;33m                            \u001b[0m\u001b[38;5;33m \u001b[0m│\u001b[32m \u001b[0m\u001b[32m T_cells_c2_CD4+_T-regs_FOXP3 \u001b[0m\u001b[32m \u001b[0m│\u001b[38;5;128m \u001b[0m\u001b[38;5;128m        38         \u001b[0m\u001b[38;5;128m \u001b[0m│\n",
              "│\u001b[38;5;33m \u001b[0m\u001b[38;5;33m                            \u001b[0m\u001b[38;5;33m \u001b[0m│\u001b[32m \u001b[0m\u001b[32m  T_cells_c3_CD4+_Tfh_CXCL13  \u001b[0m\u001b[32m \u001b[0m│\u001b[38;5;128m \u001b[0m\u001b[38;5;128m        39         \u001b[0m\u001b[38;5;128m \u001b[0m│\n",
              "│\u001b[38;5;33m \u001b[0m\u001b[38;5;33m                            \u001b[0m\u001b[38;5;33m \u001b[0m│\u001b[32m \u001b[0m\u001b[32m    T_cells_c4_CD8+_ZFP36     \u001b[0m\u001b[32m \u001b[0m│\u001b[38;5;128m \u001b[0m\u001b[38;5;128m        40         \u001b[0m\u001b[38;5;128m \u001b[0m│\n",
              "│\u001b[38;5;33m \u001b[0m\u001b[38;5;33m                            \u001b[0m\u001b[38;5;33m \u001b[0m│\u001b[32m \u001b[0m\u001b[32m     T_cells_c5_CD8+_GZMK     \u001b[0m\u001b[32m \u001b[0m│\u001b[38;5;128m \u001b[0m\u001b[38;5;128m        41         \u001b[0m\u001b[38;5;128m \u001b[0m│\n",
              "│\u001b[38;5;33m \u001b[0m\u001b[38;5;33m                            \u001b[0m\u001b[38;5;33m \u001b[0m│\u001b[32m \u001b[0m\u001b[32m       T_cells_c6_IFIT1       \u001b[0m\u001b[32m \u001b[0m│\u001b[38;5;128m \u001b[0m\u001b[38;5;128m        42         \u001b[0m\u001b[38;5;128m \u001b[0m│\n",
              "│\u001b[38;5;33m \u001b[0m\u001b[38;5;33m                            \u001b[0m\u001b[38;5;33m \u001b[0m│\u001b[32m \u001b[0m\u001b[32m     T_cells_c7_CD8+_IFNG     \u001b[0m\u001b[32m \u001b[0m│\u001b[38;5;128m \u001b[0m\u001b[38;5;128m        43         \u001b[0m\u001b[38;5;128m \u001b[0m│\n",
              "│\u001b[38;5;33m \u001b[0m\u001b[38;5;33m                            \u001b[0m\u001b[38;5;33m \u001b[0m│\u001b[32m \u001b[0m\u001b[32m     T_cells_c8_CD8+_LAG3     \u001b[0m\u001b[32m \u001b[0m│\u001b[38;5;128m \u001b[0m\u001b[38;5;128m        44         \u001b[0m\u001b[38;5;128m \u001b[0m│\n",
              "│\u001b[38;5;33m \u001b[0m\u001b[38;5;33m                            \u001b[0m\u001b[38;5;33m \u001b[0m│\u001b[32m \u001b[0m\u001b[32m   T_cells_c9_NK_cells_AREG   \u001b[0m\u001b[32m \u001b[0m│\u001b[38;5;128m \u001b[0m\u001b[38;5;128m        45         \u001b[0m\u001b[38;5;128m \u001b[0m│\n",
              "└──────────────────────────────┴────────────────────────────────┴─────────────────────┘\n"
            ],
            "text/html": [
              "<pre style=\"white-space:pre;overflow-x:auto;line-height:normal;font-family:Menlo,'DejaVu Sans Mono',consolas,'Courier New',monospace\"><span style=\"font-style: italic\">                                 labels State Registry                                 </span>\n",
              "┏━━━━━━━━━━━━━━━━━━━━━━━━━━━━━━┳━━━━━━━━━━━━━━━━━━━━━━━━━━━━━━━━┳━━━━━━━━━━━━━━━━━━━━━┓\n",
              "┃<span style=\"font-weight: bold\">       Source Location        </span>┃<span style=\"font-weight: bold\">           Categories           </span>┃<span style=\"font-weight: bold\"> scvi-tools Encoding </span>┃\n",
              "┡━━━━━━━━━━━━━━━━━━━━━━━━━━━━━━╇━━━━━━━━━━━━━━━━━━━━━━━━━━━━━━━━╇━━━━━━━━━━━━━━━━━━━━━┩\n",
              "│<span style=\"color: #0087ff; text-decoration-color: #0087ff\"> adata.obs['celltype_subset'] </span>│<span style=\"color: #008000; text-decoration-color: #008000\">         B cells Memory         </span>│<span style=\"color: #af00d7; text-decoration-color: #af00d7\">          0          </span>│\n",
              "│<span style=\"color: #0087ff; text-decoration-color: #0087ff\">                              </span>│<span style=\"color: #008000; text-decoration-color: #008000\">         B cells Naive          </span>│<span style=\"color: #af00d7; text-decoration-color: #af00d7\">          1          </span>│\n",
              "│<span style=\"color: #0087ff; text-decoration-color: #0087ff\">                              </span>│<span style=\"color: #008000; text-decoration-color: #008000\">     CAFs MSC iCAF-like s1      </span>│<span style=\"color: #af00d7; text-decoration-color: #af00d7\">          2          </span>│\n",
              "│<span style=\"color: #0087ff; text-decoration-color: #0087ff\">                              </span>│<span style=\"color: #008000; text-decoration-color: #008000\">     CAFs MSC iCAF-like s2      </span>│<span style=\"color: #af00d7; text-decoration-color: #af00d7\">          3          </span>│\n",
              "│<span style=\"color: #0087ff; text-decoration-color: #0087ff\">                              </span>│<span style=\"color: #008000; text-decoration-color: #008000\">     CAFs Transitioning s3      </span>│<span style=\"color: #af00d7; text-decoration-color: #af00d7\">          4          </span>│\n",
              "│<span style=\"color: #0087ff; text-decoration-color: #0087ff\">                              </span>│<span style=\"color: #008000; text-decoration-color: #008000\">       CAFs myCAF like s4       </span>│<span style=\"color: #af00d7; text-decoration-color: #af00d7\">          5          </span>│\n",
              "│<span style=\"color: #0087ff; text-decoration-color: #0087ff\">                              </span>│<span style=\"color: #008000; text-decoration-color: #008000\">       CAFs myCAF like s5       </span>│<span style=\"color: #af00d7; text-decoration-color: #af00d7\">          6          </span>│\n",
              "│<span style=\"color: #0087ff; text-decoration-color: #0087ff\">                              </span>│<span style=\"color: #008000; text-decoration-color: #008000\">        Cancer Basal SC         </span>│<span style=\"color: #af00d7; text-decoration-color: #af00d7\">          7          </span>│\n",
              "│<span style=\"color: #0087ff; text-decoration-color: #0087ff\">                              </span>│<span style=\"color: #008000; text-decoration-color: #008000\">         Cancer Cycling         </span>│<span style=\"color: #af00d7; text-decoration-color: #af00d7\">          8          </span>│\n",
              "│<span style=\"color: #0087ff; text-decoration-color: #0087ff\">                              </span>│<span style=\"color: #008000; text-decoration-color: #008000\">         Cancer Her2 SC         </span>│<span style=\"color: #af00d7; text-decoration-color: #af00d7\">          9          </span>│\n",
              "│<span style=\"color: #0087ff; text-decoration-color: #0087ff\">                              </span>│<span style=\"color: #008000; text-decoration-color: #008000\">         Cancer LumB SC         </span>│<span style=\"color: #af00d7; text-decoration-color: #af00d7\">         10          </span>│\n",
              "│<span style=\"color: #0087ff; text-decoration-color: #0087ff\">                              </span>│<span style=\"color: #008000; text-decoration-color: #008000\">        Cycling_Myeloid         </span>│<span style=\"color: #af00d7; text-decoration-color: #af00d7\">         11          </span>│\n",
              "│<span style=\"color: #0087ff; text-decoration-color: #0087ff\">                              </span>│<span style=\"color: #008000; text-decoration-color: #008000\">       Endothelial ACKR1        </span>│<span style=\"color: #af00d7; text-decoration-color: #af00d7\">         12          </span>│\n",
              "│<span style=\"color: #0087ff; text-decoration-color: #0087ff\">                              </span>│<span style=\"color: #008000; text-decoration-color: #008000\">       Endothelial CXCL12       </span>│<span style=\"color: #af00d7; text-decoration-color: #af00d7\">         13          </span>│\n",
              "│<span style=\"color: #0087ff; text-decoration-color: #0087ff\">                              </span>│<span style=\"color: #008000; text-decoration-color: #008000\">  Endothelial Lymphatic LYVE1   </span>│<span style=\"color: #af00d7; text-decoration-color: #af00d7\">         14          </span>│\n",
              "│<span style=\"color: #0087ff; text-decoration-color: #0087ff\">                              </span>│<span style=\"color: #008000; text-decoration-color: #008000\">        Endothelial RGS5        </span>│<span style=\"color: #af00d7; text-decoration-color: #af00d7\">         15          </span>│\n",
              "│<span style=\"color: #0087ff; text-decoration-color: #0087ff\">                              </span>│<span style=\"color: #008000; text-decoration-color: #008000\">      Luminal Progenitors       </span>│<span style=\"color: #af00d7; text-decoration-color: #af00d7\">         16          </span>│\n",
              "│<span style=\"color: #0087ff; text-decoration-color: #0087ff\">                              </span>│<span style=\"color: #008000; text-decoration-color: #008000\">         Mature Luminal         </span>│<span style=\"color: #af00d7; text-decoration-color: #af00d7\">         17          </span>│\n",
              "│<span style=\"color: #0087ff; text-decoration-color: #0087ff\">                              </span>│<span style=\"color: #008000; text-decoration-color: #008000\">      Myeloid_c0_DC_LAMP3       </span>│<span style=\"color: #af00d7; text-decoration-color: #af00d7\">         18          </span>│\n",
              "│<span style=\"color: #0087ff; text-decoration-color: #0087ff\">                              </span>│<span style=\"color: #008000; text-decoration-color: #008000\"> Myeloid_c10_Macrophage_1_EGR1  </span>│<span style=\"color: #af00d7; text-decoration-color: #af00d7\">         19          </span>│\n",
              "│<span style=\"color: #0087ff; text-decoration-color: #0087ff\">                              </span>│<span style=\"color: #008000; text-decoration-color: #008000\">     Myeloid_c11_cDC2_CD1C      </span>│<span style=\"color: #af00d7; text-decoration-color: #af00d7\">         20          </span>│\n",
              "│<span style=\"color: #0087ff; text-decoration-color: #0087ff\">                              </span>│<span style=\"color: #008000; text-decoration-color: #008000\">  Myeloid_c12_Monocyte_1_IL1B   </span>│<span style=\"color: #af00d7; text-decoration-color: #af00d7\">         21          </span>│\n",
              "│<span style=\"color: #0087ff; text-decoration-color: #0087ff\">                              </span>│<span style=\"color: #008000; text-decoration-color: #008000\">     Myeloid_c1_LAM1_FABP5      </span>│<span style=\"color: #af00d7; text-decoration-color: #af00d7\">         22          </span>│\n",
              "│<span style=\"color: #0087ff; text-decoration-color: #0087ff\">                              </span>│<span style=\"color: #008000; text-decoration-color: #008000\">      Myeloid_c2_LAM2_APOE      </span>│<span style=\"color: #af00d7; text-decoration-color: #af00d7\">         23          </span>│\n",
              "│<span style=\"color: #0087ff; text-decoration-color: #0087ff\">                              </span>│<span style=\"color: #008000; text-decoration-color: #008000\">     Myeloid_c3_cDC1_CLEC9A     </span>│<span style=\"color: #af00d7; text-decoration-color: #af00d7\">         24          </span>│\n",
              "│<span style=\"color: #0087ff; text-decoration-color: #0087ff\">                              </span>│<span style=\"color: #008000; text-decoration-color: #008000\">    Myeloid_c4_DCs_pDC_IRF7     </span>│<span style=\"color: #af00d7; text-decoration-color: #af00d7\">         25          </span>│\n",
              "│<span style=\"color: #0087ff; text-decoration-color: #0087ff\">                              </span>│<span style=\"color: #008000; text-decoration-color: #008000\">  Myeloid_c7_Monocyte_3_FCGR3A  </span>│<span style=\"color: #af00d7; text-decoration-color: #af00d7\">         26          </span>│\n",
              "│<span style=\"color: #0087ff; text-decoration-color: #0087ff\">                              </span>│<span style=\"color: #008000; text-decoration-color: #008000\">  Myeloid_c8_Monocyte_2_S100A9  </span>│<span style=\"color: #af00d7; text-decoration-color: #af00d7\">         27          </span>│\n",
              "│<span style=\"color: #0087ff; text-decoration-color: #0087ff\">                              </span>│<span style=\"color: #008000; text-decoration-color: #008000\"> Myeloid_c9_Macrophage_2_CXCL10 </span>│<span style=\"color: #af00d7; text-decoration-color: #af00d7\">         28          </span>│\n",
              "│<span style=\"color: #0087ff; text-decoration-color: #0087ff\">                              </span>│<span style=\"color: #008000; text-decoration-color: #008000\">         Myoepithelial          </span>│<span style=\"color: #af00d7; text-decoration-color: #af00d7\">         29          </span>│\n",
              "│<span style=\"color: #0087ff; text-decoration-color: #0087ff\">                              </span>│<span style=\"color: #008000; text-decoration-color: #008000\">     PVL Differentiated s3      </span>│<span style=\"color: #af00d7; text-decoration-color: #af00d7\">         30          </span>│\n",
              "│<span style=\"color: #0087ff; text-decoration-color: #0087ff\">                              </span>│<span style=\"color: #008000; text-decoration-color: #008000\">        PVL Immature s1         </span>│<span style=\"color: #af00d7; text-decoration-color: #af00d7\">         31          </span>│\n",
              "│<span style=\"color: #0087ff; text-decoration-color: #0087ff\">                              </span>│<span style=\"color: #008000; text-decoration-color: #008000\">        PVL_Immature s2         </span>│<span style=\"color: #af00d7; text-decoration-color: #af00d7\">         32          </span>│\n",
              "│<span style=\"color: #0087ff; text-decoration-color: #0087ff\">                              </span>│<span style=\"color: #008000; text-decoration-color: #008000\">          Plasmablasts          </span>│<span style=\"color: #af00d7; text-decoration-color: #af00d7\">         33          </span>│\n",
              "│<span style=\"color: #0087ff; text-decoration-color: #0087ff\">                              </span>│<span style=\"color: #008000; text-decoration-color: #008000\">      T_cells_c0_CD4+_CCR7      </span>│<span style=\"color: #af00d7; text-decoration-color: #af00d7\">         34          </span>│\n",
              "│<span style=\"color: #0087ff; text-decoration-color: #0087ff\">                              </span>│<span style=\"color: #008000; text-decoration-color: #008000\">  T_cells_c10_NKT_cells_FCGR3A  </span>│<span style=\"color: #af00d7; text-decoration-color: #af00d7\">         35          </span>│\n",
              "│<span style=\"color: #0087ff; text-decoration-color: #0087ff\">                              </span>│<span style=\"color: #008000; text-decoration-color: #008000\">       T_cells_c11_MKI67        </span>│<span style=\"color: #af00d7; text-decoration-color: #af00d7\">         36          </span>│\n",
              "│<span style=\"color: #0087ff; text-decoration-color: #0087ff\">                              </span>│<span style=\"color: #008000; text-decoration-color: #008000\">      T_cells_c1_CD4+_IL7R      </span>│<span style=\"color: #af00d7; text-decoration-color: #af00d7\">         37          </span>│\n",
              "│<span style=\"color: #0087ff; text-decoration-color: #0087ff\">                              </span>│<span style=\"color: #008000; text-decoration-color: #008000\">  T_cells_c2_CD4+_T-regs_FOXP3  </span>│<span style=\"color: #af00d7; text-decoration-color: #af00d7\">         38          </span>│\n",
              "│<span style=\"color: #0087ff; text-decoration-color: #0087ff\">                              </span>│<span style=\"color: #008000; text-decoration-color: #008000\">   T_cells_c3_CD4+_Tfh_CXCL13   </span>│<span style=\"color: #af00d7; text-decoration-color: #af00d7\">         39          </span>│\n",
              "│<span style=\"color: #0087ff; text-decoration-color: #0087ff\">                              </span>│<span style=\"color: #008000; text-decoration-color: #008000\">     T_cells_c4_CD8+_ZFP36      </span>│<span style=\"color: #af00d7; text-decoration-color: #af00d7\">         40          </span>│\n",
              "│<span style=\"color: #0087ff; text-decoration-color: #0087ff\">                              </span>│<span style=\"color: #008000; text-decoration-color: #008000\">      T_cells_c5_CD8+_GZMK      </span>│<span style=\"color: #af00d7; text-decoration-color: #af00d7\">         41          </span>│\n",
              "│<span style=\"color: #0087ff; text-decoration-color: #0087ff\">                              </span>│<span style=\"color: #008000; text-decoration-color: #008000\">        T_cells_c6_IFIT1        </span>│<span style=\"color: #af00d7; text-decoration-color: #af00d7\">         42          </span>│\n",
              "│<span style=\"color: #0087ff; text-decoration-color: #0087ff\">                              </span>│<span style=\"color: #008000; text-decoration-color: #008000\">      T_cells_c7_CD8+_IFNG      </span>│<span style=\"color: #af00d7; text-decoration-color: #af00d7\">         43          </span>│\n",
              "│<span style=\"color: #0087ff; text-decoration-color: #0087ff\">                              </span>│<span style=\"color: #008000; text-decoration-color: #008000\">      T_cells_c8_CD8+_LAG3      </span>│<span style=\"color: #af00d7; text-decoration-color: #af00d7\">         44          </span>│\n",
              "│<span style=\"color: #0087ff; text-decoration-color: #0087ff\">                              </span>│<span style=\"color: #008000; text-decoration-color: #008000\">    T_cells_c9_NK_cells_AREG    </span>│<span style=\"color: #af00d7; text-decoration-color: #af00d7\">         45          </span>│\n",
              "└──────────────────────────────┴────────────────────────────────┴─────────────────────┘\n",
              "</pre>\n"
            ]
          },
          "metadata": {}
        }
      ],
      "source": [
        "sc_model = CondSCVI(sc_adata, weight_obs=False)\n",
        "sc_model.view_anndata_setup()"
      ]
    },
    {
      "cell_type": "code",
      "execution_count": null,
      "metadata": {
        "colab": {
          "base_uri": "https://localhost:8080/"
        },
        "id": "vDHmCjfugn6-",
        "outputId": "ed208433-08a2-49ba-becd-817f868f22aa"
      },
      "outputs": [
        {
          "output_type": "stream",
          "name": "stderr",
          "text": [
            "[2023-03-16 23:37:41] GPU available: True (cuda), used: True\n",
            "[2023-03-16 23:37:41] TPU available: False, using: 0 TPU cores\n",
            "[2023-03-16 23:37:41] IPU available: False, using: 0 IPUs\n",
            "[2023-03-16 23:37:41] HPU available: False, using: 0 HPUs\n",
            "[2023-03-16 23:37:41] LOCAL_RANK: 0 - CUDA_VISIBLE_DEVICES: [0]\n"
          ]
        },
        {
          "output_type": "stream",
          "name": "stdout",
          "text": [
            "Epoch 300/300: 100%|██████████| 300/300 [03:47<00:00,  1.12it/s, loss=492, v_num=1]"
          ]
        },
        {
          "output_type": "stream",
          "name": "stderr",
          "text": [
            "[2023-03-16 23:41:29] `Trainer.fit` stopped: `max_epochs=300` reached.\n"
          ]
        },
        {
          "output_type": "stream",
          "name": "stdout",
          "text": [
            "\rEpoch 300/300: 100%|██████████| 300/300 [03:47<00:00,  1.32it/s, loss=492, v_num=1]\n"
          ]
        }
      ],
      "source": [
        "sc_model.train()"
      ]
    },
    {
      "cell_type": "code",
      "execution_count": null,
      "metadata": {
        "colab": {
          "base_uri": "https://localhost:8080/",
          "height": 279
        },
        "id": "iA1dBfZjkr6O",
        "outputId": "cd3b010d-4e76-4553-a3fd-f13cbe919188"
      },
      "outputs": [
        {
          "output_type": "display_data",
          "data": {
            "text/plain": [
              "<Figure size 432x288 with 1 Axes>"
            ],
            "image/png": "[encoded data removed]"
          },
          "metadata": {
            "needs_background": "light"
          }
        }
      ],
      "source": [
        "sc_model.history[\"elbo_train\"].iloc[5:].plot()\n",
        "plt.show()"
      ]
    },
    {
      "cell_type": "markdown",
      "metadata": {
        "id": "zVWz-Xa3bpGC"
      },
      "source": [
        "Note that model converges quickly. Over experimentation with the model drastically reducing the number of epochs leads to decreased performance and performance deteriorates as max_epochs\\<200."
      ]
    },
    {
      "cell_type": "markdown",
      "metadata": {
        "id": "D-4jokXbjyAC"
      },
      "source": [
        "## Deconvolution with stLVM"
      ]
    },
    {
      "cell_type": "markdown",
      "metadata": {
        "id": "h3BIQr2dbv9g"
      },
      "source": [
        "As a second step, we train our deconvolution model: spatial transcriptomics Latent Variable Model (stLVM).\n",
        "We setup the DestVI model using the `counts` layer in `st_adata` that contains the raw counts. We then pass the trained `CondSCVI` model and generate a new model based on `st_adata` and `sc_model` using `DestVI.from_rna_model`.\n",
        "\n",
        "The decoder network architecture will be generated from `sc_model`. Two neural networks are initiated for cell type proportions and gamma value amortization. Training will take around 5 minutes in a Colab GPU session.\n",
        "\n",
        "Potential adaptations of `DestVI.from_rna_model` are:\n",
        "\n",
        "1. increasing `vamp_prior_p` leads to less gradual changes in gamma values\n",
        "1. more discretized values. Increasing `l1_sparsity` will lead to sparser results for cell type proportions.\n",
        "1. Although we recommend using similar sequencing technology for both assays, consider changing `beta_weighting_prior` otherwise.\n",
        "\n",
        "Technical Note: During inference, we adopt a variational mixture of posterior as a prior to enforce gamma values in stLVM match scLVM (see details in original publication). This empirical prior is based on cell type specific subclustering (using k-means to find `vamp_prior_p` clusters) of the posterior distribution in latent space for every cell."
      ]
    },
    {
      "cell_type": "code",
      "execution_count": null,
      "metadata": {
        "id": "R5vrOp31grfw"
      },
      "outputs": [],
      "source": [
        "DestVI.setup_anndata(st_adata, layer=\"counts\")"
      ]
    },
    {
      "cell_type": "code",
      "execution_count": null,
      "metadata": {
        "colab": {
          "base_uri": "https://localhost:8080/",
          "height": 298
        },
        "id": "dhmHKce_SWLP",
        "outputId": "70851628-497b-4089-94b5-34c1c86d94b3"
      },
      "outputs": [
        {
          "output_type": "display_data",
          "data": {
            "text/plain": [
              "Anndata setup with scvi-tools version \u001b[1;36m0.20\u001b[0m.\u001b[1;36m2\u001b[0m.\n"
            ],
            "text/html": [
              "<pre style=\"white-space:pre;overflow-x:auto;line-height:normal;font-family:Menlo,'DejaVu Sans Mono',consolas,'Courier New',monospace\">Anndata setup with scvi-tools version <span style=\"color: #008080; text-decoration-color: #008080; font-weight: bold\">0.20</span>.<span style=\"color: #008080; text-decoration-color: #008080; font-weight: bold\">2</span>.\n",
              "</pre>\n"
            ]
          },
          "metadata": {}
        },
        {
          "output_type": "display_data",
          "data": {
            "text/plain": [
              "\n"
            ],
            "text/html": [
              "<pre style=\"white-space:pre;overflow-x:auto;line-height:normal;font-family:Menlo,'DejaVu Sans Mono',consolas,'Courier New',monospace\">\n",
              "</pre>\n"
            ]
          },
          "metadata": {}
        },
        {
          "output_type": "display_data",
          "data": {
            "text/plain": [
              "Setup via `DestVI.setup_anndata` with arguments:\n"
            ],
            "text/html": [
              "<pre style=\"white-space:pre;overflow-x:auto;line-height:normal;font-family:Menlo,'DejaVu Sans Mono',consolas,'Courier New',monospace\">Setup via `DestVI.setup_anndata` with arguments:\n",
              "</pre>\n"
            ]
          },
          "metadata": {}
        },
        {
          "output_type": "display_data",
          "data": {
            "text/plain": [
              "\u001b[1m{\u001b[0m\u001b[32m'layer'\u001b[0m: \u001b[32m'counts'\u001b[0m\u001b[1m}\u001b[0m\n"
            ],
            "text/html": [
              "<pre style=\"white-space:pre;overflow-x:auto;line-height:normal;font-family:Menlo,'DejaVu Sans Mono',consolas,'Courier New',monospace\"><span style=\"font-weight: bold\">{</span><span style=\"color: #008000; text-decoration-color: #008000\">'layer'</span>: <span style=\"color: #008000; text-decoration-color: #008000\">'counts'</span><span style=\"font-weight: bold\">}</span>\n",
              "</pre>\n"
            ]
          },
          "metadata": {}
        },
        {
          "output_type": "display_data",
          "data": {
            "text/plain": [
              "\n"
            ],
            "text/html": [
              "<pre style=\"white-space:pre;overflow-x:auto;line-height:normal;font-family:Menlo,'DejaVu Sans Mono',consolas,'Courier New',monospace\">\n",
              "</pre>\n"
            ]
          },
          "metadata": {}
        },
        {
          "output_type": "display_data",
          "data": {
            "text/plain": [
              "\u001b[3m     Summary Statistics     \u001b[0m\n",
              "┏━━━━━━━━━━━━━━━━━━┳━━━━━━━┓\n",
              "┃\u001b[1m \u001b[0m\u001b[1mSummary Stat Key\u001b[0m\u001b[1m \u001b[0m┃\u001b[1m \u001b[0m\u001b[1mValue\u001b[0m\u001b[1m \u001b[0m┃\n",
              "┡━━━━━━━━━━━━━━━━━━╇━━━━━━━┩\n",
              "│\u001b[38;5;33m \u001b[0m\u001b[38;5;33m    n_cells     \u001b[0m\u001b[38;5;33m \u001b[0m│\u001b[38;5;128m \u001b[0m\u001b[38;5;128m2500 \u001b[0m\u001b[38;5;128m \u001b[0m│\n",
              "│\u001b[38;5;33m \u001b[0m\u001b[38;5;33m     n_vars     \u001b[0m\u001b[38;5;33m \u001b[0m│\u001b[38;5;128m \u001b[0m\u001b[38;5;128m1751 \u001b[0m\u001b[38;5;128m \u001b[0m│\n",
              "└──────────────────┴───────┘\n"
            ],
            "text/html": [
              "<pre style=\"white-space:pre;overflow-x:auto;line-height:normal;font-family:Menlo,'DejaVu Sans Mono',consolas,'Courier New',monospace\"><span style=\"font-style: italic\">     Summary Statistics     </span>\n",
              "┏━━━━━━━━━━━━━━━━━━┳━━━━━━━┓\n",
              "┃<span style=\"font-weight: bold\"> Summary Stat Key </span>┃<span style=\"font-weight: bold\"> Value </span>┃\n",
              "┡━━━━━━━━━━━━━━━━━━╇━━━━━━━┩\n",
              "│<span style=\"color: #0087ff; text-decoration-color: #0087ff\">     n_cells      </span>│<span style=\"color: #af00d7; text-decoration-color: #af00d7\"> 2500  </span>│\n",
              "│<span style=\"color: #0087ff; text-decoration-color: #0087ff\">      n_vars      </span>│<span style=\"color: #af00d7; text-decoration-color: #af00d7\"> 1751  </span>│\n",
              "└──────────────────┴───────┘\n",
              "</pre>\n"
            ]
          },
          "metadata": {}
        },
        {
          "output_type": "display_data",
          "data": {
            "text/plain": [
              "\u001b[3m              Data Registry              \u001b[0m\n",
              "┏━━━━━━━━━━━━━━┳━━━━━━━━━━━━━━━━━━━━━━━━┓\n",
              "┃\u001b[1m \u001b[0m\u001b[1mRegistry Key\u001b[0m\u001b[1m \u001b[0m┃\u001b[1m \u001b[0m\u001b[1m scvi-tools Location  \u001b[0m\u001b[1m \u001b[0m┃\n",
              "┡━━━━━━━━━━━━━━╇━━━━━━━━━━━━━━━━━━━━━━━━┩\n",
              "│\u001b[38;5;33m \u001b[0m\u001b[38;5;33m     X      \u001b[0m\u001b[38;5;33m \u001b[0m│\u001b[38;5;128m \u001b[0m\u001b[38;5;128madata.layers['counts']\u001b[0m\u001b[38;5;128m \u001b[0m│\n",
              "│\u001b[38;5;33m \u001b[0m\u001b[38;5;33m   ind_x    \u001b[0m\u001b[38;5;33m \u001b[0m│\u001b[38;5;128m \u001b[0m\u001b[38;5;128madata.obs['_indices'] \u001b[0m\u001b[38;5;128m \u001b[0m│\n",
              "└──────────────┴────────────────────────┘\n"
            ],
            "text/html": [
              "<pre style=\"white-space:pre;overflow-x:auto;line-height:normal;font-family:Menlo,'DejaVu Sans Mono',consolas,'Courier New',monospace\"><span style=\"font-style: italic\">              Data Registry              </span>\n",
              "┏━━━━━━━━━━━━━━┳━━━━━━━━━━━━━━━━━━━━━━━━┓\n",
              "┃<span style=\"font-weight: bold\"> Registry Key </span>┃<span style=\"font-weight: bold\">  scvi-tools Location   </span>┃\n",
              "┡━━━━━━━━━━━━━━╇━━━━━━━━━━━━━━━━━━━━━━━━┩\n",
              "│<span style=\"color: #0087ff; text-decoration-color: #0087ff\">      X       </span>│<span style=\"color: #af00d7; text-decoration-color: #af00d7\"> adata.layers['counts'] </span>│\n",
              "│<span style=\"color: #0087ff; text-decoration-color: #0087ff\">    ind_x     </span>│<span style=\"color: #af00d7; text-decoration-color: #af00d7\"> adata.obs['_indices']  </span>│\n",
              "└──────────────┴────────────────────────┘\n",
              "</pre>\n"
            ]
          },
          "metadata": {}
        }
      ],
      "source": [
        "st_model = DestVI.from_rna_model(st_adata, sc_model)\n",
        "st_model.view_anndata_setup()"
      ]
    },
    {
      "cell_type": "code",
      "execution_count": null,
      "metadata": {
        "colab": {
          "base_uri": "https://localhost:8080/"
        },
        "id": "A1--cSIXkPPt",
        "outputId": "36dd49b3-3119-4947-e484-889f457888c4"
      },
      "outputs": [
        {
          "metadata": {
            "tags": null
          },
          "name": "stderr",
          "output_type": "stream",
          "text": [
            "[2023-03-16 23:42:24] GPU available: True (cuda), used: True\n",
            "[2023-03-16 23:42:24] TPU available: False, using: 0 TPU cores\n",
            "[2023-03-16 23:42:24] IPU available: False, using: 0 IPUs\n",
            "[2023-03-16 23:42:24] HPU available: False, using: 0 HPUs\n",
            "[2023-03-16 23:42:24] LOCAL_RANK: 0 - CUDA_VISIBLE_DEVICES: [0]\n"
          ]
        },
        {
          "output_type": "stream",
          "name": "stdout",
          "text": [
            "Epoch 2500/2500: 100%|██████████| 2500/2500 [13:21<00:00,  3.47it/s, loss=1.84e+06, v_num=1]"
          ]
        },
        {
          "output_type": "stream",
          "name": "stderr",
          "text": [
            "[2023-03-16 23:55:45] `Trainer.fit` stopped: `max_epochs=2500` reached.\n"
          ]
        },
        {
          "output_type": "stream",
          "name": "stdout",
          "text": [
            "\rEpoch 2500/2500: 100%|██████████| 2500/2500 [13:21<00:00,  3.12it/s, loss=1.84e+06, v_num=1]\n"
          ]
        }
      ],
      "source": [
        "st_model.train(max_epochs=2500)"
      ]
    },
    {
      "cell_type": "markdown",
      "metadata": {
        "id": "Z07fCvGScMtW"
      },
      "source": [
        "Note that model converges quickly. Over experimentation with the model drastically reducing the number of epochs leads to decreased performance and we advocate against max_epochs\\<1000."
      ]
    },
    {
      "cell_type": "code",
      "execution_count": null,
      "metadata": {
        "colab": {
          "base_uri": "https://localhost:8080/",
          "height": 279
        },
        "id": "73LHStPWk2Ul",
        "outputId": "6a4152f5-7706-49db-abd4-10788ecf1845"
      },
      "outputs": [
        {
          "output_type": "display_data",
          "data": {
            "text/plain": [
              "<Figure size 432x288 with 1 Axes>"
            ],
            "image/png": "[encoded data removed]"
          },
          "metadata": {
            "needs_background": "light"
          }
        }
      ],
      "source": [
        "st_model.history[\"elbo_train\"].iloc[10:].plot()\n",
        "plt.show()"
      ]
    },
    {
      "cell_type": "markdown",
      "metadata": {
        "id": "4SDVXEaNkV0M"
      },
      "source": [
        "The output of DestVI has two resolution. At the broader resolution, DestVI returns the cell type proportion in every spot. At the more granular resolution, DestVI can impute cell type specific gene expression in every spot.\n",
        "\n",
        "## Cell type proportions"
      ]
    },
    {
      "cell_type": "markdown",
      "metadata": {
        "id": "jOVwu2RacTXo"
      },
      "source": [
        "We extract the computed cell type proportions and display them in spatial embedding. These values are directly calculated by normalized the spot-level parameters from the stLVM model."
      ]
    },
    {
      "cell_type": "code",
      "execution_count": null,
      "metadata": {
        "id": "1iLm5L3fl9SQ"
      },
      "outputs": [],
      "source": [
        "st_adata.obsm[\"proportions\"] = st_model.get_proportions()"
      ]
    },
    {
      "cell_type": "code",
      "execution_count": null,
      "metadata": {
        "colab": {
          "base_uri": "https://localhost:8080/",
          "height": 456
        },
        "id": "bVwJ3mzNSWLQ",
        "outputId": "6217db1f-cd69-4cf2-9102-4fa27a247347"
      },
      "outputs": [
        {
          "output_type": "execute_result",
          "data": {
            "text/plain": [
              "                   B cells Memory  B cells Naive  CAFs MSC iCAF-like s1  \\\n",
              "exper0_location_0    2.831830e-09   3.244375e-07               0.165719   \n",
              "exper0_location_1    9.121801e-09   6.442059e-07               0.000758   \n",
              "exper0_location_2    3.655576e-02   6.804255e-03               0.144763   \n",
              "exper0_location_3    6.858220e-02   7.825364e-03               0.002127   \n",
              "exper0_location_4    2.141847e-07   2.253198e-05               0.018905   \n",
              "\n",
              "                   CAFs MSC iCAF-like s2  CAFs Transitioning s3  \\\n",
              "exper0_location_0               0.000029               0.000262   \n",
              "exper0_location_1               0.000119               0.000107   \n",
              "exper0_location_2               0.003884               0.001758   \n",
              "exper0_location_3               0.000351               0.000258   \n",
              "exper0_location_4               0.004151               0.063491   \n",
              "\n",
              "                   CAFs myCAF like s4  CAFs myCAF like s5  Cancer Basal SC  \\\n",
              "exper0_location_0            0.065547            0.023634         0.424043   \n",
              "exper0_location_1            0.000154            0.428699         0.334729   \n",
              "exper0_location_2            0.031458            0.305919         0.266257   \n",
              "exper0_location_3            0.000911            0.286345         0.284408   \n",
              "exper0_location_4            0.000917            0.311086         0.313374   \n",
              "\n",
              "                   Cancer Cycling  Cancer Her2 SC  ...  T_cells_c11_MKI67  \\\n",
              "exper0_location_0    2.496537e-13    1.142904e-13  ...           0.000002   \n",
              "exper0_location_1    5.127796e-14    2.446133e-14  ...           0.000002   \n",
              "exper0_location_2    8.770071e-14    4.640962e-14  ...           0.000004   \n",
              "exper0_location_3    1.678908e-12    9.232633e-13  ...           0.029180   \n",
              "exper0_location_4    3.112239e-14    1.471835e-14  ...           0.000010   \n",
              "\n",
              "                   T_cells_c1_CD4+_IL7R  T_cells_c2_CD4+_T-regs_FOXP3  \\\n",
              "exper0_location_0          1.441829e-13                  2.563348e-08   \n",
              "exper0_location_1          1.812653e-14                  5.506866e-08   \n",
              "exper0_location_2          3.347475e-14                  2.412456e-08   \n",
              "exper0_location_3          8.697310e-13                  1.690177e-05   \n",
              "exper0_location_4          1.035575e-14                  3.085142e-13   \n",
              "\n",
              "                   T_cells_c3_CD4+_Tfh_CXCL13  T_cells_c4_CD8+_ZFP36  \\\n",
              "exper0_location_0                1.421944e-13           6.872861e-14   \n",
              "exper0_location_1                2.040642e-14           1.087539e-14   \n",
              "exper0_location_2                4.407026e-14           1.750288e-14   \n",
              "exper0_location_3                1.204645e-12           6.440464e-13   \n",
              "exper0_location_4                2.168073e-14           1.171260e-14   \n",
              "\n",
              "                   T_cells_c5_CD8+_GZMK  T_cells_c6_IFIT1  \\\n",
              "exper0_location_0          7.892227e-14      2.042552e-09   \n",
              "exper0_location_1          1.051964e-14      4.869221e-06   \n",
              "exper0_location_2          1.732449e-14      3.669714e-06   \n",
              "exper0_location_3          4.652610e-13      2.564331e-05   \n",
              "exper0_location_4          6.695273e-15      3.256557e-06   \n",
              "\n",
              "                   T_cells_c7_CD8+_IFNG  T_cells_c8_CD8+_LAG3  \\\n",
              "exper0_location_0          3.062668e-03          4.218704e-14   \n",
              "exper0_location_1          3.360459e-04          5.074544e-15   \n",
              "exper0_location_2          7.830499e-07          1.224093e-14   \n",
              "exper0_location_3          4.251199e-02          3.777281e-13   \n",
              "exper0_location_4          7.397386e-02          5.916508e-15   \n",
              "\n",
              "                   T_cells_c9_NK_cells_AREG  \n",
              "exper0_location_0              2.566354e-14  \n",
              "exper0_location_1              2.859152e-15  \n",
              "exper0_location_2              7.863477e-15  \n",
              "exper0_location_3              1.918257e-13  \n",
              "exper0_location_4              1.798955e-15  \n",
              "\n",
              "[5 rows x 46 columns]"
            ],
            "text/html": [
              "\n",
              "  <div id=\"df-de8a5f04-0756-499b-aac1-1027f825ddc0\">\n",
              "    <div class=\"colab-df-container\">\n",
              "      <div>\n",
              "<style scoped>\n",
              "    .dataframe tbody tr th:only-of-type {\n",
              "        vertical-align: middle;\n",
              "    }\n",
              "\n",
              "    .dataframe tbody tr th {\n",
              "        vertical-align: top;\n",
              "    }\n",
              "\n",
              "    .dataframe thead th {\n",
              "        text-align: right;\n",
              "    }\n",
              "</style>\n",
              "<table border=\"1\" class=\"dataframe\">\n",
              "  <thead>\n",
              "    <tr style=\"text-align: right;\">\n",
              "      <th></th>\n",
              "      <th>B cells Memory</th>\n",
              "      <th>B cells Naive</th>\n",
              "      <th>CAFs MSC iCAF-like s1</th>\n",
              "      <th>CAFs MSC iCAF-like s2</th>\n",
              "      <th>CAFs Transitioning s3</th>\n",
              "      <th>CAFs myCAF like s4</th>\n",
              "      <th>CAFs myCAF like s5</th>\n",
              "      <th>Cancer Basal SC</th>\n",
              "      <th>Cancer Cycling</th>\n",
              "      <th>Cancer Her2 SC</th>\n",
              "      <th>...</th>\n",
              "      <th>T_cells_c11_MKI67</th>\n",
              "      <th>T_cells_c1_CD4+_IL7R</th>\n",
              "      <th>T_cells_c2_CD4+_T-regs_FOXP3</th>\n",
              "      <th>T_cells_c3_CD4+_Tfh_CXCL13</th>\n",
              "      <th>T_cells_c4_CD8+_ZFP36</th>\n",
              "      <th>T_cells_c5_CD8+_GZMK</th>\n",
              "      <th>T_cells_c6_IFIT1</th>\n",
              "      <th>T_cells_c7_CD8+_IFNG</th>\n",
              "      <th>T_cells_c8_CD8+_LAG3</th>\n",
              "      <th>T_cells_c9_NK_cells_AREG</th>\n",
              "    </tr>\n",
              "  </thead>\n",
              "  <tbody>\n",
              "    <tr>\n",
              "      <th>exper0_location_0</th>\n",
              "      <td>2.831830e-09</td>\n",
              "      <td>3.244375e-07</td>\n",
              "      <td>0.165719</td>\n",
              "      <td>0.000029</td>\n",
              "      <td>0.000262</td>\n",
              "      <td>0.065547</td>\n",
              "      <td>0.023634</td>\n",
              "      <td>0.424043</td>\n",
              "      <td>2.496537e-13</td>\n",
              "      <td>1.142904e-13</td>\n",
              "      <td>...</td>\n",
              "      <td>0.000002</td>\n",
              "      <td>1.441829e-13</td>\n",
              "      <td>2.563348e-08</td>\n",
              "      <td>1.421944e-13</td>\n",
              "      <td>6.872861e-14</td>\n",
              "      <td>7.892227e-14</td>\n",
              "      <td>2.042552e-09</td>\n",
              "      <td>3.062668e-03</td>\n",
              "      <td>4.218704e-14</td>\n",
              "      <td>2.566354e-14</td>\n",
              "    </tr>\n",
              "    <tr>\n",
              "      <th>exper0_location_1</th>\n",
              "      <td>9.121801e-09</td>\n",
              "      <td>6.442059e-07</td>\n",
              "      <td>0.000758</td>\n",
              "      <td>0.000119</td>\n",
              "      <td>0.000107</td>\n",
              "      <td>0.000154</td>\n",
              "      <td>0.428699</td>\n",
              "      <td>0.334729</td>\n",
              "      <td>5.127796e-14</td>\n",
              "      <td>2.446133e-14</td>\n",
              "      <td>...</td>\n",
              "      <td>0.000002</td>\n",
              "      <td>1.812653e-14</td>\n",
              "      <td>5.506866e-08</td>\n",
              "      <td>2.040642e-14</td>\n",
              "      <td>1.087539e-14</td>\n",
              "      <td>1.051964e-14</td>\n",
              "      <td>4.869221e-06</td>\n",
              "      <td>3.360459e-04</td>\n",
              "      <td>5.074544e-15</td>\n",
              "      <td>2.859152e-15</td>\n",
              "    </tr>\n",
              "    <tr>\n",
              "      <th>exper0_location_2</th>\n",
              "      <td>3.655576e-02</td>\n",
              "      <td>6.804255e-03</td>\n",
              "      <td>0.144763</td>\n",
              "      <td>0.003884</td>\n",
              "      <td>0.001758</td>\n",
              "      <td>0.031458</td>\n",
              "      <td>0.305919</td>\n",
              "      <td>0.266257</td>\n",
              "      <td>8.770071e-14</td>\n",
              "      <td>4.640962e-14</td>\n",
              "      <td>...</td>\n",
              "      <td>0.000004</td>\n",
              "      <td>3.347475e-14</td>\n",
              "      <td>2.412456e-08</td>\n",
              "      <td>4.407026e-14</td>\n",
              "      <td>1.750288e-14</td>\n",
              "      <td>1.732449e-14</td>\n",
              "      <td>3.669714e-06</td>\n",
              "      <td>7.830499e-07</td>\n",
              "      <td>1.224093e-14</td>\n",
              "      <td>7.863477e-15</td>\n",
              "    </tr>\n",
              "    <tr>\n",
              "      <th>exper0_location_3</th>\n",
              "      <td>6.858220e-02</td>\n",
              "      <td>7.825364e-03</td>\n",
              "      <td>0.002127</td>\n",
              "      <td>0.000351</td>\n",
              "      <td>0.000258</td>\n",
              "      <td>0.000911</td>\n",
              "      <td>0.286345</td>\n",
              "      <td>0.284408</td>\n",
              "      <td>1.678908e-12</td>\n",
              "      <td>9.232633e-13</td>\n",
              "      <td>...</td>\n",
              "      <td>0.029180</td>\n",
              "      <td>8.697310e-13</td>\n",
              "      <td>1.690177e-05</td>\n",
              "      <td>1.204645e-12</td>\n",
              "      <td>6.440464e-13</td>\n",
              "      <td>4.652610e-13</td>\n",
              "      <td>2.564331e-05</td>\n",
              "      <td>4.251199e-02</td>\n",
              "      <td>3.777281e-13</td>\n",
              "      <td>1.918257e-13</td>\n",
              "    </tr>\n",
              "    <tr>\n",
              "      <th>exper0_location_4</th>\n",
              "      <td>2.141847e-07</td>\n",
              "      <td>2.253198e-05</td>\n",
              "      <td>0.018905</td>\n",
              "      <td>0.004151</td>\n",
              "      <td>0.063491</td>\n",
              "      <td>0.000917</td>\n",
              "      <td>0.311086</td>\n",
              "      <td>0.313374</td>\n",
              "      <td>3.112239e-14</td>\n",
              "      <td>1.471835e-14</td>\n",
              "      <td>...</td>\n",
              "      <td>0.000010</td>\n",
              "      <td>1.035575e-14</td>\n",
              "      <td>3.085142e-13</td>\n",
              "      <td>2.168073e-14</td>\n",
              "      <td>1.171260e-14</td>\n",
              "      <td>6.695273e-15</td>\n",
              "      <td>3.256557e-06</td>\n",
              "      <td>7.397386e-02</td>\n",
              "      <td>5.916508e-15</td>\n",
              "      <td>1.798955e-15</td>\n",
              "    </tr>\n",
              "  </tbody>\n",
              "</table>\n",
              "<p>5 rows × 46 columns</p>\n",
              "</div>\n",
              "      <button class=\"colab-df-convert\" onclick=\"convertToInteractive('df-de8a5f04-0756-499b-aac1-1027f825ddc0')\"\n",
              "              title=\"Convert this dataframe to an interactive table.\"\n",
              "              style=\"display:none;\">\n",
              "        \n",
              "  <svg xmlns=\"http://www.w3.org/2000/svg\" height=\"24px\"viewBox=\"0 0 24 24\"\n",
              "       width=\"24px\">\n",
              "    <path d=\"M0 0h24v24H0V0z\" fill=\"none\"/>\n",
              "    <path d=\"M18.56 5.44l.94 2.06.94-2.06 2.06-.94-2.06-.94-.94-2.06-.94 2.06-2.06.94zm-11 1L8.5 8.5l.94-2.06 2.06-.94-2.06-.94L8.5 2.5l-.94 2.06-2.06.94zm10 10l.94 2.06.94-2.06 2.06-.94-2.06-.94-.94-2.06-.94 2.06-2.06.94z\"/><path d=\"M17.41 7.96l-1.37-1.37c-.4-.4-.92-.59-1.43-.59-.52 0-1.04.2-1.43.59L10.3 9.45l-7.72 7.72c-.78.78-.78 2.05 0 2.83L4 21.41c.39.39.9.59 1.41.59.51 0 1.02-.2 1.41-.59l7.78-7.78 2.81-2.81c.8-.78.8-2.07 0-2.86zM5.41 20L4 18.59l7.72-7.72 1.47 1.35L5.41 20z\"/>\n",
              "  </svg>\n",
              "      </button>\n",
              "      \n",
              "  <style>\n",
              "    .colab-df-container {\n",
              "      display:flex;\n",
              "      flex-wrap:wrap;\n",
              "      gap: 12px;\n",
              "    }\n",
              "\n",
              "    .colab-df-convert {\n",
              "      background-color: #E8F0FE;\n",
              "      border: none;\n",
              "      border-radius: 50%;\n",
              "      cursor: pointer;\n",
              "      display: none;\n",
              "      fill: #1967D2;\n",
              "      height: 32px;\n",
              "      padding: 0 0 0 0;\n",
              "      width: 32px;\n",
              "    }\n",
              "\n",
              "    .colab-df-convert:hover {\n",
              "      background-color: #E2EBFA;\n",
              "      box-shadow: 0px 1px 2px rgba(60, 64, 67, 0.3), 0px 1px 3px 1px rgba(60, 64, 67, 0.15);\n",
              "      fill: #174EA6;\n",
              "    }\n",
              "\n",
              "    [theme=dark] .colab-df-convert {\n",
              "      background-color: #3B4455;\n",
              "      fill: #D2E3FC;\n",
              "    }\n",
              "\n",
              "    [theme=dark] .colab-df-convert:hover {\n",
              "      background-color: #434B5C;\n",
              "      box-shadow: 0px 1px 3px 1px rgba(0, 0, 0, 0.15);\n",
              "      filter: drop-shadow(0px 1px 2px rgba(0, 0, 0, 0.3));\n",
              "      fill: #FFFFFF;\n",
              "    }\n",
              "  </style>\n",
              "\n",
              "      <script>\n",
              "        const buttonEl =\n",
              "          document.querySelector('#df-de8a5f04-0756-499b-aac1-1027f825ddc0 button.colab-df-convert');\n",
              "        buttonEl.style.display =\n",
              "          google.colab.kernel.accessAllowed ? 'block' : 'none';\n",
              "\n",
              "        async function convertToInteractive(key) {\n",
              "          const element = document.querySelector('#df-de8a5f04-0756-499b-aac1-1027f825ddc0');\n",
              "          const dataTable =\n",
              "            await google.colab.kernel.invokeFunction('convertToInteractive',\n",
              "                                                     [key], {});\n",
              "          if (!dataTable) return;\n",
              "\n",
              "          const docLinkHtml = 'Like what you see? Visit the ' +\n",
              "            '<a target=\"_blank\" href=https://colab.research.google.com/notebooks/data_table.ipynb>data table notebook</a>'\n",
              "            + ' to learn more about interactive tables.';\n",
              "          element.innerHTML = '';\n",
              "          dataTable['output_type'] = 'display_data';\n",
              "          await google.colab.output.renderOutput(dataTable, element);\n",
              "          const docLink = document.createElement('div');\n",
              "          docLink.innerHTML = docLinkHtml;\n",
              "          element.appendChild(docLink);\n",
              "        }\n",
              "      </script>\n",
              "    </div>\n",
              "  </div>\n",
              "  "
            ]
          },
          "metadata": {},
          "execution_count": 38
        }
      ],
      "source": [
        "st_adata.obsm[\"proportions\"].head(5)"
      ]
    },
    {
      "cell_type": "code",
      "source": [
        "st_adata.obsm[\"proportions\"].to_csv(os.path.join(results_folder, \"out.csv\"))"
      ],
      "metadata": {
        "id": "xZJ26THb3m-c"
      },
      "execution_count": null,
      "outputs": []
    }
  ],
  "metadata": {
    "accelerator": "GPU",
    "colab": {
      "provenance": [],
      "toc_visible": true
    },
    "kernelspec": {
      "display_name": "Python 3",
      "language": "python",
      "name": "python3"
    },
    "language_info": {
      "codemirror_mode": {
        "name": "ipython",
        "version": 3
      },
      "file_extension": ".py",
      "mimetype": "text/x-python",
      "name": "python",
      "nbconvert_exporter": "python",
      "pygments_lexer": "ipython3",
      "version": "3.9.10"
    }
  },
  "nbformat": 4,
  "nbformat_minor": 0
}