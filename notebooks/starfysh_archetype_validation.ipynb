version https://git-lfs.github.com/spec/v1
oid sha256:5034db0195c9f7ac777b37f96037506c0c799d8a465dd035837922b0e0979962
size 84457652
