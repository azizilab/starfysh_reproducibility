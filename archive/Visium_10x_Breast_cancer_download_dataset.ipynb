{
  "nbformat": 4,
  "nbformat_minor": 0,
  "metadata": {
    "colab": {
      "name": "Visium 10x Breast cancer download dataset.ipynb",
      "provenance": [],
      "collapsed_sections": []
    },
    "kernelspec": {
      "name": "python3",
      "display_name": "Python 3"
    },
    "language_info": {
      "name": "python"
    }
  },
  "cells": [
    {
      "cell_type": "markdown",
      "metadata": {
        "id": "EbxvNAtUY44l"
      },
      "source": [
        "## Six datasets for the 10x genomic breast cancer\n",
        "\n",
        "Siyu\n",
        "\n",
        "2021-09-23"
      ]
    },
    {
      "cell_type": "code",
      "metadata": {
        "id": "58QkhnHjFyfF"
      },
      "source": [
        "## mount drive\n",
        "from google.colab import drive\n",
        "drive.mount('/content/drive')"
      ],
      "execution_count": null,
      "outputs": []
    },
    {
      "cell_type": "code",
      "metadata": {
        "id": "DdxieaujF8fd"
      },
      "source": [
        "#!pip3 install anndata\n",
        "#!pip3 install scanpy\n",
        "#!pip3 install git+https://github.com/jacoblevine/phenograph.git\n",
        "#!pip3 install leidenalg\n",
        "#!pip install matplotlib==3.3.4\n",
        "#!pip install py_pcha\n",
        "#!pip install spams"
      ],
      "execution_count": null,
      "outputs": []
    },
    {
      "cell_type": "code",
      "metadata": {
        "id": "vXk5jyY6GA4X"
      },
      "source": [
        "import os\n",
        "import sys\n",
        "import gzip\n",
        "import numpy as np\n",
        "import scipy.stats as stats\n",
        "import pandas as pd\n",
        "import pickle\n",
        "import anndata\n",
        "import json\n",
        "import scanpy as sc\n",
        "import scipy\n",
        "import seaborn as sns\n",
        "import phenograph \n",
        "import collections\n",
        "import torch\n",
        "from scipy.io import mmread,mminfo\n",
        "from sklearn.decomposition import PCA\n",
        "import matplotlib\n",
        "import matplotlib.pyplot as plt\n",
        "from skimage import io\n",
        "from py_pcha import PCHA\n",
        "sys.path.append('/content/drive/MyDrive/SpatialModelProject/VAE')"
      ],
      "execution_count": null,
      "outputs": []
    },
    {
      "cell_type": "code",
      "metadata": {
        "colab": {
          "base_uri": "https://localhost:8080/"
        },
        "id": "lrexQc_aGIZy",
        "outputId": "563f6739-c4d2-4ecd-ddcd-acce3abbc37c"
      },
      "source": [
        "import torch\n",
        "torch.manual_seed(0)\n",
        "#plt.rcParams[\"figure.figsize\"] = (8, 8)"
      ],
      "execution_count": null,
      "outputs": [
        {
          "output_type": "execute_result",
          "data": {
            "text/plain": [
              "<torch._C.Generator at 0x7eff14edc1b0>"
            ]
          },
          "metadata": {
            "tags": []
          },
          "execution_count": 4
        }
      ]
    },
    {
      "cell_type": "code",
      "metadata": {
        "id": "vr64mqOUGI-w"
      },
      "source": [
        ""
      ],
      "execution_count": null,
      "outputs": []
    },
    {
      "cell_type": "markdown",
      "metadata": {
        "id": "x7fURA1TLKbp"
      },
      "source": [
        "### download datasets"
      ]
    },
    {
      "cell_type": "markdown",
      "metadata": {
        "id": "GedMX1oJMPGm"
      },
      "source": [
        "dataset1: BC_A1\n",
        "https://support.10xgenomics.com/spatial-gene-expression/datasets/1.1.0/V1_Breast_Cancer_Block_A_Section_1"
      ]
    },
    {
      "cell_type": "code",
      "metadata": {
        "id": "LCaejAk8LMO5"
      },
      "source": [
        "!wget -P /content/drive/MyDrive/SpatialModelProject/data/BC_A1/ https://cf.10xgenomics.com/samples/spatial-exp/1.1.0/V1_Breast_Cancer_Block_A_Section_1/V1_Breast_Cancer_Block_A_Section_1_filtered_feature_bc_matrix.h5\n",
        "!wget -P /content/drive/MyDrive/SpatialModelProject/data/BC_A1/ https://cf.10xgenomics.com/samples/spatial-exp/1.1.0/V1_Breast_Cancer_Block_A_Section_1/V1_Breast_Cancer_Block_A_Section_1_analysis.tar.gz\n",
        "!wget -P /content/drive/MyDrive/SpatialModelProject/data/BC_A1/ https://cf.10xgenomics.com/samples/spatial-exp/1.1.0/V1_Breast_Cancer_Block_A_Section_1/V1_Breast_Cancer_Block_A_Section_1_spatial.tar.gz\n",
        "!wget -P /content/drive/MyDrive/SpatialModelProject/data/BC_A1/ https://cf.10xgenomics.com/samples/spatial-exp/1.1.0/V1_Breast_Cancer_Block_A_Section_1/V1_Breast_Cancer_Block_A_Section_1_metrics_summary.csv"
      ],
      "execution_count": null,
      "outputs": []
    },
    {
      "cell_type": "markdown",
      "metadata": {
        "id": "hjrkzrtyMLOE"
      },
      "source": [
        "dataset2: BC_A2\n",
        "https://support.10xgenomics.com/spatial-gene-expression/datasets/1.0.0/V1_Breast_Cancer_Block_A_Section_2"
      ]
    },
    {
      "cell_type": "code",
      "metadata": {
        "id": "vMGWobTFLtDQ"
      },
      "source": [
        "!wget -P /content/drive/MyDrive/SpatialModelProject/data/BC_A2 https://cf.10xgenomics.com/samples/spatial-exp/1.0.0/V1_Breast_Cancer_Block_A_Section_2/V1_Breast_Cancer_Block_A_Section_2_filtered_feature_bc_matrix.h5\n",
        "!wget -P /content/drive/MyDrive/SpatialModelProject/data/BC_A2 https://cf.10xgenomics.com/samples/spatial-exp/1.0.0/V1_Breast_Cancer_Block_A_Section_2/V1_Breast_Cancer_Block_A_Section_2_filtered_feature_bc_matrix.tar.gz\n",
        "!wget -P /content/drive/MyDrive/SpatialModelProject/data/BC_A2 https://cf.10xgenomics.com/samples/spatial-exp/1.0.0/V1_Breast_Cancer_Block_A_Section_2/V1_Breast_Cancer_Block_A_Section_2_analysis.tar.gz\n",
        "!wget -P /content/drive/MyDrive/SpatialModelProject/data/BC_A2 https://cf.10xgenomics.com/samples/spatial-exp/1.0.0/V1_Breast_Cancer_Block_A_Section_2/V1_Breast_Cancer_Block_A_Section_2_spatial.tar.gz\n",
        "!wget -P /content/drive/MyDrive/SpatialModelProject/data/BC_A2 https://cf.10xgenomics.com/samples/spatial-exp/1.0.0/V1_Breast_Cancer_Block_A_Section_2/V1_Breast_Cancer_Block_A_Section_2_metrics_summary.csv\n",
        "!tar zxvf /content/drive/MyDrive/SpatialModelProject/data/BC_A2/wget/V1_Breast_Cancer_Block_A_Section_2_spatial.tar.gz -C /content/drive/MyDrive/SpatialModelProject/data/BC_A2"
      ],
      "execution_count": null,
      "outputs": []
    },
    {
      "cell_type": "markdown",
      "metadata": {
        "id": "gIrq0i_XNBD1"
      },
      "source": [
        "datasets3: BC_A3 https://support.10xgenomics.com/spatial-gene-expression/datasets/1.1.0/V1_Breast_Cancer_Block_A_Section_2"
      ]
    },
    {
      "cell_type": "code",
      "metadata": {
        "id": "161qQifIMyZr"
      },
      "source": [
        "!wget -P /content/drive/MyDrive/SpatialModelProject/data/BC_A3 https://cf.10xgenomics.com/samples/spatial-exp/1.1.0/V1_Breast_Cancer_Block_A_Section_2/V1_Breast_Cancer_Block_A_Section_2_filtered_feature_bc_matrix.h5\n",
        "!wget -P /content/drive/MyDrive/SpatialModelProject/data/BC_A3 https://cf.10xgenomics.com/samples/spatial-exp/1.1.0/V1_Breast_Cancer_Block_A_Section_2/V1_Breast_Cancer_Block_A_Section_2_spatial.tar.gz\n",
        "!tar zxvf /content/drive/MyDrive/SpatialModelProject/data/BC_A3/V1_Breast_Cancer_Block_A_Section_2_spatial.tar.gz -C /content/drive/MyDrive/SpatialModelProject/data/BC_A3"
      ],
      "execution_count": null,
      "outputs": []
    },
    {
      "cell_type": "markdown",
      "metadata": {
        "id": "qoMCy4QINx3V"
      },
      "source": [
        "datasets4: BC_A4 https://support.10xgenomics.com/spatial-gene-expression/datasets/1.0.0/V1_Breast_Cancer_Block_A_Section_2"
      ]
    },
    {
      "cell_type": "code",
      "metadata": {
        "id": "Scio0O0nNyMn"
      },
      "source": [
        "!wget -P /content/drive/MyDrive/SpatialModelProject/data/BC_A4/ https://cf.10xgenomics.com/samples/spatial-exp/1.0.0/V1_Breast_Cancer_Block_A_Section_1/V1_Breast_Cancer_Block_A_Section_1_filtered_feature_bc_matrix.h5\n",
        "!wget -P /content/drive/MyDrive/SpatialModelProject/data/BC_A4/ https://cf.10xgenomics.com/samples/spatial-exp/1.0.0/V1_Breast_Cancer_Block_A_Section_1/V1_Breast_Cancer_Block_A_Section_1_spatial.tar.gz\n",
        "!tar zxvf /content/drive/MyDrive/SpatialModelProject/data/BC_A4/V1_Breast_Cancer_Block_A_Section_1_spatial.tar.gz -C /content/drive/MyDrive/SpatialModelProject/data/BC_A4"
      ],
      "execution_count": null,
      "outputs": []
    },
    {
      "cell_type": "markdown",
      "metadata": {
        "id": "nI6QET1TQxWj"
      },
      "source": [
        "datasets5: BC_A5 https://support.10xgenomics.com/spatial-gene-expression/datasets/1.2.0/Parent_Visium_Human_BreastCancer"
      ]
    },
    {
      "cell_type": "code",
      "metadata": {
        "id": "EduRpzevQbvy"
      },
      "source": [
        "!wget -P /content/drive/MyDrive/SpatialModelProject/data/BC_A5/ https://cf.10xgenomics.com/samples/spatial-exp/1.2.0/Parent_Visium_Human_BreastCancer/Parent_Visium_Human_BreastCancer_filtered_feature_bc_matrix.h5\n",
        "!wget -P /content/drive/MyDrive/SpatialModelProject/data/BC_A5/ https://cf.10xgenomics.com/samples/spatial-exp/1.2.0/Parent_Visium_Human_BreastCancer/Parent_Visium_Human_BreastCancer_spatial.tar.gz\n",
        "!tar zxvf /content/drive/MyDrive/SpatialModelProject/data/BC_A5/Parent_Visium_Human_BreastCancer_spatial.tar.gz -C /content/drive/MyDrive/SpatialModelProject/data/BC_A5"
      ],
      "execution_count": null,
      "outputs": []
    },
    {
      "cell_type": "markdown",
      "metadata": {
        "id": "UdK_XXtpRbSd"
      },
      "source": [
        "datasets: BC_A6 https://support.10xgenomics.com/spatial-gene-expression/datasets/1.2.0/Targeted_Visium_Human_BreastCancer_Immunology"
      ]
    },
    {
      "cell_type": "code",
      "metadata": {
        "id": "SowZ8_1DRR6O"
      },
      "source": [
        "!wget -P /content/drive/MyDrive/SpatialModelProject/data/BC_A6/ https://cf.10xgenomics.com/samples/spatial-exp/1.2.0/Targeted_Visium_Human_BreastCancer_Immunology/Targeted_Visium_Human_BreastCancer_Immunology_filtered_feature_bc_matrix.h5\n",
        "!wget -P /content/drive/MyDrive/SpatialModelProject/data/BC_A6/ https://cf.10xgenomics.com/samples/spatial-exp/1.2.0/Targeted_Visium_Human_BreastCancer_Immunology/Targeted_Visium_Human_BreastCancer_Immunology_spatial.tar.gz\n",
        "\n",
        "!tar zxvf /content/drive/MyDrive/SpatialModelProject/data/BC_A6/Targeted_Visium_Human_BreastCancer_Immunology_spatial.tar.gz -C /content/drive/MyDrive/SpatialModelProject/data/BC_A5"
      ],
      "execution_count": null,
      "outputs": []
    }
  ]
}