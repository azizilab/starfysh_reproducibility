{
 "cells": [
  {
   "cell_type": "markdown",
   "id": "bfe51384",
   "metadata": {},
   "source": [
    "## Benchmark BayesTME in fine-grained spatial dependent simulations"
   ]
  },
  {
   "cell_type": "code",
   "execution_count": 1,
   "id": "f0d1b13f",
   "metadata": {},
   "outputs": [],
   "source": [
    "import os\n",
    "import numpy as np\n",
    "import pandas as pd\n",
    "import scanpy as sc\n",
    "import torch"
   ]
  },
  {
   "cell_type": "code",
   "execution_count": 2,
   "id": "a007c3b6",
   "metadata": {},
   "outputs": [],
   "source": [
    "import matplotlib.pyplot as plt\n",
    "import matplotlib.font_manager\n",
    "from matplotlib import rcParams\n",
    "\n",
    "import seaborn as sns\n",
    "sns.set_style('white')\n",
    "\n",
    "font_list = []\n",
    "fpaths = matplotlib.font_manager.findSystemFonts()\n",
    "for i in fpaths:\n",
    "    try:\n",
    "        f = matplotlib.font_manager.get_font(i)\n",
    "        font_list.append(f.family_name)\n",
    "    except RuntimeError:\n",
    "        pass\n",
    "\n",
    "font_list = set(font_list)\n",
    "plot_font = 'Helvetica' if 'Helvetica' in font_list else 'FreeSans'\n",
    "\n",
    "rcParams['font.family'] = plot_font\n",
    "rcParams.update({'font.size': 10})\n",
    "rcParams.update({'figure.dpi': 300})\n",
    "rcParams.update({'figure.figsize': (3,3)})\n",
    "rcParams.update({'savefig.dpi': 500})\n",
    "\n",
    "import warnings\n",
    "warnings.filterwarnings('ignore')"
   ]
  },
  {
   "cell_type": "code",
   "execution_count": 3,
   "id": "e5ddd80e-3cc0-484d-a598-f22735a87fe8",
   "metadata": {},
   "outputs": [],
   "source": [
    "from bayestme import data, deconvolution, gene_filtering"
   ]
  },
  {
   "cell_type": "markdown",
   "id": "b17e142e-55f9-4f15-810e-2b3a5483dc18",
   "metadata": {},
   "source": [
    "### (1). Major cell type simulation (`simu_5`)"
   ]
  },
  {
   "cell_type": "markdown",
   "id": "e3eeb350",
   "metadata": {},
   "source": [
    "#### Load data"
   ]
  },
  {
   "cell_type": "code",
   "execution_count": 4,
   "id": "0136dfba",
   "metadata": {},
   "outputs": [
    {
     "data": {
      "text/html": [
       "<div>\n",
       "<style scoped>\n",
       "    .dataframe tbody tr th:only-of-type {\n",
       "        vertical-align: middle;\n",
       "    }\n",
       "\n",
       "    .dataframe tbody tr th {\n",
       "        vertical-align: top;\n",
       "    }\n",
       "\n",
       "    .dataframe thead th {\n",
       "        text-align: right;\n",
       "    }\n",
       "</style>\n",
       "<table border=\"1\" class=\"dataframe\">\n",
       "  <thead>\n",
       "    <tr style=\"text-align: right;\">\n",
       "      <th></th>\n",
       "      <th>CAFs</th>\n",
       "      <th>Cancer_Epithelial</th>\n",
       "      <th>Myeloid</th>\n",
       "      <th>Normal_Epithelial</th>\n",
       "      <th>T-cells</th>\n",
       "    </tr>\n",
       "  </thead>\n",
       "  <tbody>\n",
       "    <tr>\n",
       "      <th>location_0</th>\n",
       "      <td>0.333333</td>\n",
       "      <td>0.0</td>\n",
       "      <td>0.000000</td>\n",
       "      <td>0.0</td>\n",
       "      <td>0.666667</td>\n",
       "    </tr>\n",
       "    <tr>\n",
       "      <th>location_1</th>\n",
       "      <td>0.500000</td>\n",
       "      <td>0.0</td>\n",
       "      <td>0.000000</td>\n",
       "      <td>0.0</td>\n",
       "      <td>0.500000</td>\n",
       "    </tr>\n",
       "    <tr>\n",
       "      <th>location_2</th>\n",
       "      <td>0.545455</td>\n",
       "      <td>0.0</td>\n",
       "      <td>0.181818</td>\n",
       "      <td>0.0</td>\n",
       "      <td>0.272727</td>\n",
       "    </tr>\n",
       "    <tr>\n",
       "      <th>location_3</th>\n",
       "      <td>0.625000</td>\n",
       "      <td>0.0</td>\n",
       "      <td>0.375000</td>\n",
       "      <td>0.0</td>\n",
       "      <td>0.000000</td>\n",
       "    </tr>\n",
       "    <tr>\n",
       "      <th>location_4</th>\n",
       "      <td>0.444444</td>\n",
       "      <td>0.0</td>\n",
       "      <td>0.555556</td>\n",
       "      <td>0.0</td>\n",
       "      <td>0.000000</td>\n",
       "    </tr>\n",
       "  </tbody>\n",
       "</table>\n",
       "</div>"
      ],
      "text/plain": [
       "                CAFs  Cancer_Epithelial   Myeloid  Normal_Epithelial   T-cells\n",
       "location_0  0.333333                0.0  0.000000                0.0  0.666667\n",
       "location_1  0.500000                0.0  0.000000                0.0  0.500000\n",
       "location_2  0.545455                0.0  0.181818                0.0  0.272727\n",
       "location_3  0.625000                0.0  0.375000                0.0  0.000000\n",
       "location_4  0.444444                0.0  0.555556                0.0  0.000000"
      ]
     },
     "execution_count": 4,
     "metadata": {},
     "output_type": "execute_result"
    }
   ],
   "source": [
    "# Load ground-truth proportions\n",
    "data_path = '../data/simu_5/'\n",
    "prop_df = pd.read_csv(os.path.join(data_path, 'proportions.st_synth.csv'), index_col=0)\n",
    "mem_df = pd.read_csv(os.path.join(data_path, 'members.st_synth.csv'), index_col=0)\n",
    "prop_df.head()"
   ]
  },
  {
   "cell_type": "code",
   "execution_count": 5,
   "id": "52948f7e",
   "metadata": {},
   "outputs": [
    {
     "data": {
      "text/plain": [
       "AnnData object with n_obs × n_vars = 2500 × 29631\n",
       "    obsm: 'location'"
      ]
     },
     "execution_count": 5,
     "metadata": {},
     "output_type": "execute_result"
    }
   ],
   "source": [
    "# Load simulated ST data\n",
    "adata_st = sc.AnnData(pd.read_csv(os.path.join(data_path, 'counts.st_synth.csv'), index_col=0))\n",
    "\n",
    "# Add spatial locations\n",
    "xx, yy = np.meshgrid(np.arange(50), np.arange(50), indexing='ij')\n",
    "xx, yy = xx.flatten(), yy.flatten()\n",
    "adata_st.obsm[\"location\"] = np.column_stack((yy, xx))\n",
    "\n",
    "adata_st"
   ]
  },
  {
   "cell_type": "markdown",
   "id": "79609f79",
   "metadata": {},
   "source": [
    "#### Run BayesTME"
   ]
  },
  {
   "cell_type": "code",
   "execution_count": 7,
   "id": "d77d01e7-18eb-4109-9e6d-f16a2941bc7b",
   "metadata": {},
   "outputs": [],
   "source": [
    "# Filtering genes\n",
    "stddev_filtered = gene_filtering.select_top_genes_by_standard_deviation(\n",
    "    stdata, n_gene=1000)\n",
    "\n",
    "spot_threshold_filtered = gene_filtering.filter_genes_by_spot_threshold(\n",
    "    stddev_filtered, spot_threshold=0.95)\n",
    "\n",
    "stdata_filtered = gene_filtering.filter_ribosome_genes(spot_threshold_filtered)"
   ]
  },
  {
   "cell_type": "code",
   "execution_count": 8,
   "id": "2f43adec-d8f2-4171-a742-ce8a3c4bcbba",
   "metadata": {},
   "outputs": [
    {
     "name": "stdout",
     "output_type": "stream",
     "text": [
      "788/29631 genes selected\n"
     ]
    }
   ],
   "source": [
    "print('{}/{} genes selected'.format(len(stdata_filtered.gene_names), len(stdata.gene_names)))"
   ]
  },
  {
   "cell_type": "markdown",
   "id": "1871c6c7-6a54-430e-bfdf-0f51103a1a77",
   "metadata": {},
   "source": [
    "Number of cell types known apriori (`k=5`), set smoothing parameter $\\lambda=1000$"
   ]
  },
  {
   "cell_type": "code",
   "execution_count": 9,
   "id": "8b5a059c-635b-46b4-8279-b7f04dc72762",
   "metadata": {},
   "outputs": [
    {
     "name": "stderr",
     "output_type": "stream",
     "text": [
      "Deconvolution:   0%|                                                                                                          | 0/200 [3:36:28<?, ?it/s]\n",
      "\n",
      "KeyboardInterrupt\n",
      "\n"
     ]
    }
   ],
   "source": [
    "deconvolution_result = deconvolution.deconvolve(\n",
    "    reads=stdata_filtered.reads,\n",
    "    edges=stdata_filtered.edges,\n",
    "    n_gene=1000,\n",
    "    n_components=5,\n",
    "    lam2=1000,\n",
    "    n_samples=100,\n",
    "    n_burnin=100,\n",
    "    n_thin=1,\n",
    "    bkg=False,\n",
    "    lda=False)"
   ]
  },
  {
   "cell_type": "markdown",
   "id": "014fcbd3-9657-44d3-aedb-0ec02f7d1df4",
   "metadata": {},
   "source": [
    "### (2). Fine-grained cell-type simulation (`simu_10`)"
   ]
  },
  {
   "cell_type": "code",
   "execution_count": null,
   "id": "7c2a1407",
   "metadata": {},
   "outputs": [],
   "source": []
  }
 ],
 "metadata": {
  "kernelspec": {
   "display_name": "Python 3 (ipykernel)",
   "language": "python",
   "name": "python3"
  },
  "language_info": {
   "codemirror_mode": {
    "name": "ipython",
    "version": 3
   },
   "file_extension": ".py",
   "mimetype": "text/x-python",
   "name": "python",
   "nbconvert_exporter": "python",
   "pygments_lexer": "ipython3",
   "version": "3.8.3"
  }
 },
 "nbformat": 4,
 "nbformat_minor": 5
}
